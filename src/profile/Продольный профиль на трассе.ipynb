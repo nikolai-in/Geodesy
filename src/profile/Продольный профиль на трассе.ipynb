{
 "cells": [
  {
   "cell_type": "code",
   "execution_count": 1,
   "outputs": [],
   "source": [
    "import pandas as pd\n",
    "import math"
   ],
   "metadata": {
    "collapsed": false
   }
  },
  {
   "cell_type": "code",
   "execution_count": 2,
   "metadata": {
    "collapsed": true
   },
   "outputs": [],
   "source": [
    "# Импорт компосовской херни\n",
    "import pythoncom\n",
    "from win32com.client import Dispatch, gencache\n",
    "\n",
    "import LDefin2D\n",
    "import MiscellaneousHelpers as MH"
   ]
  },
  {
   "cell_type": "code",
   "execution_count": 3,
   "outputs": [],
   "source": [
    "#  Подключим константы API Компас\n",
    "kompas6_constants = gencache.EnsureModule(\"{75C9F5D0-B5B8-4526-8681-9903C567D2ED}\", 0, 1, 0).constants\n",
    "kompas6_constants_3d = gencache.EnsureModule(\"{2CAF168C-7961-4B90-9DA2-701419BEEFE3}\", 0, 1, 0).constants\n",
    "\n",
    "#  Подключим описание интерфейсов API5\n",
    "kompas6_api5_module = gencache.EnsureModule(\"{0422828C-F174-495E-AC5D-D31014DBBE87}\", 0, 1, 0)\n",
    "kompas_object = kompas6_api5_module.KompasObject(\n",
    "    Dispatch(\"Kompas.Application.5\")._oleobj_.QueryInterface(kompas6_api5_module.KompasObject.CLSID,\n",
    "                                                             pythoncom.IID_IDispatch))\n",
    "MH.iKompasObject = kompas_object\n",
    "\n",
    "#  Подключим описание интерфейсов API7\n",
    "kompas_api7_module = gencache.EnsureModule(\"{69AC2981-37C0-4379-84FD-5DD2F3C0A520}\", 0, 1, 0)\n",
    "application = kompas_api7_module.IApplication(\n",
    "    Dispatch(\"Kompas.Application.7\")._oleobj_.QueryInterface(kompas_api7_module.IApplication.CLSID,\n",
    "                                                             pythoncom.IID_IDispatch))\n",
    "MH.iApplication = application\n",
    "\n",
    "Documents = application.Documents\n",
    "#  Получим активный документ\n",
    "kompas_document = application.ActiveDocument\n",
    "kompas_document_2d = kompas_api7_module.IKompasDocument2D(kompas_document)\n",
    "iDocument2D = kompas_object.ActiveDocument2D()"
   ],
   "metadata": {
    "collapsed": false
   }
  },
  {
   "cell_type": "code",
   "execution_count": 4,
   "outputs": [
    {
     "data": {
      "text/plain": "   №№ точек  Отметки H, м  Unnamed: 2          ПО  Unnamed: 4  Unnamed: 5  \\\n0      ПК 0      105.6710         NaN  103.500000         NaN         NaN   \n1      ПК 1      103.1330         NaN  102.553846         NaN         NaN   \n2      ПК 2       98.3440         NaN  101.607692         NaN  101.607692   \n3        35       96.2870         NaN    0.000000         NaN         NaN   \n4      ПК 3       96.3990         NaN  100.661538         NaN         NaN   \n5      ПК 4      101.0170         NaN   99.715385         NaN         NaN   \n6        71      102.6655         NaN    0.000000         NaN         NaN   \n7      ПК 5      102.1640         NaN   98.769231         NaN         NaN   \n8      ПК 6       99.6640         NaN   97.823077         NaN         NaN   \n9      ПК 7       94.8690         NaN   96.876923         NaN         NaN   \n10     ПК 8       93.1890         NaN   95.930769         NaN         NaN   \n11       29       91.1825         NaN    0.000000         NaN         NaN   \n12     ПК 9       91.9040         NaN   94.984615         NaN         NaN   \n13    ПК 10       94.1000         NaN   94.038462         NaN         NaN   \n14       75       95.2360         NaN    0.000000         NaN         NaN   \n15    ПК 11       93.9740         NaN   93.092308         NaN         NaN   \n16     ПК12       89.4160         NaN   92.146154         NaN         NaN   \n17    ПК 13       87.1740         NaN   91.200000         NaN         NaN   \n18    ПК 14       84.8045         NaN   91.200000         NaN         NaN   \n19       50       83.2030         NaN   91.200000         NaN         NaN   \n20    ПК 15       78.4230         NaN   91.200000         NaN         NaN   \n21       49       83.1970         NaN   91.200000         NaN         NaN   \n22    ПК 16       83.9905         NaN   91.200000         NaN         NaN   \n23    ПК 17       85.8420         NaN   91.200000         NaN         NaN   \n24    ПК 18       87.1580         NaN    1.000000         NaN         NaN   \n25    ПК 19       89.7855         NaN    1.000000         NaN         NaN   \n26       72       87.7460         NaN    1.000000         NaN         NaN   \n27    ПК 20       89.9135         NaN    1.000000         NaN         NaN   \n\n    Unnamed: 6  Unnamed: 7  \n0    91.200000         NaN  \n1     9.461538         0.1  \n2     1.892308         0.2  \n3          NaN         NaN  \n4          NaN         0.3  \n5          NaN         0.4  \n6          NaN         NaN  \n7          NaN         0.5  \n8          NaN         0.6  \n9          NaN         0.7  \n10         NaN         0.8  \n11         NaN         NaN  \n12         NaN         0.9  \n13         NaN         1.0  \n14         NaN         NaN  \n15         NaN         1.1  \n16         NaN         1.2  \n17         NaN         1.3  \n18         NaN         NaN  \n19         NaN         NaN  \n20         NaN         NaN  \n21         NaN         NaN  \n22         NaN         NaN  \n23         NaN         NaN  \n24         NaN         NaN  \n25         NaN         NaN  \n26         NaN         NaN  \n27         NaN         NaN  ",
      "text/html": "<div>\n<style scoped>\n    .dataframe tbody tr th:only-of-type {\n        vertical-align: middle;\n    }\n\n    .dataframe tbody tr th {\n        vertical-align: top;\n    }\n\n    .dataframe thead th {\n        text-align: right;\n    }\n</style>\n<table border=\"1\" class=\"dataframe\">\n  <thead>\n    <tr style=\"text-align: right;\">\n      <th></th>\n      <th>№№ точек</th>\n      <th>Отметки H, м</th>\n      <th>Unnamed: 2</th>\n      <th>ПО</th>\n      <th>Unnamed: 4</th>\n      <th>Unnamed: 5</th>\n      <th>Unnamed: 6</th>\n      <th>Unnamed: 7</th>\n    </tr>\n  </thead>\n  <tbody>\n    <tr>\n      <th>0</th>\n      <td>ПК 0</td>\n      <td>105.6710</td>\n      <td>NaN</td>\n      <td>103.500000</td>\n      <td>NaN</td>\n      <td>NaN</td>\n      <td>91.200000</td>\n      <td>NaN</td>\n    </tr>\n    <tr>\n      <th>1</th>\n      <td>ПК 1</td>\n      <td>103.1330</td>\n      <td>NaN</td>\n      <td>102.553846</td>\n      <td>NaN</td>\n      <td>NaN</td>\n      <td>9.461538</td>\n      <td>0.1</td>\n    </tr>\n    <tr>\n      <th>2</th>\n      <td>ПК 2</td>\n      <td>98.3440</td>\n      <td>NaN</td>\n      <td>101.607692</td>\n      <td>NaN</td>\n      <td>101.607692</td>\n      <td>1.892308</td>\n      <td>0.2</td>\n    </tr>\n    <tr>\n      <th>3</th>\n      <td>35</td>\n      <td>96.2870</td>\n      <td>NaN</td>\n      <td>0.000000</td>\n      <td>NaN</td>\n      <td>NaN</td>\n      <td>NaN</td>\n      <td>NaN</td>\n    </tr>\n    <tr>\n      <th>4</th>\n      <td>ПК 3</td>\n      <td>96.3990</td>\n      <td>NaN</td>\n      <td>100.661538</td>\n      <td>NaN</td>\n      <td>NaN</td>\n      <td>NaN</td>\n      <td>0.3</td>\n    </tr>\n    <tr>\n      <th>5</th>\n      <td>ПК 4</td>\n      <td>101.0170</td>\n      <td>NaN</td>\n      <td>99.715385</td>\n      <td>NaN</td>\n      <td>NaN</td>\n      <td>NaN</td>\n      <td>0.4</td>\n    </tr>\n    <tr>\n      <th>6</th>\n      <td>71</td>\n      <td>102.6655</td>\n      <td>NaN</td>\n      <td>0.000000</td>\n      <td>NaN</td>\n      <td>NaN</td>\n      <td>NaN</td>\n      <td>NaN</td>\n    </tr>\n    <tr>\n      <th>7</th>\n      <td>ПК 5</td>\n      <td>102.1640</td>\n      <td>NaN</td>\n      <td>98.769231</td>\n      <td>NaN</td>\n      <td>NaN</td>\n      <td>NaN</td>\n      <td>0.5</td>\n    </tr>\n    <tr>\n      <th>8</th>\n      <td>ПК 6</td>\n      <td>99.6640</td>\n      <td>NaN</td>\n      <td>97.823077</td>\n      <td>NaN</td>\n      <td>NaN</td>\n      <td>NaN</td>\n      <td>0.6</td>\n    </tr>\n    <tr>\n      <th>9</th>\n      <td>ПК 7</td>\n      <td>94.8690</td>\n      <td>NaN</td>\n      <td>96.876923</td>\n      <td>NaN</td>\n      <td>NaN</td>\n      <td>NaN</td>\n      <td>0.7</td>\n    </tr>\n    <tr>\n      <th>10</th>\n      <td>ПК 8</td>\n      <td>93.1890</td>\n      <td>NaN</td>\n      <td>95.930769</td>\n      <td>NaN</td>\n      <td>NaN</td>\n      <td>NaN</td>\n      <td>0.8</td>\n    </tr>\n    <tr>\n      <th>11</th>\n      <td>29</td>\n      <td>91.1825</td>\n      <td>NaN</td>\n      <td>0.000000</td>\n      <td>NaN</td>\n      <td>NaN</td>\n      <td>NaN</td>\n      <td>NaN</td>\n    </tr>\n    <tr>\n      <th>12</th>\n      <td>ПК 9</td>\n      <td>91.9040</td>\n      <td>NaN</td>\n      <td>94.984615</td>\n      <td>NaN</td>\n      <td>NaN</td>\n      <td>NaN</td>\n      <td>0.9</td>\n    </tr>\n    <tr>\n      <th>13</th>\n      <td>ПК 10</td>\n      <td>94.1000</td>\n      <td>NaN</td>\n      <td>94.038462</td>\n      <td>NaN</td>\n      <td>NaN</td>\n      <td>NaN</td>\n      <td>1.0</td>\n    </tr>\n    <tr>\n      <th>14</th>\n      <td>75</td>\n      <td>95.2360</td>\n      <td>NaN</td>\n      <td>0.000000</td>\n      <td>NaN</td>\n      <td>NaN</td>\n      <td>NaN</td>\n      <td>NaN</td>\n    </tr>\n    <tr>\n      <th>15</th>\n      <td>ПК 11</td>\n      <td>93.9740</td>\n      <td>NaN</td>\n      <td>93.092308</td>\n      <td>NaN</td>\n      <td>NaN</td>\n      <td>NaN</td>\n      <td>1.1</td>\n    </tr>\n    <tr>\n      <th>16</th>\n      <td>ПК12</td>\n      <td>89.4160</td>\n      <td>NaN</td>\n      <td>92.146154</td>\n      <td>NaN</td>\n      <td>NaN</td>\n      <td>NaN</td>\n      <td>1.2</td>\n    </tr>\n    <tr>\n      <th>17</th>\n      <td>ПК 13</td>\n      <td>87.1740</td>\n      <td>NaN</td>\n      <td>91.200000</td>\n      <td>NaN</td>\n      <td>NaN</td>\n      <td>NaN</td>\n      <td>1.3</td>\n    </tr>\n    <tr>\n      <th>18</th>\n      <td>ПК 14</td>\n      <td>84.8045</td>\n      <td>NaN</td>\n      <td>91.200000</td>\n      <td>NaN</td>\n      <td>NaN</td>\n      <td>NaN</td>\n      <td>NaN</td>\n    </tr>\n    <tr>\n      <th>19</th>\n      <td>50</td>\n      <td>83.2030</td>\n      <td>NaN</td>\n      <td>91.200000</td>\n      <td>NaN</td>\n      <td>NaN</td>\n      <td>NaN</td>\n      <td>NaN</td>\n    </tr>\n    <tr>\n      <th>20</th>\n      <td>ПК 15</td>\n      <td>78.4230</td>\n      <td>NaN</td>\n      <td>91.200000</td>\n      <td>NaN</td>\n      <td>NaN</td>\n      <td>NaN</td>\n      <td>NaN</td>\n    </tr>\n    <tr>\n      <th>21</th>\n      <td>49</td>\n      <td>83.1970</td>\n      <td>NaN</td>\n      <td>91.200000</td>\n      <td>NaN</td>\n      <td>NaN</td>\n      <td>NaN</td>\n      <td>NaN</td>\n    </tr>\n    <tr>\n      <th>22</th>\n      <td>ПК 16</td>\n      <td>83.9905</td>\n      <td>NaN</td>\n      <td>91.200000</td>\n      <td>NaN</td>\n      <td>NaN</td>\n      <td>NaN</td>\n      <td>NaN</td>\n    </tr>\n    <tr>\n      <th>23</th>\n      <td>ПК 17</td>\n      <td>85.8420</td>\n      <td>NaN</td>\n      <td>91.200000</td>\n      <td>NaN</td>\n      <td>NaN</td>\n      <td>NaN</td>\n      <td>NaN</td>\n    </tr>\n    <tr>\n      <th>24</th>\n      <td>ПК 18</td>\n      <td>87.1580</td>\n      <td>NaN</td>\n      <td>1.000000</td>\n      <td>NaN</td>\n      <td>NaN</td>\n      <td>NaN</td>\n      <td>NaN</td>\n    </tr>\n    <tr>\n      <th>25</th>\n      <td>ПК 19</td>\n      <td>89.7855</td>\n      <td>NaN</td>\n      <td>1.000000</td>\n      <td>NaN</td>\n      <td>NaN</td>\n      <td>NaN</td>\n      <td>NaN</td>\n    </tr>\n    <tr>\n      <th>26</th>\n      <td>72</td>\n      <td>87.7460</td>\n      <td>NaN</td>\n      <td>1.000000</td>\n      <td>NaN</td>\n      <td>NaN</td>\n      <td>NaN</td>\n      <td>NaN</td>\n    </tr>\n    <tr>\n      <th>27</th>\n      <td>ПК 20</td>\n      <td>89.9135</td>\n      <td>NaN</td>\n      <td>1.000000</td>\n      <td>NaN</td>\n      <td>NaN</td>\n      <td>NaN</td>\n      <td>NaN</td>\n    </tr>\n  </tbody>\n</table>\n</div>"
     },
     "execution_count": 4,
     "metadata": {},
     "output_type": "execute_result"
    }
   ],
   "source": [
    "df = pd.read_excel('Геодезия.xlsm', sheet_name='pandas')\n",
    "\n",
    "df"
   ],
   "metadata": {
    "collapsed": false
   }
  },
  {
   "cell_type": "code",
   "execution_count": 5,
   "outputs": [],
   "source": [
    "HORIZONTAL_TEXT_AXIS = [i - (84.814180186008 - 84.421252) for i in [84.814180186008, 94.814180186008, 104.814180186008, 108.314180186008, 114.814180186008,\n",
    "                        124.814180186008, 131.914180186008, 134.814180186008, 144.814180186008, 154.814180186008,\n",
    "                        164.814180186008, 167.714180186008, 174.814180186008, 184.814180186008, 192.314180186008,\n",
    "                        194.814180186008, 204.814180186008, 214.814180186008, 224.814180186008, 229.814180186008,\n",
    "                        234.814180186008, 239.714180186008, 244.814180186008, 254.814180186008, 264.814180186008,\n",
    "                        274.814180186008, 282.014180186008, 284.814180186008,] ]\n",
    "\n",
    "POINT_NAMES = [0,1,2,35,3,4,71,5,6,7,8,29,9,10,75,11,12,13,14,50,15,49,16,17,18,19,72,20,]\n",
    "\n",
    "BASELINE = 137.703368\n",
    "\n",
    "Y_MIN = math.floor(min(df[\"Отметки H, м\"])) - 2"
   ],
   "metadata": {
    "collapsed": false
   }
  },
  {
   "cell_type": "code",
   "execution_count": 6,
   "outputs": [],
   "source": [
    "hights = [[HORIZONTAL_TEXT_AXIS[i], df[\"Отметки H, м\"][i], df[\"ПО\"][i]] for i in range(len(POINT_NAMES))]"
   ],
   "metadata": {
    "collapsed": false
   }
  },
  {
   "cell_type": "code",
   "execution_count": 7,
   "outputs": [],
   "source": [
    "def add_layer(id: int, active: bool = True, name: str = None):\n",
    "    obj = iDocument2D.ksLayer(id)\n",
    "    iLayerParam = kompas6_api5_module.ksLayerParam(kompas_object.GetParamStruct(kompas6_constants.ko_LayerParam))\n",
    "    iLayerParam.Init()\n",
    "    if name:\n",
    "        iLayerParam.name = name\n",
    "    iLayerParam.state = int(active)\n",
    "    iDocument2D.ksSetObjParam(obj, iLayerParam, LDefin2D.ALLPARAM)\n",
    "\n",
    "\n",
    "def add_text(text: str, x: float, y: float, angle: float = 0, font_size: float = 2.5):\n",
    "    iParagraphParam = kompas6_api5_module.ksParagraphParam(\n",
    "        kompas_object.GetParamStruct(kompas6_constants.ko_ParagraphParam))\n",
    "    iParagraphParam.Init()\n",
    "    iParagraphParam.x = x\n",
    "    iParagraphParam.y = y\n",
    "    iParagraphParam.ang = angle\n",
    "    iParagraphParam.height = 3.55\n",
    "    iParagraphParam.width = 4\n",
    "    iParagraphParam.hFormat = 0\n",
    "    iParagraphParam.vFormat = 0\n",
    "    iParagraphParam.style = 1\n",
    "    iDocument2D.ksParagraph(iParagraphParam)\n",
    "\n",
    "    iTextLineParam = kompas6_api5_module.ksTextLineParam(\n",
    "        kompas_object.GetParamStruct(kompas6_constants.ko_TextLineParam))\n",
    "    iTextLineParam.Init()\n",
    "    iTextLineParam.style = 1\n",
    "    iTextItemArray = kompas_object.GetDynamicArray(LDefin2D.TEXT_ITEM_ARR)\n",
    "    iTextItemParam = kompas6_api5_module.ksTextItemParam(\n",
    "        kompas_object.GetParamStruct(kompas6_constants.ko_TextItemParam))\n",
    "    iTextItemParam.Init()\n",
    "    iTextItemParam.iSNumb = 0\n",
    "    iTextItemParam.s = text\n",
    "    iTextItemParam.type = 0\n",
    "    iTextItemFont = kompas6_api5_module.ksTextItemFont(iTextItemParam.GetItemFont())\n",
    "    iTextItemFont.Init()\n",
    "    iTextItemFont.bitVector = 4096\n",
    "    iTextItemFont.color = 0\n",
    "    iTextItemFont.fontName = \"GOST type A\"\n",
    "    iTextItemFont.height = font_size\n",
    "    iTextItemFont.ksu = 1\n",
    "    iTextItemArray.ksAddArrayItem(-1, iTextItemParam)\n",
    "    iTextLineParam.SetTextItemArr(iTextItemArray)\n",
    "\n",
    "    iDocument2D.ksTextLine(iTextLineParam)\n",
    "    obj = iDocument2D.ksEndObj()\n",
    "\n"
   ],
   "metadata": {
    "collapsed": false
   }
  },
  {
   "cell_type": "code",
   "execution_count": 8,
   "outputs": [],
   "source": [
    "if input(\"Добавить вертикальную текстовую ось (y/n)? \\n\") == \"y\":\n",
    "    add_layer(1100, True, \"Текст Ось Y\")\n",
    "    x = 79\n",
    "    y = 146.5\n",
    "    n = Y_MIN + 2\n",
    "    for i in range(1, 17):\n",
    "        add_text(n, x, y)\n",
    "        n += 2\n",
    "        y += 10"
   ],
   "metadata": {
    "collapsed": false
   }
  },
  {
   "cell_type": "code",
   "execution_count": 9,
   "outputs": [],
   "source": [
    "if input(\"Добавить 'Отметки земли, м' (y/n)? \\n\") == \"y\":\n",
    "    add_layer(1110, True, \"Отметки земли, м\")\n",
    "    for point in hights:\n",
    "        add_text(\"{:1.3f}\".format(point[1]), point[0] + 1.2, 70.2, 90)"
   ],
   "metadata": {
    "collapsed": false
   }
  },
  {
   "cell_type": "code",
   "execution_count": 10,
   "outputs": [],
   "source": [
    "if input(\"Добавить 'Проектные отметки, м' (y/n)? \\n\") == \"y\":\n",
    "    add_layer(1110, True, \"Проектные отметки, м\")\n",
    "    for point in hights:\n",
    "        add_text(\"{:1.3f}\".format(point[2]), point[0] + 1.2, 95.2, 90)"
   ],
   "metadata": {
    "collapsed": false
   }
  },
  {
   "cell_type": "code",
   "execution_count": 11,
   "outputs": [],
   "source": [
    "if input(\"Рисовать вертикали? (y/n) \\n\") == \"y\":\n",
    "    add_layer(1120, True, \"Вертикали\")\n",
    "    for point in hights:\n",
    "        obj = iDocument2D.ksLineSeg(point[0], BASELINE, point[0],BASELINE + (point[1] - Y_MIN)*5, 2)\n",
    "    if input(\"Соединять вертикали? (y/n) \\n\") == \"y\":\n",
    "        for i in range(len(hights)):\n",
    "                if i == 0:\n",
    "                    continue\n",
    "                obj = iDocument2D.ksLineSeg(hights[i-1][0], BASELINE + (hights[i-1][1] - Y_MIN)*5, hights[i][0],BASELINE + (hights[i][1] - Y_MIN)*5, 2)\n"
   ],
   "metadata": {
    "collapsed": false
   }
  },
  {
   "cell_type": "code",
   "execution_count": 12,
   "outputs": [
    {
     "name": "stdout",
     "output_type": "stream",
     "text": [
      "Done!\n"
     ]
    }
   ],
   "source": [
    "print('Done!')"
   ],
   "metadata": {
    "collapsed": false
   }
  },
  {
   "cell_type": "code",
   "execution_count": 13,
   "outputs": [],
   "source": [
    "if input(\"Добавить 'Отметки земли, м' (y/n)? \\n\") == \"y\":\n",
    "    add_layer(1110, True, \"Отметки земли, м\")\n",
    "    for point in hights:\n",
    "        add_text(\"{:1.3f}\".format(point[1]), point[0] + 1.2, 70.2, 90)"
   ],
   "metadata": {
    "collapsed": false
   }
  },
  {
   "cell_type": "code",
   "execution_count": 14,
   "outputs": [
    {
     "data": {
      "text/plain": "76"
     },
     "execution_count": 14,
     "metadata": {},
     "output_type": "execute_result"
    }
   ],
   "source": [
    "Y_MIN"
   ],
   "metadata": {
    "collapsed": false
   }
  }
 ],
 "metadata": {
  "kernelspec": {
   "display_name": "Python 3",
   "language": "python",
   "name": "python3"
  },
  "language_info": {
   "codemirror_mode": {
    "name": "ipython",
    "version": 2
   },
   "file_extension": ".py",
   "mimetype": "text/x-python",
   "name": "python",
   "nbconvert_exporter": "python",
   "pygments_lexer": "ipython2",
   "version": "2.7.6"
  }
 },
 "nbformat": 4,
 "nbformat_minor": 0
}
