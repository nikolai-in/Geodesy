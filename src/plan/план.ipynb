{
 "cells": [
  {
   "cell_type": "markdown",
   "source": [
    "![https://www.pngmart.com/files/5/Spaghetti-Transparent-Background.png](https://www.pngmart.com/files/5/Spaghetti-Transparent-Background.png)"
   ],
   "metadata": {
    "collapsed": false
   }
  },
  {
   "cell_type": "code",
   "execution_count": 51,
   "metadata": {
    "collapsed": true
   },
   "outputs": [],
   "source": [
    "import pandas as pd\n",
    "from math import *\n",
    "import numpy as np\n",
    "from scipy import interpolate\n",
    "\n",
    "# Импорт компосовской херни\n",
    "import pythoncom\n",
    "from win32com.client import Dispatch, gencache\n",
    "\n",
    "import LDefin2D\n",
    "import MiscellaneousHelpers as MH\n",
    "\n"
   ]
  },
  {
   "cell_type": "code",
   "execution_count": 52,
   "outputs": [],
   "source": [
    "#  Подключим константы API Компас\n",
    "kompas6_constants = gencache.EnsureModule(\"{75C9F5D0-B5B8-4526-8681-9903C567D2ED}\", 0, 1, 0).constants\n",
    "kompas6_constants_3d = gencache.EnsureModule(\"{2CAF168C-7961-4B90-9DA2-701419BEEFE3}\", 0, 1, 0).constants\n",
    "\n",
    "#  Подключим описание интерфейсов API5\n",
    "kompas6_api5_module = gencache.EnsureModule(\"{0422828C-F174-495E-AC5D-D31014DBBE87}\", 0, 1, 0)\n",
    "kompas_object = kompas6_api5_module.KompasObject(\n",
    "    Dispatch(\"Kompas.Application.5\")._oleobj_.QueryInterface(kompas6_api5_module.KompasObject.CLSID,\n",
    "                                                             pythoncom.IID_IDispatch))\n",
    "MH.iKompasObject = kompas_object\n",
    "\n",
    "#  Подключим описание интерфейсов API7\n",
    "kompas_api7_module = gencache.EnsureModule(\"{69AC2981-37C0-4379-84FD-5DD2F3C0A520}\", 0, 1, 0)\n",
    "application = kompas_api7_module.IApplication(\n",
    "    Dispatch(\"Kompas.Application.7\")._oleobj_.QueryInterface(kompas_api7_module.IApplication.CLSID,\n",
    "                                                             pythoncom.IID_IDispatch))\n",
    "MH.iApplication = application\n",
    "\n",
    "documents = application.Documents\n",
    "#  Получим активный документ\n",
    "kompas_document = application.ActiveDocument\n",
    "kompas_document_2d = kompas_api7_module.IKompasDocument2D(kompas_document)\n",
    "iDocument2D = kompas_object.ActiveDocument2D()"
   ],
   "metadata": {
    "collapsed": false
   }
  },
  {
   "cell_type": "code",
   "execution_count": 53,
   "outputs": [
    {
     "data": {
      "text/plain": "     №№            X            Y           H\n0  ПЗ41  1464.420000  2371.190000  129.020000\n1   111  1629.315882  2375.331148  133.378038\n2   112  1595.704533  2499.443419  129.468719\n3   113  1540.781188  2666.469485  130.095976\n4  ПЗ42  1335.770000  2585.420000  128.410000",
      "text/html": "<div>\n<style scoped>\n    .dataframe tbody tr th:only-of-type {\n        vertical-align: middle;\n    }\n\n    .dataframe tbody tr th {\n        vertical-align: top;\n    }\n\n    .dataframe thead th {\n        text-align: right;\n    }\n</style>\n<table border=\"1\" class=\"dataframe\">\n  <thead>\n    <tr style=\"text-align: right;\">\n      <th></th>\n      <th>№№</th>\n      <th>X</th>\n      <th>Y</th>\n      <th>H</th>\n    </tr>\n  </thead>\n  <tbody>\n    <tr>\n      <th>0</th>\n      <td>ПЗ41</td>\n      <td>1464.420000</td>\n      <td>2371.190000</td>\n      <td>129.020000</td>\n    </tr>\n    <tr>\n      <th>1</th>\n      <td>111</td>\n      <td>1629.315882</td>\n      <td>2375.331148</td>\n      <td>133.378038</td>\n    </tr>\n    <tr>\n      <th>2</th>\n      <td>112</td>\n      <td>1595.704533</td>\n      <td>2499.443419</td>\n      <td>129.468719</td>\n    </tr>\n    <tr>\n      <th>3</th>\n      <td>113</td>\n      <td>1540.781188</td>\n      <td>2666.469485</td>\n      <td>130.095976</td>\n    </tr>\n    <tr>\n      <th>4</th>\n      <td>ПЗ42</td>\n      <td>1335.770000</td>\n      <td>2585.420000</td>\n      <td>128.410000</td>\n    </tr>\n  </tbody>\n</table>\n</div>"
     },
     "execution_count": 53,
     "metadata": {},
     "output_type": "execute_result"
    }
   ],
   "source": [
    "table_79 = pd.read_excel('../../Геодезия.xlsm', sheet_name='pandasPlan79')\n",
    "\n",
    "table_79"
   ],
   "metadata": {
    "collapsed": false
   }
  },
  {
   "cell_type": "code",
   "execution_count": 54,
   "outputs": [
    {
     "data": {
      "text/plain": "             №№  Отсчет по дальномеру kl, м  Отсчет по гориз. Кругу  \\\n0   ПЗ41 - ПЗ42                         NaN                     NaN   \n1             1                        88.0               12.033333   \n2             2                       111.0               78.183333   \n3             3                       155.0              136.400000   \n4             4                       132.0              144.916667   \n5             5                       141.0              195.450000   \n6    111 - ПЗ41                         NaN                     NaN   \n7             6                        94.0              125.416667   \n8             7                       131.0              181.350000   \n9             8                       128.0              231.250000   \n10            9                       124.0              337.600000   \n11    112 - 111                         NaN                     NaN   \n12           10                        87.0              104.266667   \n13           11                       132.0              253.150000   \n14           12                       127.0              277.800000   \n15           13                        53.0              279.666667   \n16    113 - 112                         NaN                     NaN   \n17           14                       114.0               46.983333   \n18           15                        82.0              101.450000   \n19           16                        84.5              265.416667   \n20           17                        81.5              317.433333   \n21   ПЗ42 - 113                         NaN                     NaN   \n22           18                        54.0               12.950000   \n23           19                       123.0              178.016667   \n24           20                        90.0              178.550000   \n25           21                       148.0              234.933333   \n26           22                        76.5              275.850000   \n27           23                        96.0              334.766667   \n\n    Отметки реечн. точек Hр.т., м  \n0                             NaN  \n1                      126.330000  \n2                      125.320000  \n3                      125.730000  \n4                      125.690000  \n5                      129.100000  \n6                             NaN  \n7                      130.428038  \n8                      130.718038  \n9                      129.328038  \n10                     129.228038  \n11                            NaN  \n12                     128.658719  \n13                     128.468719  \n14                     127.478719  \n15                     128.978719  \n16                            NaN  \n17                     128.405976  \n18                     128.735976  \n19                     130.585976  \n20                     130.495976  \n21                            NaN  \n22                     130.110000  \n23                     124.690000  \n24                     124.720000  \n25                     125.010000  \n26                     128.010000  \n27                     130.110000  ",
      "text/html": "<div>\n<style scoped>\n    .dataframe tbody tr th:only-of-type {\n        vertical-align: middle;\n    }\n\n    .dataframe tbody tr th {\n        vertical-align: top;\n    }\n\n    .dataframe thead th {\n        text-align: right;\n    }\n</style>\n<table border=\"1\" class=\"dataframe\">\n  <thead>\n    <tr style=\"text-align: right;\">\n      <th></th>\n      <th>№№</th>\n      <th>Отсчет по дальномеру kl, м</th>\n      <th>Отсчет по гориз. Кругу</th>\n      <th>Отметки реечн. точек Hр.т., м</th>\n    </tr>\n  </thead>\n  <tbody>\n    <tr>\n      <th>0</th>\n      <td>ПЗ41 - ПЗ42</td>\n      <td>NaN</td>\n      <td>NaN</td>\n      <td>NaN</td>\n    </tr>\n    <tr>\n      <th>1</th>\n      <td>1</td>\n      <td>88.0</td>\n      <td>12.033333</td>\n      <td>126.330000</td>\n    </tr>\n    <tr>\n      <th>2</th>\n      <td>2</td>\n      <td>111.0</td>\n      <td>78.183333</td>\n      <td>125.320000</td>\n    </tr>\n    <tr>\n      <th>3</th>\n      <td>3</td>\n      <td>155.0</td>\n      <td>136.400000</td>\n      <td>125.730000</td>\n    </tr>\n    <tr>\n      <th>4</th>\n      <td>4</td>\n      <td>132.0</td>\n      <td>144.916667</td>\n      <td>125.690000</td>\n    </tr>\n    <tr>\n      <th>5</th>\n      <td>5</td>\n      <td>141.0</td>\n      <td>195.450000</td>\n      <td>129.100000</td>\n    </tr>\n    <tr>\n      <th>6</th>\n      <td>111 - ПЗ41</td>\n      <td>NaN</td>\n      <td>NaN</td>\n      <td>NaN</td>\n    </tr>\n    <tr>\n      <th>7</th>\n      <td>6</td>\n      <td>94.0</td>\n      <td>125.416667</td>\n      <td>130.428038</td>\n    </tr>\n    <tr>\n      <th>8</th>\n      <td>7</td>\n      <td>131.0</td>\n      <td>181.350000</td>\n      <td>130.718038</td>\n    </tr>\n    <tr>\n      <th>9</th>\n      <td>8</td>\n      <td>128.0</td>\n      <td>231.250000</td>\n      <td>129.328038</td>\n    </tr>\n    <tr>\n      <th>10</th>\n      <td>9</td>\n      <td>124.0</td>\n      <td>337.600000</td>\n      <td>129.228038</td>\n    </tr>\n    <tr>\n      <th>11</th>\n      <td>112 - 111</td>\n      <td>NaN</td>\n      <td>NaN</td>\n      <td>NaN</td>\n    </tr>\n    <tr>\n      <th>12</th>\n      <td>10</td>\n      <td>87.0</td>\n      <td>104.266667</td>\n      <td>128.658719</td>\n    </tr>\n    <tr>\n      <th>13</th>\n      <td>11</td>\n      <td>132.0</td>\n      <td>253.150000</td>\n      <td>128.468719</td>\n    </tr>\n    <tr>\n      <th>14</th>\n      <td>12</td>\n      <td>127.0</td>\n      <td>277.800000</td>\n      <td>127.478719</td>\n    </tr>\n    <tr>\n      <th>15</th>\n      <td>13</td>\n      <td>53.0</td>\n      <td>279.666667</td>\n      <td>128.978719</td>\n    </tr>\n    <tr>\n      <th>16</th>\n      <td>113 - 112</td>\n      <td>NaN</td>\n      <td>NaN</td>\n      <td>NaN</td>\n    </tr>\n    <tr>\n      <th>17</th>\n      <td>14</td>\n      <td>114.0</td>\n      <td>46.983333</td>\n      <td>128.405976</td>\n    </tr>\n    <tr>\n      <th>18</th>\n      <td>15</td>\n      <td>82.0</td>\n      <td>101.450000</td>\n      <td>128.735976</td>\n    </tr>\n    <tr>\n      <th>19</th>\n      <td>16</td>\n      <td>84.5</td>\n      <td>265.416667</td>\n      <td>130.585976</td>\n    </tr>\n    <tr>\n      <th>20</th>\n      <td>17</td>\n      <td>81.5</td>\n      <td>317.433333</td>\n      <td>130.495976</td>\n    </tr>\n    <tr>\n      <th>21</th>\n      <td>ПЗ42 - 113</td>\n      <td>NaN</td>\n      <td>NaN</td>\n      <td>NaN</td>\n    </tr>\n    <tr>\n      <th>22</th>\n      <td>18</td>\n      <td>54.0</td>\n      <td>12.950000</td>\n      <td>130.110000</td>\n    </tr>\n    <tr>\n      <th>23</th>\n      <td>19</td>\n      <td>123.0</td>\n      <td>178.016667</td>\n      <td>124.690000</td>\n    </tr>\n    <tr>\n      <th>24</th>\n      <td>20</td>\n      <td>90.0</td>\n      <td>178.550000</td>\n      <td>124.720000</td>\n    </tr>\n    <tr>\n      <th>25</th>\n      <td>21</td>\n      <td>148.0</td>\n      <td>234.933333</td>\n      <td>125.010000</td>\n    </tr>\n    <tr>\n      <th>26</th>\n      <td>22</td>\n      <td>76.5</td>\n      <td>275.850000</td>\n      <td>128.010000</td>\n    </tr>\n    <tr>\n      <th>27</th>\n      <td>23</td>\n      <td>96.0</td>\n      <td>334.766667</td>\n      <td>130.110000</td>\n    </tr>\n  </tbody>\n</table>\n</div>"
     },
     "execution_count": 54,
     "metadata": {},
     "output_type": "execute_result"
    }
   ],
   "source": [
    "table_10 = pd.read_excel('../../Геодезия.xlsm', sheet_name='pandasPlan10')\n",
    "\n",
    "table_10"
   ],
   "metadata": {
    "collapsed": false
   }
  },
  {
   "cell_type": "code",
   "execution_count": 55,
   "outputs": [],
   "source": [
    "def add_layer(id: int, state: int = 3, name: str = None):\n",
    "    obj = iDocument2D.ksLayer(id)\n",
    "    iLayerParam = kompas6_api5_module.ksLayerParam(kompas_object.GetParamStruct(kompas6_constants.ko_LayerParam))\n",
    "    iLayerParam.Init()\n",
    "    if name:\n",
    "        iLayerParam.name = name\n",
    "    iLayerParam.state = state\n",
    "    iDocument2D.ksSetObjParam(obj, iLayerParam, LDefin2D.ALLPARAM)\n",
    "\n",
    "\n",
    "def add_view(name: str, scale: float = 1, x=0, y=0):\n",
    "    iViewParam = kompas6_api5_module.ksViewParam(kompas_object.GetParamStruct(kompas6_constants.ko_ViewParam))\n",
    "    iViewParam.Init()\n",
    "    iViewParam.angle = 0\n",
    "    iViewParam.color = 0\n",
    "    iViewParam.name = name\n",
    "    iViewParam.scale_ = scale\n",
    "    iViewParam.state = 3\n",
    "    iViewParam.x = x\n",
    "    iViewParam.y = y\n",
    "    iDocument2D.ksCreateSheetView(iViewParam, 0)\n",
    "\n",
    "\n",
    "def add_text(text: str, x: float, y: float, angle: float = 0, font_size: float = 2.5, color = 0):\n",
    "    iParagraphParam = kompas6_api5_module.ksParagraphParam(\n",
    "        kompas_object.GetParamStruct(kompas6_constants.ko_ParagraphParam))\n",
    "    iParagraphParam.Init()\n",
    "    iParagraphParam.x = x\n",
    "    iParagraphParam.y = y\n",
    "    iParagraphParam.ang = angle\n",
    "    iParagraphParam.height = 3.55\n",
    "    iParagraphParam.width = 4\n",
    "    iParagraphParam.hFormat = 0\n",
    "    iParagraphParam.vFormat = 0\n",
    "    iParagraphParam.style = 1\n",
    "    iDocument2D.ksParagraph(iParagraphParam)\n",
    "\n",
    "    iTextLineParam = kompas6_api5_module.ksTextLineParam(\n",
    "        kompas_object.GetParamStruct(kompas6_constants.ko_TextLineParam))\n",
    "    iTextLineParam.Init()\n",
    "    iTextLineParam.style = 1\n",
    "    iTextItemArray = kompas_object.GetDynamicArray(LDefin2D.TEXT_ITEM_ARR)\n",
    "    iTextItemParam = kompas6_api5_module.ksTextItemParam(\n",
    "        kompas_object.GetParamStruct(kompas6_constants.ko_TextItemParam))\n",
    "    iTextItemParam.Init()\n",
    "    iTextItemParam.iSNumb = 0\n",
    "    iTextItemParam.s = text\n",
    "    iTextItemParam.type = 0\n",
    "    iTextItemFont = kompas6_api5_module.ksTextItemFont(iTextItemParam.GetItemFont())\n",
    "    iTextItemFont.Init()\n",
    "    iTextItemFont.bitVector = 4096\n",
    "    iTextItemFont.color = color\n",
    "    iTextItemFont.fontName = \"GOST type A\"\n",
    "    iTextItemFont.height = font_size\n",
    "    iTextItemFont.ksu = 1\n",
    "    iTextItemArray.ksAddArrayItem(-1, iTextItemParam)\n",
    "    iTextLineParam.SetTextItemArr(iTextItemArray)\n",
    "\n",
    "    iDocument2D.ksTextLine(iTextLineParam)\n",
    "    obj = iDocument2D.ksEndObj()\n",
    "\n"
   ],
   "metadata": {
    "collapsed": false
   }
  },
  {
   "cell_type": "code",
   "execution_count": 56,
   "outputs": [],
   "source": [
    "ONE_TO_SCALE = 2000\n",
    "\n",
    "add_view(\"План\", 1/ONE_TO_SCALE)\n",
    "add_layer(1, 3,\"Основные Точки\")\n",
    "\n",
    "for i, row in table_79.iterrows():\n",
    "    # X и Y перевёрнуты\n",
    "    obj = iDocument2D.ksCircle(row[\"Y\"] * 1000, row[\"X\"] * 1000, 1000, 1)\n",
    "    add_text(str(row[\"№№\"]) + \" (\" + str(\"{:1.2f}\".format(row[\"H\"])).replace(\".\", \",\") + \")\", row[\"Y\"] * 1000 - 15000, row[\"X\"] * 1000 - 7000)\n"
   ],
   "metadata": {
    "collapsed": false
   }
  },
  {
   "cell_type": "code",
   "execution_count": 57,
   "outputs": [],
   "source": [
    "# https://stackoverflow.com/questions/7586063/how-to-calculate-the-angle-between-a-line-and-the-horizontal-axis\n",
    "def angle_trunc(a):\n",
    "    while a < 0.0:\n",
    "        a += pi * 2\n",
    "    return a\n",
    "\n",
    "def getAngleBetweenPoints(x_orig, y_orig, x_landmark, y_landmark):\n",
    "    deltaY = y_landmark - y_orig\n",
    "    deltaX = x_landmark - x_orig\n",
    "    return angle_trunc(atan2(deltaY, deltaX))"
   ],
   "metadata": {
    "collapsed": false
   }
  },
  {
   "cell_type": "code",
   "execution_count": 58,
   "outputs": [
    {
     "data": {
      "text/plain": "             №№  Отсчет по дальномеру kl, м  Отсчет по гориз. Кругу  \\\n0   ПЗ41 - ПЗ42                         NaN                     NaN   \n1             1                        88.0               12.033333   \n2             2                       111.0               78.183333   \n3             3                       155.0              136.400000   \n4             4                       132.0              144.916667   \n5             5                       141.0              195.450000   \n6    111 - ПЗ41                         NaN                     NaN   \n7             6                        94.0              125.416667   \n8             7                       131.0              181.350000   \n9             8                       128.0              231.250000   \n10            9                       124.0              337.600000   \n11    112 - 111                         NaN                     NaN   \n12           10                        87.0              104.266667   \n13           11                       132.0              253.150000   \n14           12                       127.0              277.800000   \n15           13                        53.0              279.666667   \n16    113 - 112                         NaN                     NaN   \n17           14                       114.0               46.983333   \n18           15                        82.0              101.450000   \n19           16                        84.5              265.416667   \n20           17                        81.5              317.433333   \n21   ПЗ42 - 113                         NaN                     NaN   \n22           18                        54.0               12.950000   \n23           19                       123.0              178.016667   \n24           20                        90.0              178.550000   \n25           21                       148.0              234.933333   \n26           22                        76.5              275.850000   \n27           23                        96.0              334.766667   \n\n    Отметки реечн. точек Hр.т., м  \n0                             NaN  \n1                      126.330000  \n2                      125.320000  \n3                      125.730000  \n4                      125.690000  \n5                      129.100000  \n6                             NaN  \n7                      130.428038  \n8                      130.718038  \n9                      129.328038  \n10                     129.228038  \n11                            NaN  \n12                     128.658719  \n13                     128.468719  \n14                     127.478719  \n15                     128.978719  \n16                            NaN  \n17                     128.405976  \n18                     128.735976  \n19                     130.585976  \n20                     130.495976  \n21                            NaN  \n22                     130.110000  \n23                     124.690000  \n24                     124.720000  \n25                     125.010000  \n26                     128.010000  \n27                     130.110000  ",
      "text/html": "<div>\n<style scoped>\n    .dataframe tbody tr th:only-of-type {\n        vertical-align: middle;\n    }\n\n    .dataframe tbody tr th {\n        vertical-align: top;\n    }\n\n    .dataframe thead th {\n        text-align: right;\n    }\n</style>\n<table border=\"1\" class=\"dataframe\">\n  <thead>\n    <tr style=\"text-align: right;\">\n      <th></th>\n      <th>№№</th>\n      <th>Отсчет по дальномеру kl, м</th>\n      <th>Отсчет по гориз. Кругу</th>\n      <th>Отметки реечн. точек Hр.т., м</th>\n    </tr>\n  </thead>\n  <tbody>\n    <tr>\n      <th>0</th>\n      <td>ПЗ41 - ПЗ42</td>\n      <td>NaN</td>\n      <td>NaN</td>\n      <td>NaN</td>\n    </tr>\n    <tr>\n      <th>1</th>\n      <td>1</td>\n      <td>88.0</td>\n      <td>12.033333</td>\n      <td>126.330000</td>\n    </tr>\n    <tr>\n      <th>2</th>\n      <td>2</td>\n      <td>111.0</td>\n      <td>78.183333</td>\n      <td>125.320000</td>\n    </tr>\n    <tr>\n      <th>3</th>\n      <td>3</td>\n      <td>155.0</td>\n      <td>136.400000</td>\n      <td>125.730000</td>\n    </tr>\n    <tr>\n      <th>4</th>\n      <td>4</td>\n      <td>132.0</td>\n      <td>144.916667</td>\n      <td>125.690000</td>\n    </tr>\n    <tr>\n      <th>5</th>\n      <td>5</td>\n      <td>141.0</td>\n      <td>195.450000</td>\n      <td>129.100000</td>\n    </tr>\n    <tr>\n      <th>6</th>\n      <td>111 - ПЗ41</td>\n      <td>NaN</td>\n      <td>NaN</td>\n      <td>NaN</td>\n    </tr>\n    <tr>\n      <th>7</th>\n      <td>6</td>\n      <td>94.0</td>\n      <td>125.416667</td>\n      <td>130.428038</td>\n    </tr>\n    <tr>\n      <th>8</th>\n      <td>7</td>\n      <td>131.0</td>\n      <td>181.350000</td>\n      <td>130.718038</td>\n    </tr>\n    <tr>\n      <th>9</th>\n      <td>8</td>\n      <td>128.0</td>\n      <td>231.250000</td>\n      <td>129.328038</td>\n    </tr>\n    <tr>\n      <th>10</th>\n      <td>9</td>\n      <td>124.0</td>\n      <td>337.600000</td>\n      <td>129.228038</td>\n    </tr>\n    <tr>\n      <th>11</th>\n      <td>112 - 111</td>\n      <td>NaN</td>\n      <td>NaN</td>\n      <td>NaN</td>\n    </tr>\n    <tr>\n      <th>12</th>\n      <td>10</td>\n      <td>87.0</td>\n      <td>104.266667</td>\n      <td>128.658719</td>\n    </tr>\n    <tr>\n      <th>13</th>\n      <td>11</td>\n      <td>132.0</td>\n      <td>253.150000</td>\n      <td>128.468719</td>\n    </tr>\n    <tr>\n      <th>14</th>\n      <td>12</td>\n      <td>127.0</td>\n      <td>277.800000</td>\n      <td>127.478719</td>\n    </tr>\n    <tr>\n      <th>15</th>\n      <td>13</td>\n      <td>53.0</td>\n      <td>279.666667</td>\n      <td>128.978719</td>\n    </tr>\n    <tr>\n      <th>16</th>\n      <td>113 - 112</td>\n      <td>NaN</td>\n      <td>NaN</td>\n      <td>NaN</td>\n    </tr>\n    <tr>\n      <th>17</th>\n      <td>14</td>\n      <td>114.0</td>\n      <td>46.983333</td>\n      <td>128.405976</td>\n    </tr>\n    <tr>\n      <th>18</th>\n      <td>15</td>\n      <td>82.0</td>\n      <td>101.450000</td>\n      <td>128.735976</td>\n    </tr>\n    <tr>\n      <th>19</th>\n      <td>16</td>\n      <td>84.5</td>\n      <td>265.416667</td>\n      <td>130.585976</td>\n    </tr>\n    <tr>\n      <th>20</th>\n      <td>17</td>\n      <td>81.5</td>\n      <td>317.433333</td>\n      <td>130.495976</td>\n    </tr>\n    <tr>\n      <th>21</th>\n      <td>ПЗ42 - 113</td>\n      <td>NaN</td>\n      <td>NaN</td>\n      <td>NaN</td>\n    </tr>\n    <tr>\n      <th>22</th>\n      <td>18</td>\n      <td>54.0</td>\n      <td>12.950000</td>\n      <td>130.110000</td>\n    </tr>\n    <tr>\n      <th>23</th>\n      <td>19</td>\n      <td>123.0</td>\n      <td>178.016667</td>\n      <td>124.690000</td>\n    </tr>\n    <tr>\n      <th>24</th>\n      <td>20</td>\n      <td>90.0</td>\n      <td>178.550000</td>\n      <td>124.720000</td>\n    </tr>\n    <tr>\n      <th>25</th>\n      <td>21</td>\n      <td>148.0</td>\n      <td>234.933333</td>\n      <td>125.010000</td>\n    </tr>\n    <tr>\n      <th>26</th>\n      <td>22</td>\n      <td>76.5</td>\n      <td>275.850000</td>\n      <td>128.010000</td>\n    </tr>\n    <tr>\n      <th>27</th>\n      <td>23</td>\n      <td>96.0</td>\n      <td>334.766667</td>\n      <td>130.110000</td>\n    </tr>\n  </tbody>\n</table>\n</div>"
     },
     "execution_count": 58,
     "metadata": {},
     "output_type": "execute_result"
    }
   ],
   "source": [
    "table_10"
   ],
   "metadata": {
    "collapsed": false
   }
  },
  {
   "cell_type": "code",
   "execution_count": 59,
   "outputs": [],
   "source": [
    "add_layer(2, 3,\"Побочные Точки\")\n",
    "\n",
    "extra_points = {}\n",
    "\n",
    "for i, row in table_10.iterrows():\n",
    "    if \" - \" in str(row[\"№№\"]):\n",
    "        origin_label, dest_label = row[\"№№\"].split(\" - \")\n",
    "\n",
    "        if origin_label.isdigit():\n",
    "            origin_label = int(origin_label)\n",
    "\n",
    "        if dest_label.isdigit():\n",
    "            dest_label = int(dest_label)\n",
    "\n",
    "        origin = (table_79.loc[table_79['№№'] == origin_label][\"Y\"].values[0], table_79.loc[table_79['№№'] == origin_label][\"X\"].values[0])\n",
    "\n",
    "        _dest = (table_79.loc[table_79['№№'] == dest_label][\"Y\"].values[0], table_79.loc[table_79['№№'] == dest_label][\"X\"].values[0])\n",
    "\n",
    "        angle = np.rad2deg(getAngleBetweenPoints( origin[0], origin[1], _dest[0], _dest[1]))\n",
    "        _i_am_shit_at_coding = list(origin)\n",
    "        _i_am_shit_at_coding.append(table_79.loc[table_79['№№'] == origin_label][\"H\"].values[0])\n",
    "        extra_points.update({str(origin_label): _i_am_shit_at_coding})\n",
    "        continue\n",
    "    else:\n",
    "        if not origin:\n",
    "            continue\n",
    "    _d = row[\"Отсчет по дальномеру kl, м\"]\n",
    "    _alpha = row[\"Отсчет по гориз. Кругу\"]\n",
    "    xx = origin[0] + (_d * cos(np.radians(angle - _alpha)))\n",
    "    yy = origin[1] + (_d * sin(np.radians(angle - _alpha)))\n",
    "    # obj = iDocument2D.ksLineSeg(origin[0] * 1000, origin[1] * 1000, xx * 1000,yy * 1000, 6)\n",
    "\n",
    "    add_text(str(row[\"№№\"]) + \" (\" + str(\"{:1.3f}\".format(row[\"Отметки реечн. точек Hр.т., м\"])).replace(\".\", \",\") + \")\", xx * 1000 + 2000, yy * 1000 - 1000)\n",
    "\n",
    "    obj = iDocument2D.ksCircle(xx * 1000, yy * 1000, 1000, 1)\n",
    "    extra_points.update({str(row[\"№№\"]): [xx, yy, row[\"Отметки реечн. точек Hр.т., м\"]]})\n",
    "\n"
   ],
   "metadata": {
    "collapsed": false
   }
  },
  {
   "cell_type": "code",
   "execution_count": 60,
   "outputs": [],
   "source": [
    "interpolated_points = {}"
   ],
   "metadata": {
    "collapsed": false
   }
  },
  {
   "cell_type": "code",
   "execution_count": 61,
   "outputs": [],
   "source": [
    "# CON_P41 = \"1,2,4,5,21\".split(\",\")\n",
    "# CON_1 = [\"21\"]\n",
    "# CON_5 =[\"4\"]\n",
    "\n",
    "add_layer(3,2,\"Точки интерполяции пашни\")\n",
    "\n",
    "CON_111 = \"5,6,7,8,9,112,ПЗ41\".split(\",\")\n",
    "\n",
    "center_point = np.array(extra_points[\"111\"])\n",
    "for point in CON_111:\n",
    "    point = np.array(extra_points[point])\n",
    "\n",
    "    if center_point[2] > point[2]:\n",
    "        _coordinate_dif = center_point[:2] - point[:2]\n",
    "        xia = [center_point[2], point[2]]\n",
    "        hight_dif = range(int(ceil(point[2])), int(round(center_point[2])))\n",
    "    else:\n",
    "        _coordinate_dif = point[:2] - center_point[:2]\n",
    "        xia = [point[2], center_point[2]]\n",
    "        hight_dif = range(int(ceil(center_point[2])), int(round(point[2])))\n",
    "\n",
    "    length = round(np.sqrt(np.sum(np.power(_coordinate_dif,2))))\n",
    "    yia = [0, length]\n",
    "\n",
    "    _alpha = np.rad2deg(getAngleBetweenPoints( center_point[0], center_point[1], point[0], point[1]))\n",
    "\n",
    "    x = [0, length]\n",
    "    f = interpolate.interp1d(xia, yia)\n",
    "\n",
    "    for i in hight_dif:\n",
    "        _d = f(i)\n",
    "        xx = center_point[0] * 1000 + (_d * 1000 * cos(np.radians(_alpha)))\n",
    "        yy = center_point[1] * 1000 + (_d * 1000 * sin(np.radians(_alpha)))\n",
    "        obj = iDocument2D.ksPoint(xx  ,yy , 0)\n",
    "        add_text(i, xx - 10000, yy - 8000, color=9410565)\n",
    "\n",
    "        if i in interpolated_points:\n",
    "            interpolated_points[i].append((xx, yy))\n",
    "        else:\n",
    "            interpolated_points.update({i: [(xx, yy)]})\n"
   ],
   "metadata": {
    "collapsed": false
   }
  },
  {
   "cell_type": "code",
   "execution_count": 62,
   "outputs": [
    {
     "data": {
      "text/plain": "True"
     },
     "execution_count": 62,
     "metadata": {},
     "output_type": "execute_result"
    }
   ],
   "source": [
    "x = [extra_points[p][0] for p in extra_points]\n",
    "y = [extra_points[p][1] for p in extra_points]\n",
    "centroid = (sum(x) / len(extra_points), sum(y) / len(extra_points))\n",
    "obj = iDocument2D.ksPoint(*(cord * 1000 for cord in centroid), 0)\n",
    "\n",
    "current_view = kompas_document_2d.ViewsAndLayersManager.Views.ActiveView\n",
    "current_view.X = 594/2 - centroid[0] / 2\n",
    "current_view.Y = 420/2 - centroid[1] / 2\n",
    "current_view.Update()\n"
   ],
   "metadata": {
    "collapsed": false
   }
  },
  {
   "cell_type": "code",
   "execution_count": 63,
   "outputs": [],
   "source": [
    "def interpolate_line(first_point: str, second_point: str, interpolated_points: dict):\n",
    "\n",
    "    _first_point = np.array(extra_points[str(first_point)])\n",
    "    _second_point = np.array(extra_points[str(second_point)])\n",
    "\n",
    "    _coordinate_dif = _first_point[:2] - _second_point[:2]\n",
    "\n",
    "    _length = round(np.sqrt(np.sum(np.power(_coordinate_dif, 2))))\n",
    "\n",
    "    _yia = [0, _length]\n",
    "    _xia = [ _first_point[2], _second_point[2]]\n",
    "\n",
    "    _x = [0, _length]\n",
    "    _f = interpolate.interp1d(_xia, _yia)\n",
    "\n",
    "    _alpha = np.rad2deg(getAngleBetweenPoints(_first_point[0], _first_point[1], _second_point[0], _second_point[1]))\n",
    "\n",
    "    # if np.diff(sorted([int(round(_second_point[2])), int(ceil(_first_point[2]))])) <= 1:\n",
    "    #     return\n",
    "\n",
    "    _hight_dif_sorted = sorted([_second_point[2], _first_point[2]])\n",
    "\n",
    "    _height_dif = range(int(ceil(_hight_dif_sorted[0])), int(_hight_dif_sorted[1]) + 1)\n",
    "\n",
    "    print(f\"Points: {first_point, second_point}\\n Range: {_height_dif}\\n {_hight_dif_sorted}\\n\")\n",
    "\n",
    "    for i in _height_dif:\n",
    "        _d = _f(i)\n",
    "        xx = _first_point[0] * 1000 + (_d * 1000 * cos(np.radians(_alpha)))\n",
    "        yy = _first_point[1] * 1000 + (_d * 1000 * sin(np.radians(_alpha)))\n",
    "        obj = iDocument2D.ksPoint(xx, yy, 0)\n",
    "        add_text(f\"{i}\", xx - 10000, yy - 8000, color=14417715)\n",
    "\n",
    "        if i in interpolated_points:\n",
    "            interpolated_points[i].append((xx, yy))\n",
    "        else:\n",
    "            interpolated_points.update({i: [(xx, yy)]})\n",
    "        print(f\"{i}: {xx}, {yy}\")\n",
    "    print(\"\\n\")\n",
    "\n",
    "    return interpolated_points"
   ],
   "metadata": {
    "collapsed": false
   }
  },
  {
   "cell_type": "code",
   "execution_count": 64,
   "outputs": [
    {
     "name": "stdout",
     "output_type": "stream",
     "text": [
      "Points: ('7', '8')\n",
      " Range: range(130, 131)\n",
      " [129.3280382462957, 130.71803824629572]\n",
      "\n",
      "130: 2430872.598229715, 1732721.2578401272\n",
      "\n",
      "\n"
     ]
    },
    {
     "data": {
      "text/plain": "{130: [(2295438.999134024, 1579851.7940517827),\n  (2460245.170694117, 1694029.7194678572),\n  (2411439.2110369806, 1535061.3788407133),\n  (2482924.2433011974, 1600178.158382683),\n  (2372120.213065025, 1501460.0455749668),\n  (2430872.598229715, 1732721.2578401272)],\n 131: [(2319089.456250908, 1594494.6383375574),\n  (2314699.7233637488, 1674765.2753948318),\n  (2381028.876397862, 1746291.1130325615),\n  (2435108.0891439016, 1674872.494870078),\n  (2400750.148158743, 1562963.5209630902),\n  (2451073.4803319066, 1608803.7930192803),\n  (2373070.7454504203, 1539309.183798585)],\n 132: [(2342739.9133677916, 1609137.482623332),\n  (2340196.127615418, 1655653.1381607286),\n  (2378632.897868289, 1697101.3108369524),\n  (2409971.0075936858, 1655715.2702722987),\n  (2390061.0852805055, 1590865.6630854674),\n  (2419222.7173626157, 1617429.4276558778),\n  (2374021.277835816, 1577158.3220222031)]}"
     },
     "execution_count": 64,
     "metadata": {},
     "output_type": "execute_result"
    }
   ],
   "source": [
    "# Интерполяция между 7 и 8 точками\n",
    "\n",
    "# _seventh = np.array(extra_points[\"7\"])\n",
    "# _eighth = np.array(extra_points[\"8\"])\n",
    "#\n",
    "# _coordinate_dif = _seventh[:2] - _eighth[:2]\n",
    "#\n",
    "# _length = round(np.sqrt(np.sum(np.power(_coordinate_dif,2))))\n",
    "#\n",
    "# _yia = [0, _length]\n",
    "# _xia = [_seventh[2], _eighth[2]]\n",
    "#\n",
    "# _x = [0, _length]\n",
    "# _f = interpolate.interp1d(_xia, _yia)\n",
    "#\n",
    "# _alpha = np.rad2deg(getAngleBetweenPoints( _seventh[0], _seventh[1], _eighth[0], _eighth[1]))\n",
    "#\n",
    "# _height_dif = range(int(round(_eighth[2])), int(ceil(_seventh[2])))\n",
    "#\n",
    "# print(_height_dif)\n",
    "#\n",
    "# for i in _height_dif:\n",
    "#     print(i)\n",
    "#     _d = _f(i)\n",
    "#     xx = _seventh[0] * 1000 + (_d * 1000 * cos(np.radians(_alpha)))\n",
    "#     yy = _seventh[1] * 1000 + (_d * 1000 * sin(np.radians(_alpha)))\n",
    "#     obj = iDocument2D.ksPoint(xx  ,yy , 0)\n",
    "#     add_text(f\"{i}\", xx - 10000, yy - 8000, color=16711680)\n",
    "#\n",
    "#     if i in interpolated_points:\n",
    "#         interpolated_points[i].append((xx, yy))\n",
    "#     else:\n",
    "#         interpolated_points.update({i: [(xx, yy)]})\n",
    "\n",
    "interpolate_line(\"7\", \"8\", interpolated_points)\n"
   ],
   "metadata": {
    "collapsed": false
   }
  },
  {
   "cell_type": "code",
   "execution_count": 65,
   "outputs": [],
   "source": [
    "add_layer(4, 3,\"Кривые интерполяции пашни\")\n",
    "\n",
    "_max_num_of_points = max([len(interpolated_points[height_points]) for height_points in interpolated_points])\n",
    "\n",
    "for height in interpolated_points:\n",
    "\n",
    "    if len(interpolated_points[height]) <= 3:\n",
    "        continue\n",
    "\n",
    "    cent=(sum([p[0] for p in interpolated_points[height]])/len(interpolated_points[height]),sum([p[1] for p in interpolated_points[height]])/len(interpolated_points[height]))\n",
    "    interpolated_points[height].sort( key=lambda p: atan2(p[1]-cent[1],p[0]-cent[0]))\n",
    "\n",
    "    obj = iDocument2D.ksBezier(len(interpolated_points[height]) == _max_num_of_points, 1)\n",
    "    for point in interpolated_points[height]:\n",
    "        dot = iDocument2D.ksPoint(*point, 0)\n",
    "    iDocument2D.ksEndObj()"
   ],
   "metadata": {
    "collapsed": false
   }
  },
  {
   "cell_type": "code",
   "execution_count": 66,
   "outputs": [
    {
     "name": "stdout",
     "output_type": "stream",
     "text": [
      "Points: ('4', '5')\n",
      " Range: range(126, 130)\n",
      " [125.69000000000001, 129.10000000000002]\n",
      "\n",
      "126: 2242667.996907425, 1465150.0863783914\n",
      "127: 2252798.908543602, 1497931.1645688347\n",
      "128: 2262929.820179779, 1530712.242759278\n",
      "129: 2273060.7318159565, 1563493.3209497214\n",
      "\n",
      "\n",
      "Points: ('ПЗ41', '1')\n",
      " Range: range(127, 130)\n",
      " [126.33000000000001, 129.02]\n",
      "\n",
      "127: 2419504.1233520107, 1419336.214528435\n",
      "128: 2395586.240504481, 1441654.9202074273\n",
      "129: 2371668.357656951, 1463973.62588642\n",
      "\n",
      "\n",
      "Points: ('ПЗ41', '2')\n",
      " Range: range(126, 130)\n",
      " [125.32000000000001, 129.02]\n",
      "\n",
      "126: 2341440.8144548433, 1378843.4497108005\n",
      "127: 2351291.5381452926, 1407180.0557668267\n",
      "128: 2361142.261835742, 1435516.661822853\n",
      "129: 2370992.985526191, 1463853.267878879\n",
      "\n",
      "\n",
      "Points: ('ПЗ41', '4')\n",
      " Range: range(126, 130)\n",
      " [125.69000000000001, 129.02]\n",
      "\n",
      "126: 2251784.2916476377, 1455866.010648904\n",
      "127: 2291322.6056715986, 1458698.4574539026\n",
      "128: 2330860.9196955594, 1461530.9042589013\n",
      "129: 2370399.2337195203, 1464363.3510639\n",
      "\n",
      "\n",
      "Points: ('ПЗ41', '5')\n",
      " Range: range(130, 130)\n",
      " [129.02, 129.10000000000002]\n",
      "\n",
      "\n",
      "\n",
      "Points: ('ПЗ41', '21')\n",
      " Range: range(126, 130)\n",
      " [125.00999999999999, 129.02]\n",
      "\n",
      "126: 2424237.9098909814, 1341307.752404462\n",
      "127: 2406672.3768144976, 1382073.3973036467\n",
      "128: 2389106.843738014, 1422839.0422028312\n",
      "129: 2371541.3106615297, 1463604.6871020158\n",
      "\n",
      "\n",
      "Points: ('12', '13')\n",
      " Range: range(128, 129)\n",
      " [127.47871879258854, 128.97871879258852]\n",
      "\n",
      "128: 2459390.4196334844, 1502667.593587441\n",
      "\n",
      "\n",
      "Points: ('1', '112')\n",
      " Range: range(127, 130)\n",
      " [126.33000000000001, 129.46871879258853]\n",
      "\n",
      "127: 2449191.690836691, 1445280.4253953171\n",
      "128: 2469583.6102051022, 1506321.8338607016\n",
      "129: 2489975.5295735137, 1567363.2423260862\n",
      "\n",
      "\n",
      "Points: ('10', '14')\n",
      " Range: range(129, 129)\n",
      " [128.40597558500306, 128.65871879258853]\n",
      "\n",
      "\n",
      "\n",
      "Points: ('16', '113')\n",
      " Range: range(131, 131)\n",
      " [130.09597558500306, 130.58597558500307]\n",
      "\n",
      "\n",
      "\n",
      "Points: ('ПЗ42', '20')\n",
      " Range: range(125, 129)\n",
      " [124.72, 128.41]\n",
      "\n",
      "125: 2556809.005491741, 1257675.3035989068\n",
      "126: 2565199.326461905, 1280576.9740977613\n",
      "127: 2573589.647432069, 1303478.6445966156\n",
      "128: 2581979.968402233, 1326380.3150954698\n",
      "\n",
      "\n",
      "Points: ('ПЗ42', '18')\n",
      " Range: range(129, 131)\n",
      " [128.41, 130.10999999999999]\n",
      "\n",
      "129: 2596040.7678111987, 1351211.2106585703\n",
      "130: 2614042.069186112, 1377382.7541476723\n",
      "\n",
      "\n",
      "Points: ('23', '22')\n",
      " Range: range(129, 131)\n",
      " [128.01, 130.10999999999999]\n",
      "\n",
      "129: 2546453.9132798915, 1399377.3423226036\n",
      "130: 2576033.997792314, 1428383.2922441312\n",
      "\n",
      "\n",
      "Points: ('22', '21')\n",
      " Range: range(126, 129)\n",
      " [125.00999999999999, 128.01]\n",
      "\n",
      "126: 2466675.6436143066, 1324333.866758381\n",
      "127: 2491968.857962735, 1347550.9097592079\n",
      "128: 2517262.072311163, 1370767.9527600347\n",
      "\n",
      "\n",
      "Points: ('20', '21')\n",
      " Range: range(125, 126)\n",
      " [124.72, 125.00999999999999]\n",
      "\n",
      "125: 2444970.637840514, 1299698.4740846816\n",
      "\n",
      "\n",
      "Points: ('1', '21')\n",
      " Range: range(126, 127)\n",
      " [125.00999999999999, 126.33000000000001]\n",
      "\n",
      "126: 2437018.7963100653, 1378675.8087245785\n",
      "\n",
      "\n",
      "Points: ('21', '21')\n",
      " Range: range(126, 126)\n",
      " [125.00999999999999, 125.00999999999999]\n",
      "\n",
      "\n",
      "\n"
     ]
    },
    {
     "data": {
      "text/plain": "{126: [(2242667.996907425, 1465150.0863783914),\n  (2341440.8144548433, 1378843.4497108005),\n  (2251784.2916476377, 1455866.010648904),\n  (2424237.9098909814, 1341307.752404462),\n  (2565199.326461905, 1280576.9740977613),\n  (2466675.6436143066, 1324333.866758381),\n  (2437018.7963100653, 1378675.8087245785)],\n 127: [(2252798.908543602, 1497931.1645688347),\n  (2419504.1233520107, 1419336.214528435),\n  (2351291.5381452926, 1407180.0557668267),\n  (2291322.6056715986, 1458698.4574539026),\n  (2406672.3768144976, 1382073.3973036467),\n  (2449191.690836691, 1445280.4253953171),\n  (2573589.647432069, 1303478.6445966156),\n  (2491968.857962735, 1347550.9097592079)],\n 128: [(2262929.820179779, 1530712.242759278),\n  (2395586.240504481, 1441654.9202074273),\n  (2361142.261835742, 1435516.661822853),\n  (2330860.9196955594, 1461530.9042589013),\n  (2389106.843738014, 1422839.0422028312),\n  (2459390.4196334844, 1502667.593587441),\n  (2469583.6102051022, 1506321.8338607016),\n  (2581979.968402233, 1326380.3150954698),\n  (2517262.072311163, 1370767.9527600347)],\n 129: [(2273060.7318159565, 1563493.3209497214),\n  (2371668.357656951, 1463973.62588642),\n  (2370992.985526191, 1463853.267878879),\n  (2370399.2337195203, 1464363.3510639),\n  (2371541.3106615297, 1463604.6871020158),\n  (2489975.5295735137, 1567363.2423260862),\n  (2596040.7678111987, 1351211.2106585703),\n  (2546453.9132798915, 1399377.3423226036)],\n 125: [(2556809.005491741, 1257675.3035989068),\n  (2444970.637840514, 1299698.4740846816)],\n 130: [(2614042.069186112, 1377382.7541476723),\n  (2576033.997792314, 1428383.2922441312)]}"
     },
     "execution_count": 66,
     "metadata": {},
     "output_type": "execute_result"
    }
   ],
   "source": [
    "add_layer(5,2,\"Точки интерполяции берега\")\n",
    "\n",
    "interpolated_points_shore = {}\n",
    "\n",
    "# ПЗ 41\n",
    "interpolate_line(\"4\", \"5\", interpolated_points_shore)\n",
    "interpolate_line(\"ПЗ41\", \"1\", interpolated_points_shore)\n",
    "interpolate_line(\"ПЗ41\", \"2\", interpolated_points_shore)\n",
    "interpolate_line(\"ПЗ41\", \"4\", interpolated_points_shore)\n",
    "interpolate_line(\"ПЗ41\", \"5\", interpolated_points_shore)\n",
    "interpolate_line(\"ПЗ41\", \"21\", interpolated_points_shore)\n",
    "\n",
    "# 112\n",
    "# interpolate_line(\"8\", \"10\", interpolated_points_shore)\n",
    "# interpolate_line(\"112\", \"10\", interpolated_points_shore)\n",
    "# interpolate_line(\"112\", \"13\", interpolated_points_shore)\n",
    "# interpolate_line(\"9\", \"12\", interpolated_points_shore)\n",
    "interpolate_line(\"12\", \"13\", interpolated_points_shore)\n",
    "# interpolate_line(\"13\", \"1\", interpolated_points_shore)\n",
    "interpolate_line(\"1\", \"112\", interpolated_points_shore)\n",
    "\n",
    "# 113\n",
    "interpolate_line(\"10\", \"14\", interpolated_points_shore)\n",
    "# interpolate_line(\"113\", \"15\", interpolated_points_shore)\n",
    "# interpolate_line(\"17\", \"113\", interpolated_points_shore)\n",
    "interpolate_line(\"16\", \"113\", interpolated_points_shore)\n",
    "# interpolate_line(\"17\", \"112\", interpolated_points_shore)\n",
    "# interpolate_line(\"17\", \"14\", interpolated_points_shore)\n",
    "\n",
    "# ПЗ 42\n",
    "interpolate_line(\"ПЗ42\", \"20\", interpolated_points_shore)\n",
    "interpolate_line(\"ПЗ42\", \"18\", interpolated_points_shore)\n",
    "interpolate_line(\"23\", \"22\", interpolated_points_shore)\n",
    "interpolate_line(\"22\", \"21\", interpolated_points_shore)\n",
    "interpolate_line(\"20\", \"21\", interpolated_points_shore)\n",
    "interpolate_line(\"1\", \"21\", interpolated_points_shore)\n",
    "interpolate_line(\"21\", \"21\", interpolated_points_shore)\n"
   ],
   "metadata": {
    "collapsed": false
   }
  },
  {
   "cell_type": "code",
   "execution_count": 67,
   "outputs": [],
   "source": [
    "add_layer(6, 3,\"Кривые интерполяции берега\")\n",
    "\n",
    "for height in interpolated_points_shore:\n",
    "\n",
    "    if len(interpolated_points_shore[height]) < 3:\n",
    "        continue\n",
    "\n",
    "    interpolated_points_shore[height].sort()\n",
    "\n",
    "    obj = iDocument2D.ksBezier(False, 1)\n",
    "    for point in interpolated_points_shore[height]:\n",
    "        dot = iDocument2D.ksPoint(*point, 0)\n",
    "    iDocument2D.ksEndObj()"
   ],
   "metadata": {
    "collapsed": false
   }
  },
  {
   "cell_type": "code",
   "execution_count": 68,
   "outputs": [
    {
     "name": "stdout",
     "output_type": "stream",
     "text": [
      "Points: ('21', '23')\n",
      " Range: range(126, 131)\n",
      " [125.00999999999999, 130.10999999999999]\n",
      "\n",
      "126: 2468299.600446121, 1326577.3917898745\n",
      "127: 2495363.171417978, 1352179.9472552747\n",
      "128: 2522426.7423898354, 1377782.502720675\n",
      "129: 2549490.3133616927, 1403385.0581860752\n",
      "130: 2576553.88433355, 1428987.6136514756\n",
      "\n",
      "\n",
      "Points: ('112', '17')\n",
      " Range: range(130, 131)\n",
      " [129.46871879258853, 130.49597558500307]\n",
      "\n",
      "130: 2547334.9116044967, 1550001.2210275878\n",
      "\n",
      "\n",
      "Points: ('14', '17')\n",
      " Range: range(129, 131)\n",
      " [128.40597558500306, 130.49597558500307]\n",
      "\n",
      "129: 2611102.547653145, 1605182.631596719\n",
      "130: 2598436.81525126, 1539405.3104002231\n",
      "\n",
      "\n",
      "Points: ('15', '113')\n",
      " Range: range(129, 131)\n",
      " [128.73597558500305, 130.09597558500306]\n",
      "\n",
      "129: 2699162.1995955533, 1598208.265075667\n",
      "130: 2669332.4159293827, 1545810.1293333839\n",
      "\n",
      "\n",
      "Points: ('ПЗ42', '18')\n",
      " Range: range(129, 131)\n",
      " [128.41, 130.10999999999999]\n",
      "\n",
      "129: 2596040.7678111987, 1351211.2106585703\n",
      "130: 2614042.069186112, 1377382.7541476723\n",
      "\n",
      "\n"
     ]
    }
   ],
   "source": [
    "# Горизонталь вокруг ФС\n",
    "add_layer(7,2,\"Точки интерполяции ФС\")\n",
    "\n",
    "interpolated_points_fruit_garden = {}\n",
    "\n",
    "_interpolation_21_23 = interpolate_line(\"21\", \"23\", {})\n",
    "_last_point_between_21_23 = list(_interpolation_21_23.keys())[-1]\n",
    "\n",
    "interpolated_points_fruit_garden.update({_last_point_between_21_23: _interpolation_21_23[_last_point_between_21_23]})\n",
    "\n",
    "_interpolation_112_17 = interpolate_line(\"112\", \"17\", {})\n",
    "if _last_point_between_21_23 in _interpolation_112_17:\n",
    "    interpolated_points_fruit_garden[_last_point_between_21_23].append(*_interpolation_112_17[_last_point_between_21_23])\n",
    "\n",
    "_interpolation_14_17 = interpolate_line(\"14\", \"17\", {})\n",
    "interpolated_points_fruit_garden[_last_point_between_21_23].append(*_interpolation_14_17[_last_point_between_21_23])\n",
    "\n",
    "_interpolation_15_113 = interpolate_line(\"15\", \"113\", {})\n",
    "interpolated_points_fruit_garden[_last_point_between_21_23].append(*_interpolation_15_113[_last_point_between_21_23])\n",
    "\n",
    "_interpolation_p42_18 = interpolate_line(\"ПЗ42\", \"18\", {})\n",
    "interpolated_points_fruit_garden[_last_point_between_21_23].insert(0, *_interpolation_p42_18[_last_point_between_21_23])\n"
   ],
   "metadata": {
    "collapsed": false
   }
  },
  {
   "cell_type": "code",
   "execution_count": 69,
   "outputs": [
    {
     "data": {
      "text/plain": "1073756565"
     },
     "execution_count": 69,
     "metadata": {},
     "output_type": "execute_result"
    }
   ],
   "source": [
    "add_layer(8, 3,\"Кривые интерполяции ФС\")\n",
    "\n",
    "obj = iDocument2D.ksBezier(False, 1)\n",
    "for point in interpolated_points_fruit_garden[_last_point_between_21_23]:\n",
    "    dot = iDocument2D.ksPoint(*point, 0)\n",
    "iDocument2D.ksEndObj()"
   ],
   "metadata": {
    "collapsed": false
   }
  },
  {
   "cell_type": "code",
   "execution_count": 70,
   "outputs": [
    {
     "name": "stdout",
     "output_type": "stream",
     "text": [
      "Points: ('112', '10')\n",
      " Range: range(129, 130)\n",
      " [128.65871879258853, 129.46871879258853]\n",
      "\n",
      "129: 2524172.497892652, 1639556.3056151243\n",
      "\n",
      "\n",
      "Points: ('14', '17')\n",
      " Range: range(129, 131)\n",
      " [128.40597558500306, 130.49597558500307]\n",
      "\n",
      "129: 2611102.547653145, 1605182.631596719\n",
      "130: 2598436.81525126, 1539405.3104002231\n",
      "\n",
      "\n",
      "Points: ('15', '113')\n",
      " Range: range(129, 131)\n",
      " [128.73597558500305, 130.09597558500306]\n",
      "\n",
      "129: 2699162.1995955533, 1598208.265075667\n",
      "130: 2669332.4159293827, 1545810.1293333839\n",
      "\n",
      "\n",
      "Points: ('8', '10')\n",
      " Range: range(129, 130)\n",
      " [128.65871879258853, 129.3280382462957]\n",
      "\n",
      "129: 2508988.1541037885, 1689558.367944321\n",
      "\n",
      "\n"
     ]
    }
   ],
   "source": [
    "# Горизонталь за ФС\n",
    "add_layer(9,2,\"Точки интерполяции за ФС\")\n",
    "\n",
    "interpolated_points_behind_fruit_garden = {}\n",
    "\n",
    "_interpolation_112_10 = interpolate_line(\"112\", \"10\", {})\n",
    "_last_point_between_112_10 = list(_interpolation_112_10.keys())[-1]\n",
    "\n",
    "interpolated_points_behind_fruit_garden.update({_last_point_between_112_10: _interpolation_112_10[_last_point_between_112_10]})\n",
    "\n",
    "_interpolation_14_17 = interpolate_line(\"14\", \"17\", {})\n",
    "interpolated_points_behind_fruit_garden[_last_point_between_112_10].append(*_interpolation_14_17[_last_point_between_112_10])\n",
    "\n",
    "_interpolation_15_113 = interpolate_line(\"15\", \"113\", {})\n",
    "if _last_point_between_112_10 in _interpolation_15_113:\n",
    "    interpolated_points_behind_fruit_garden[_last_point_between_112_10].append(*_interpolation_15_113[_last_point_between_112_10])\n",
    "\n",
    "_interpolation_8_10 = interpolate_line(\"8\", \"10\", {})\n",
    "interpolated_points_behind_fruit_garden[_last_point_between_112_10].insert(0, *_interpolation_8_10[_last_point_between_112_10])\n"
   ],
   "metadata": {
    "collapsed": false
   }
  },
  {
   "cell_type": "code",
   "execution_count": 71,
   "outputs": [
    {
     "data": {
      "text/plain": "1073756580"
     },
     "execution_count": 71,
     "metadata": {},
     "output_type": "execute_result"
    }
   ],
   "source": [
    "add_layer(10, 3,\"Кривые интерполяции за ФС\")\n",
    "\n",
    "obj = iDocument2D.ksBezier(False, 1)\n",
    "for point in interpolated_points_behind_fruit_garden[_last_point_between_112_10]:\n",
    "    dot = iDocument2D.ksPoint(*point, 0)\n",
    "iDocument2D.ksEndObj()"
   ],
   "metadata": {
    "collapsed": false
   }
  },
  {
   "cell_type": "code",
   "execution_count": 72,
   "outputs": [],
   "source": [
    "# Соединить основные границы\n",
    "\n",
    "add_layer(10, 3,\"Левая граница\")\n",
    "\n",
    "_left_border = \"4,5,6,7\".split(sep=\",\")\n",
    "\n",
    "for i in range(len(_left_border)-1):\n",
    "    # print(f\"{ _left_border[i]}: {extra_points[ _left_border[i]]}\\t{ _left_border[i+1]}: {extra_points[ _left_border[i+1]]}\")\n",
    "    obj = iDocument2D.ksLineSeg(*[i * 1000 for i in (*extra_points[ _left_border[i]][:2], *extra_points[ _left_border[i+1]][:2])], 4)"
   ],
   "metadata": {
    "collapsed": false
   }
  },
  {
   "cell_type": "code",
   "execution_count": 73,
   "outputs": [],
   "source": [
    "add_layer(11, 3,\"Верхняя граница\")\n",
    "\n",
    "_top_border = \"7,8,10,14,15\".split(sep=\",\")\n",
    "\n",
    "for i in range(len(_top_border)-1):\n",
    "    # print(f\"{ _top_border[i]}: {extra_points[ _top_border[i]]}\\t{ _top_border[i+1]}: {extra_points[ _top_border[i+1]]}\")\n",
    "    obj = iDocument2D.ksLineSeg(*[i * 1000 for i in (*extra_points[ _top_border[i]][:2], *extra_points[ _top_border[i+1]][:2])], 1)"
   ],
   "metadata": {
    "collapsed": false
   }
  },
  {
   "cell_type": "code",
   "execution_count": 74,
   "outputs": [],
   "source": [
    "add_layer(12, 3,\"Граница пашни\")\n",
    "\n",
    "_p_border = \"5,ПЗ41,9,112,8\".split(sep=\",\")\n",
    "\n",
    "for i in range(len(_p_border)-1):\n",
    "    # print(f\"{ _p_border[i]}: {extra_points[ _p_border[i]]}\\t{ _p_border[i+1]}: {extra_points[ _p_border[i+1]]}\")\n",
    "    obj = iDocument2D.ksLineSeg(*[i * 1000 for i in (*extra_points[ _p_border[i]][:2], *extra_points[ _p_border[i+1]][:2])], 4)"
   ],
   "metadata": {
    "collapsed": false
   }
  },
  {
   "cell_type": "code",
   "execution_count": 75,
   "outputs": [],
   "source": [
    "add_layer(13, 3,\"Река\")\n",
    "\n",
    "_river_border = \"4,2,21,20\".split(sep=\",\")\n",
    "\n",
    "for i in range(len(_river_border)-1):\n",
    "    # print(f\"{ _river_border[i]}: {extra_points[ _river_border[i]]}\\t{ _river_border[i+1]}: {extra_points[ _river_border[i+1]]}\")\n",
    "    obj = iDocument2D.ksLineSeg(*[i * 1000 for i in (*extra_points[ _river_border[i]][:2], *extra_points[ _river_border[i+1]][:2])], 1)\n",
    "\n",
    "# вторая сторона реки\n",
    "\n",
    "_alpha = np.rad2deg(getAngleBetweenPoints(*extra_points[\"4\"][:2], *extra_points[\"3\"][:2]))\n",
    "\n",
    "_second_shore = []\n",
    "_d = 32\n",
    "for i in range(len(_river_border)):\n",
    "    # obj = iDocument2D.ksLineSeg(*[i * 1000 for i in tuple(map(lambda i, j: i - j, (*extra_points[ _river_border[i]][:2], *extra_points[ _river_border[i+1]][:2]), (20,20,20,20)))], 1)\n",
    "\n",
    "    xx = extra_points[ _river_border[i]][0] * 1000 + (_d * 1000 * cos(np.radians(_alpha)))\n",
    "    yy = extra_points[ _river_border[i]][1] * 1000 + (_d * 1000 * sin(np.radians(_alpha)))\n",
    "    _second_shore.append((xx, yy))\n",
    "\n",
    "for i in range(len(_second_shore) - 1):\n",
    "    if i != len(_second_shore) - 2:\n",
    "        obj = iDocument2D.ksLineSeg(*_second_shore[i], *_second_shore[i+1], 1)\n",
    "    else:\n",
    "        obj = iDocument2D.ksLineSeg(*_second_shore[i], *(p * 1000 for p in extra_points[\"19\"][:2]), 1)\n",
    "\n",
    "# Добавить подпись\n",
    "\n",
    "_xx = (extra_points[\"2\"][0] + extra_points[\"21\"][0])/2 * 1000 + (_d/2 * 1000 * cos(np.radians(_alpha)))\n",
    "_yy = (extra_points[\"2\"][1] + extra_points[\"21\"][1])/2 * 1000 + (_d/2 * 1000 * sin(np.radians(_alpha)))\n",
    "\n",
    "add_text(\"р. Соть\",_xx, _yy, np.rad2deg(getAngleBetweenPoints(*extra_points[\"2\"][:2], *extra_points[\"21\"][:2])), 5)"
   ],
   "metadata": {
    "collapsed": false
   }
  },
  {
   "cell_type": "code",
   "execution_count": 76,
   "outputs": [],
   "source": [
    "# Автодорога\n",
    "\n",
    "add_layer(14, 3,\"Автодорога\")\n",
    "\n",
    "_alpha = np.rad2deg(getAngleBetweenPoints(*extra_points[\"6\"][:2], *extra_points[\"7\"][:2]))\n",
    "\n",
    "_autobahn = []\n",
    "_d = 10\n",
    "for i in range(len(_top_border)):\n",
    "\n",
    "    xx = extra_points[ _top_border[i]][0] * 1000 + (_d * 1000 * cos(np.radians(_alpha)))\n",
    "    yy = extra_points[ _top_border[i]][1] * 1000 + (_d * 1000 * sin(np.radians(_alpha)))\n",
    "    _autobahn.append((xx, yy))\n",
    "\n",
    "for i in range(len(_autobahn) - 1):\n",
    "    obj = iDocument2D.ksLineSeg(*_autobahn[i], *_autobahn[i+1], 4)\n"
   ],
   "metadata": {
    "collapsed": false
   }
  },
  {
   "cell_type": "code",
   "execution_count": 77,
   "outputs": [],
   "source": [
    "from typing import List, Set, Dict, Tuple\n",
    "from typing import Union"
   ],
   "metadata": {
    "collapsed": false
   }
  },
  {
   "cell_type": "code",
   "execution_count": 78,
   "outputs": [],
   "source": [
    "def endpoint_by_distance_and_angle(starting_point: Union[Tuple[float, float], List[float]], distance: float, angle: float) -> Tuple[float, float]:\n",
    "    xx = starting_point[0] + (distance * cos(np.radians(angle)))\n",
    "    yy = starting_point[1] + (distance * sin(np.radians(angle)))\n",
    "    return xx, yy"
   ],
   "metadata": {
    "collapsed": false
   }
  },
  {
   "cell_type": "code",
   "execution_count": 79,
   "outputs": [],
   "source": [
    "# Текст пашни\n",
    "add_layer(15, 3, \"Текст пашни\")\n",
    "\n",
    "add_text(\"Пашня\", *map(lambda i, j: (i + j) * 1000, extra_points[\"111\"][:2], (-20, 45)),0, 7)"
   ],
   "metadata": {
    "collapsed": false
   }
  },
  {
   "cell_type": "code",
   "execution_count": 80,
   "outputs": [],
   "source": [
    "# Текст лес\n",
    "add_layer(16, 3, \"Текст лес\")\n",
    "\n",
    "add_text(\"Лес\", *map(lambda i, j: (i + j) * 1000, extra_points[\"6\"][:2], (-60, 0)),0, 7)"
   ],
   "metadata": {
    "collapsed": false
   }
  },
  {
   "cell_type": "code",
   "execution_count": 81,
   "outputs": [],
   "source": [
    "def m_to_mm(m: Tuple[float, float]) -> Tuple[float, float]:\n",
    "    return tuple(map(lambda i: i * 1000, m))\n",
    "def mm_to_m(m: Tuple[float, float]) -> Tuple[float, float]:\n",
    "    return tuple(map(lambda i: i / 1000, m))"
   ],
   "metadata": {
    "collapsed": false
   }
  },
  {
   "cell_type": "code",
   "execution_count": 82,
   "outputs": [],
   "source": [
    "# https://stackoverflow.com/a/67313571\n",
    "def get_intersections(x0, y0, r0, x1, y1, r1):\n",
    "    # circle 1: (x0, y0), radius r0\n",
    "    # circle 2: (x1, y1), radius r1\n",
    "\n",
    "    d=sqrt((x1-x0)**2 + (y1-y0)**2)\n",
    "\n",
    "    # non-intersecting\n",
    "    if d > r0 + r1 :\n",
    "        return {}\n",
    "    # One circle within other\n",
    "    if d < abs(r0-r1):\n",
    "        return {}\n",
    "    # coincident circles\n",
    "    if d == 0 and r0 == r1:\n",
    "        return {}\n",
    "    else:\n",
    "        a=(r0**2-r1**2+d**2)/(2*d)\n",
    "        h=sqrt(r0**2-a**2)\n",
    "        x2=x0+a*(x1-x0)/d\n",
    "        y2=y0+a*(y1-y0)/d\n",
    "        x3=x2+h*(y1-y0)/d\n",
    "        y3=y2-h*(x1-x0)/d\n",
    "        x4=x2-h*(y1-y0)/d\n",
    "        y4=y2+h*(x1-x0)/d\n",
    "        return x3, y3, x4, y4\n"
   ],
   "metadata": {
    "collapsed": false
   }
  },
  {
   "cell_type": "code",
   "execution_count": 83,
   "outputs": [],
   "source": [
    "def add_rect(starting_corner: Tuple[float, float], h: float, w: float, angle: float = 0, style: int = 1) -> int:\n",
    "    i_rectangle_param = kompas6_api5_module.ksRectangleParam(kompas_object.GetParamStruct(kompas6_constants.ko_RectangleParam))\n",
    "    i_rectangle_param.Init()\n",
    "    i_rectangle_param.x = starting_corner[0]\n",
    "    i_rectangle_param.y = starting_corner[1]\n",
    "    i_rectangle_param.ang = angle\n",
    "    i_rectangle_param.height = h\n",
    "    i_rectangle_param.width = w\n",
    "    i_rectangle_param.style = style\n",
    "    return iDocument2D.ksRectangle(i_rectangle_param)"
   ],
   "metadata": {
    "collapsed": false
   }
  },
  {
   "cell_type": "code",
   "execution_count": 84,
   "outputs": [],
   "source": [
    "# Фруктовый сад\n",
    "add_layer(17, 3, \"Колодец\")\n",
    "\n",
    "_alpha_14_15 = np.rad2deg(getAngleBetweenPoints(*extra_points[\"14\"][:2], *extra_points[\"15\"][:2]))\n",
    "_alpha_113_P42 = np.rad2deg(getAngleBetweenPoints(*extra_points[\"113\"][:2], *extra_points[\"ПЗ42\"][:2]))\n",
    "\n",
    "\n",
    "# _well_angles = degrees(atan2(14.62,9.15))\n",
    "#\n",
    "_well_point_1 = m_to_mm(endpoint_by_distance_and_angle(extra_points[\"113\"][:2], 40, _alpha_113_P42))\n",
    "# _obj_well_point_1 = iDocument2D.ksPoint(*_well_point_1, 0)\n",
    "\n",
    "_well_point_2 = m_to_mm(endpoint_by_distance_and_angle(extra_points[\"113\"][:2], 58.61, _alpha_113_P42))\n",
    "# _obj_well_point_2 = iDocument2D.ksPoint(*_well_point_2, 0)\n",
    "#\n",
    "# well_line_1 = iDocument2D.ksLineSeg(*_well_point_1, *m_to_mm(endpoint_by_distance_and_angle(mm_to_m(_well_point_1), 9.15, _alpha_113_P42 - _well_angles)), 6)\n",
    "\n",
    "_well_point_3 = get_intersections(*_well_point_1, 9.15*1000, *_well_point_2, 14.62*1000)\n",
    "\n",
    "# Штриховка\n",
    "_well_hatch = iDocument2D.ksHatch(0, 45, 0.25, 0, 0 ,0)\n",
    "_obj_well_circle = iDocument2D.ksCircle(*_well_point_3[:2], 2500 ,1)\n",
    "iDocument2D.ksEndObj()\n",
    "\n",
    "_obj_well_circle = iDocument2D.ksCircle(*_well_point_3[:2], 2500 ,1)\n",
    "\n",
    "add_text(\"Колодец\", *map(lambda i, j: (i + j) * 1000, mm_to_m(_well_point_3[:2]), (-10, 5)))\n",
    "\n",
    "add_layer(18, 3, \"Фруктовый сад\")\n",
    "\n",
    "# fruit_garden_points = [endpoint_by_distance_and_angle(extra_points[\"113\"][:2], 81.5, _alpha_113_P42 - (44 + (1/60))), endpoint_by_distance_and_angle(endpoint_by_distance_and_angle(extra_points[\"113\"][:2], 58.61, _alpha_113_P42), -8.2, _alpha_14_15), endpoint_by_distance_and_angle(endpoint_by_distance_and_angle(extra_points[\"113\"][:2], 133.41, _alpha_113_P42), -7.81, _alpha_14_15), endpoint_by_distance_and_angle(extra_points[\"ПЗ42\"][:2], 96.15, 0 - _alpha_113_P42 - (25 + (11/60)))]\n",
    "\n",
    "fruit_garden_points = [tuple(extra_points[\"17\"][:2]), endpoint_by_distance_and_angle(endpoint_by_distance_and_angle(extra_points[\"113\"][:2], 58.61, _alpha_113_P42), -8.2, _alpha_14_15), endpoint_by_distance_and_angle(endpoint_by_distance_and_angle(extra_points[\"113\"][:2], 133.41, _alpha_113_P42), -7.81, _alpha_14_15), tuple(extra_points[\"23\"][:2])]\n",
    "\n",
    "iDocument2D.ksLineSeg(*m_to_mm(fruit_garden_points[0]), *m_to_mm(fruit_garden_points[3]), 1)\n",
    "for i in range(len(fruit_garden_points)-1):\n",
    "    iDocument2D.ksLineSeg(*m_to_mm(fruit_garden_points[i]), *m_to_mm(fruit_garden_points[i+1]), 1)\n",
    "\n",
    "# _mid_fs_text = tuple(i/2 for i in (fruit_garden_points[0][0] + fruit_garden_points[1][0], fruit_garden_points[0][1] + fruit_garden_points[1][1]))\n",
    "# *map(lambda i, j: (i + j) * 1000, _mid_fs_text, (-60, 0))\n",
    "\n",
    "_alpha_fs = np.rad2deg(getAngleBetweenPoints(*fruit_garden_points[1], *fruit_garden_points[2]))\n",
    "\n",
    "add_text(\"ФС\", *m_to_mm(endpoint_by_distance_and_angle(fruit_garden_points[0], 15, _alpha_fs + 30)), np.rad2deg(getAngleBetweenPoints(*fruit_garden_points[0], *fruit_garden_points[1])), 5)\n",
    "\n",
    "add_layer(19, 3, \"2КЖ\")\n",
    "\n",
    "_kg2_p1 = m_to_mm(endpoint_by_distance_and_angle(endpoint_by_distance_and_angle(extra_points[\"113\"][:2], 80.05, _alpha_113_P42), -8.03, _alpha_14_15))\n",
    "_kg2_p2 = m_to_mm(endpoint_by_distance_and_angle(endpoint_by_distance_and_angle(extra_points[\"113\"][:2], 110.23, _alpha_113_P42), -7.91, _alpha_14_15))\n",
    "\n",
    "add_rect(_kg2_p1, -16.05*1000, (110.23-80.05)*1000, _alpha_fs)\n",
    "\n",
    "# *tuple(i/2 for i in (_kg2_p1[0] + _kg2_p2[0], _kg2_p1[1] + _kg2_p2[1]))\n",
    "\n",
    "add_text(\"2кж\", _kg2_p2[0] - 2400, _kg2_p2[1] + 4000, np.rad2deg(getAngleBetweenPoints(*_kg2_p2, *_kg2_p1)),5)"
   ],
   "metadata": {
    "collapsed": false
   }
  },
  {
   "cell_type": "code",
   "execution_count": 85,
   "outputs": [],
   "source": [
    "def line_len(p1: Tuple[float, float], p2: Tuple[float, float]) -> float:\n",
    "    return sum(map(lambda fp, sp: (sp - fp) ** 2, p1, p2))**0.5\n",
    "\n"
   ],
   "metadata": {
    "collapsed": false
   }
  },
  {
   "cell_type": "code",
   "execution_count": 86,
   "outputs": [],
   "source": [
    "# Железная дорога\n",
    "add_layer(19, 3, \"Железная дорога\")\n",
    "\n",
    "_railroad_p1 = endpoint_by_distance_and_angle(extra_points[\"113\"][:2], 12.64, _alpha_14_15)\n",
    "_railroad_end = endpoint_by_distance_and_angle(endpoint_by_distance_and_angle(extra_points[\"113\"][:2], 162.1, _alpha_113_P42), 14.28, _alpha_14_15)\n",
    "\n",
    "_alpha_rail = np.rad2deg(getAngleBetweenPoints(*_railroad_p1, *_railroad_end))\n",
    "\n",
    "_railroad_p0 = endpoint_by_distance_and_angle(_railroad_p1, -70,_alpha_rail)\n",
    "\n",
    "iDocument2D.ksLineSeg(*m_to_mm(_railroad_p0), *m_to_mm(_railroad_end), 1)\n",
    "\n",
    "for i in range(5, int(line_len(_railroad_p0, _railroad_end))+5, 5):\n",
    "    _start_point = endpoint_by_distance_and_angle(_railroad_p0, i,_alpha_rail)\n",
    "    _side_point_1 = endpoint_by_distance_and_angle(_start_point, 2.5,  45 - _alpha_rail)\n",
    "    _side_point_2 = endpoint_by_distance_and_angle(_start_point, -2.5, 45 - _alpha_rail)\n",
    "    iDocument2D.ksLineSeg(*m_to_mm(_side_point_1), *m_to_mm(_side_point_2), 1)"
   ],
   "metadata": {
    "collapsed": false
   }
  },
  {
   "cell_type": "code",
   "execution_count": 87,
   "outputs": [],
   "source": [
    "# Условные обозначения леса, луга, фруктового сада.\n",
    "\n",
    "def draw_meadow(point: Tuple[float, float], style: int = 2, size: float = 1000) -> Tuple[int, int]:\n",
    "\n",
    "    line_one = iDocument2D.ksLineSeg(*point, *map(lambda i, j: (i + j), point, (0, 2.5 * size)), style)\n",
    "    line_two = iDocument2D.ksLineSeg(*map(lambda i, j: (i + j), point, (1 * size, 0)), *map(lambda i, j: (i + j), point, (1 * size, 2.5 * size)), style)\n",
    "\n",
    "    return line_one, line_two\n",
    "\n"
   ],
   "metadata": {
    "collapsed": false
   }
  },
  {
   "cell_type": "code",
   "execution_count": 88,
   "outputs": [],
   "source": [
    "# Добавляю этот пакет, что бы проще проверять находятся ли точки в полигонах\n",
    "# https://stackoverflow.com/questions/52281055/point-in-polygon-using-shapely\n",
    "from shapely import geometry, affinity\n",
    "\n",
    "_plan_poly = [m_to_mm(tuple(extra_points[\"20\"][:2])), m_to_mm(tuple(extra_points[\"21\"][:2])), m_to_mm(tuple(extra_points[\"2\"][:2])),\n",
    "              m_to_mm(tuple(extra_points[\"4\"][:2])), m_to_mm(tuple(extra_points[\"5\"][:2])), m_to_mm(tuple(extra_points[\"6\"][:2])),\n",
    "              m_to_mm(tuple(extra_points[\"7\"][:2])), m_to_mm(tuple(extra_points[\"8\"][:2])), m_to_mm(tuple(extra_points[\"10\"][:2])),\n",
    "              m_to_mm(tuple(extra_points[\"14\"][:2])), m_to_mm(tuple(extra_points[\"15\"][:2])), m_to_mm(tuple(extra_points[\"113\"][:2])),\n",
    "              m_to_mm(tuple(extra_points[\"ПЗ42\"][:2]))]\n",
    "\n",
    "_plan_poly_line = geometry.LineString(_plan_poly)\n",
    "_plan_poly = geometry.Polygon(_plan_poly_line)\n",
    "\n",
    "_farm_poly = [m_to_mm(tuple(extra_points[\"ПЗ41\"][:2])), m_to_mm(tuple(extra_points[\"5\"][:2])), m_to_mm(tuple(extra_points[\"6\"][:2])),\n",
    "              m_to_mm(tuple(extra_points[\"7\"][:2])), m_to_mm(tuple(extra_points[\"8\"][:2])), m_to_mm(tuple(extra_points[\"112\"][:2])),\n",
    "              m_to_mm(tuple(extra_points[\"9\"][:2]))]\n",
    "\n",
    "_farm_poly_line = geometry.LineString(_farm_poly)\n",
    "_farm_poly = geometry.Polygon(_farm_poly_line)\n",
    "\n",
    "_fruit_garden_poly = geometry.Polygon(geometry.LineString((m_to_mm(i) for i in fruit_garden_points)))\n",
    "\n",
    "_fruit_garden_poly = affinity.scale(_fruit_garden_poly, 0.95, 0.95)\n",
    "\n",
    "_kg_poly = [_kg2_p1, m_to_mm(endpoint_by_distance_and_angle(endpoint_by_distance_and_angle(extra_points[\"113\"][:2], 80.05, _alpha_113_P42), -8.03 - 16.05, _alpha_14_15)), m_to_mm(endpoint_by_distance_and_angle(endpoint_by_distance_and_angle(extra_points[\"113\"][:2], 110.23, _alpha_113_P42), -7.91 -16.05, _alpha_14_15)), _kg2_p2]\n",
    "\n",
    "_kg_poly_line = geometry.LineString(_kg_poly)\n",
    "_kg_poly = geometry.Polygon(_kg_poly_line)\n"
   ],
   "metadata": {
    "collapsed": false
   }
  },
  {
   "cell_type": "code",
   "execution_count": 89,
   "outputs": [],
   "source": [
    "add_layer(20, 0, \"Условные обозначения луга\")\n",
    "\n",
    "for i in range(int(extra_points[\"20\"][1] - int(extra_points[\"20\"][1]) % 5), int(extra_points[\"7\"][1]), 20):\n",
    "    for b in range(int(extra_points[\"4\"][0] - int(extra_points[\"4\"][1]) % 5), int(extra_points[\"15\"][0]), 20):\n",
    "        _d_point = geometry.Point(m_to_mm((b, i)))\n",
    "        if _plan_poly.contains(_d_point) and not _farm_poly.contains(_d_point) and not _fruit_garden_poly.contains(_d_point):\n",
    "            draw_meadow(m_to_mm((b, i)))\n"
   ],
   "metadata": {
    "collapsed": false
   }
  },
  {
   "cell_type": "code",
   "execution_count": 90,
   "outputs": [],
   "source": [
    "add_layer(21, 0, \"Условные обозначения фруктового сада\")\n",
    "\n",
    "for i in range(int(fruit_garden_points[2][1]), int(fruit_garden_points[0][1]), 5):\n",
    "    for b in range(int(fruit_garden_points[-1][0]), int(fruit_garden_points[1][0]), 5):\n",
    "        _d_point = geometry.Point(m_to_mm((b, i)))\n",
    "        if _fruit_garden_poly.contains(_d_point) and not _kg_poly.contains(_d_point):\n",
    "            iDocument2D.ksCircle(*m_to_mm((b, i)), 1000 ,2)"
   ],
   "metadata": {
    "collapsed": false
   }
  },
  {
   "cell_type": "code",
   "execution_count": 91,
   "outputs": [],
   "source": [
    "add_layer(22, 0, \"Условные обозначения леса\")\n",
    "\n",
    "for i in range(int(extra_points[\"4\"][1] - int(extra_points[\"4\"][1]) % 5), int(extra_points[\"7\"][1]), 20):\n",
    "    for b in range(int(extra_points[\"3\"][0] - int(extra_points[\"3\"][1]) % 5), int(extra_points[\"7\"][0]), 20):\n",
    "        _d_point = geometry.Point(m_to_mm((b, i)))\n",
    "        if not  _plan_poly.contains(_d_point):\n",
    "            iDocument2D.ksCircle(*m_to_mm((b, i)), 2500 ,2)"
   ],
   "metadata": {
    "collapsed": false
   }
  },
  {
   "cell_type": "code",
   "execution_count": 92,
   "outputs": [],
   "source": [
    "def _f_slope(x1, y1, x2, y2): # Line slope given two points:\n",
    "    return (y2-y1)/(x2-x1)\n",
    "\n",
    "def _f_angle(s1, s2):\n",
    "    return degrees(atan((s2-s1)/(1+(s2*s1))))"
   ],
   "metadata": {
    "collapsed": false
   }
  },
  {
   "cell_type": "code",
   "execution_count": 93,
   "outputs": [
    {
     "data": {
      "text/plain": "1073757308"
     },
     "execution_count": 93,
     "metadata": {},
     "output_type": "execute_result"
    }
   ],
   "source": [
    "# Дерево\n",
    "add_layer(23, 0, \"Дерево\")\n",
    "\n",
    "_a1 = radians(49 + 15/60)\n",
    "_a2 = radians(_f_angle(_f_slope(*extra_points[\"113\"][:2], *extra_points[\"112\"][:2]), _f_slope(*extra_points[\"ПЗ42\"][:2], *extra_points[\"113\"][:2])) - (55 + 6/60))\n",
    "\n",
    "s = line_len(extra_points[\"113\"][:2], extra_points[\"112\"][:2])\n",
    "\n",
    "_a3 = pi - _a2 - _a1\n",
    "\n",
    "_l1 = (s / sin(_a3)) * sin(_a1)\n",
    "_l2 = (s / sin(_a3)) * sin(_a2)\n",
    "\n",
    "_tree = endpoint_by_distance_and_angle(extra_points[\"113\"][:2], _l1, degrees(_a2) + np.rad2deg(getAngleBetweenPoints(*extra_points[\"113\"][:2], *extra_points[\"112\"][:2])))\n",
    "\n",
    "_tree_point = iDocument2D.ksPoint(*m_to_mm(_tree), 0)\n",
    "\n",
    "from pathlib import Path\n",
    "\n",
    "iRasterParam = kompas6_api5_module.ksRasterParam(kompas_object.GetParamStruct(kompas6_constants.ko_RasterParam))\n",
    "iRasterParam.Init()\n",
    "iRasterParam.embeded = True\n",
    "iRasterParam.fileName = str(Path('./tree-64x64.png').absolute())\n",
    "iPlacementParam = kompas6_api5_module.ksPlacementParam(kompas_object.GetParamStruct(kompas6_constants.ko_PlacementParam))\n",
    "iPlacementParam.Init()\n",
    "iPlacementParam.angle = 0\n",
    "iPlacementParam.scale_ = 0.025\n",
    "\n",
    "# _img_cords = tuple(map(lambda i: i * 1, iDocument2D.ksViewToSheet(*m_to_mm(_tree))[1:]))\n",
    "\n",
    "_plan = kompas_document_2d.ViewsAndLayersManager.Views.ActiveView\n",
    "\n",
    "# _system_view = kompas_document_2d.ViewsAndLayersManager.Views.ViewByNumber(0)\n",
    "# _system_view.Current = True\n",
    "# _system_view.Update()\n",
    "\n",
    "iPlacementParam.xBase = _tree[0] / 2 - 1.847273\n",
    "iPlacementParam.yBase = _tree[1] / 2\n",
    "iRasterParam.SetPlace(iPlacementParam)\n",
    "iDocument2D.ksInsertRaster(iRasterParam)"
   ],
   "metadata": {
    "collapsed": false
   }
  },
  {
   "cell_type": "code",
   "execution_count": 94,
   "outputs": [
    {
     "data": {
      "text/plain": "1073757311"
     },
     "execution_count": 94,
     "metadata": {},
     "output_type": "execute_result"
    }
   ],
   "source": [
    "# Рамка\n",
    "add_layer(24, 0, \"Рамка\")\n",
    "\n",
    "_padding = 30\n",
    "_top_left_frame_corner = m_to_mm((extra_points[\"3\"][0] - _padding, extra_points[\"7\"][1] + _padding))\n",
    "_bottom_right_frame_corner = m_to_mm((extra_points[\"15\"][0] + _padding, extra_points[\"19\"][1] - _padding))\n",
    "\n",
    "_wh_dif = (-1 * (_top_left_frame_corner[1] - _bottom_right_frame_corner[1]), -1 * (_top_left_frame_corner[0] - _bottom_right_frame_corner[0]))\n",
    "_max_dim = max((abs(i) for i in _wh_dif))\n",
    "_wh_dif = (-1 * _max_dim, _max_dim)\n",
    "\n",
    "\n",
    "# iDocument2D.ksPoint(*_top_left_frame_corner, 0)\n",
    "# iDocument2D.ksPoint(*_bottom_right_frame_corner, 0)\n",
    "\n",
    "add_rect(_top_left_frame_corner, *_wh_dif)\n",
    "\n",
    "\n",
    "_padding += _padding\n",
    "_top_left_frame_corner = m_to_mm((extra_points[\"3\"][0] - _padding, extra_points[\"7\"][1] + _padding))\n",
    "_bottom_right_frame_corner = m_to_mm((extra_points[\"15\"][0] + _padding, extra_points[\"19\"][1] - _padding))\n",
    "\n",
    "_wh_dif = (-1 * (_top_left_frame_corner[1] - _bottom_right_frame_corner[1]), -1 * (_top_left_frame_corner[0] - _bottom_right_frame_corner[0]))\n",
    "_max_dim = max((abs(i) for i in _wh_dif))\n",
    "_wh_dif = (-1 * _max_dim, _max_dim)\n",
    "\n",
    "add_rect(_top_left_frame_corner, *_wh_dif)\n"
   ],
   "metadata": {
    "collapsed": false
   }
  },
  {
   "cell_type": "code",
   "execution_count": 95,
   "outputs": [],
   "source": [
    "_main_points = [tuple(int(i // 100) / 10 for i in extra_points[point][:2]) for point in \"ПЗ41,111,112,113,ПЗ42\".split(sep=\",\")]\n",
    "\n",
    "_min_x = min(_main_points, key=lambda x: x[0])[0]\n",
    "_min_y = min(_main_points, key=lambda y: y[1])[1]\n",
    "\n",
    "_x_list = [round(_min_x + 0.2 * i, 1) for i in range(3)]\n",
    "_y_list = [round(_min_y + 0.2 * i, 1) for i in range(3)]\n",
    "\n",
    "for x_cord in _x_list:\n",
    "    for y_cord in _y_list:\n",
    "        iDocument2D.ksPoint(*m_to_mm(m_to_mm((x_cord, y_cord))), 8)\n"
   ],
   "metadata": {
    "collapsed": false
   }
  },
  {
   "cell_type": "code",
   "execution_count": 96,
   "outputs": [],
   "source": [
    "for cord in _x_list:\n",
    "    add_text(str(cord), int(cord * 1000000) + 2.5 * 2000, _bottom_right_frame_corner[1] + _padding/7 * 1000, 90,  5)\n",
    "    add_text(str(cord), int(cord * 1000000) + 2.5 * 2000, _top_left_frame_corner[1]     - _padding/2.5 * 1000, 90,  5)\n"
   ],
   "metadata": {
    "collapsed": false
   }
  },
  {
   "cell_type": "code",
   "execution_count": 97,
   "outputs": [],
   "source": [
    "for cord in _y_list:\n",
    "    add_text(str(cord), _top_left_frame_corner[0]     + _padding/7 * 1000, int(cord * 1000000) - 2.5 * 2000, 0,  5)\n",
    "    add_text(str(cord), _bottom_right_frame_corner[0] + _padding/2 * 1000, int(cord * 1000000) - 2.5 * 2000, 0,  5)\n"
   ],
   "metadata": {
    "collapsed": false
   }
  },
  {
   "cell_type": "code",
   "execution_count": 98,
   "outputs": [],
   "source": [
    "# Добавить подпись\n",
    "\n",
    "add_text(f\"План Масштаб 1:{ONE_TO_SCALE} Вариант: ХХ\", _top_left_frame_corner[0] + 10000, _bottom_right_frame_corner[1] - 40000, 0, 14)"
   ],
   "metadata": {
    "collapsed": false
   }
  },
  {
   "cell_type": "code",
   "execution_count": 99,
   "outputs": [],
   "source": [
    "if Path('../../../Watermark.png').exists():\n",
    "    # Добавить картинку\n",
    "\n",
    "    iRasterParam = kompas6_api5_module.ksRasterParam(kompas_object.GetParamStruct(kompas6_constants.ko_RasterParam))\n",
    "    iRasterParam.Init()\n",
    "    iRasterParam.embeded = True\n",
    "    iRasterParam.fileName = str(Path('../../../Watermark.png').absolute())\n",
    "    iPlacementParam = kompas6_api5_module.ksPlacementParam(kompas_object.GetParamStruct(kompas6_constants.ko_PlacementParam))\n",
    "    iPlacementParam.Init()\n",
    "    iPlacementParam.angle = 0\n",
    "    iPlacementParam.scale_ = 0.4\n",
    "    iPlacementParam.xBase = extra_points[\"3\"][0] / 2\n",
    "    iPlacementParam.yBase = extra_points[\"20\"][1] / 2\n",
    "    iRasterParam.SetPlace(iPlacementParam)\n",
    "    iDocument2D.ksInsertRaster(iRasterParam)"
   ],
   "metadata": {
    "collapsed": false
   }
  },
  {
   "cell_type": "code",
   "execution_count": 100,
   "outputs": [],
   "source": [
    "kompas_document.SaveAs(str(Path(f'../test.pdf').absolute()))"
   ],
   "metadata": {
    "collapsed": false
   }
  },
  {
   "cell_type": "code",
   "execution_count": 100,
   "outputs": [],
   "source": [],
   "metadata": {
    "collapsed": false
   }
  }
 ],
 "metadata": {
  "kernelspec": {
   "display_name": "Python 3",
   "language": "python",
   "name": "python3"
  },
  "language_info": {
   "codemirror_mode": {
    "name": "ipython",
    "version": 2
   },
   "file_extension": ".py",
   "mimetype": "text/x-python",
   "name": "python",
   "nbconvert_exporter": "python",
   "pygments_lexer": "ipython2",
   "version": "2.7.6"
  }
 },
 "nbformat": 4,
 "nbformat_minor": 0
}
