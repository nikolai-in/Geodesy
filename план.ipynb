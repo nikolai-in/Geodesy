{
 "cells": [
  {
   "cell_type": "markdown",
   "source": [
    "![https://www.pngmart.com/files/5/Spaghetti-Transparent-Background.png](https://www.pngmart.com/files/5/Spaghetti-Transparent-Background.png)"
   ],
   "metadata": {
    "collapsed": false
   }
  },
  {
   "cell_type": "code",
   "execution_count": 382,
   "metadata": {
    "collapsed": true
   },
   "outputs": [],
   "source": [
    "import pandas as pd\n",
    "from math import *\n",
    "import numpy as np\n",
    "from scipy import interpolate\n",
    "\n",
    "# Импорт компосовской херни\n",
    "import pythoncom\n",
    "from win32com.client import Dispatch, gencache\n",
    "\n",
    "import LDefin2D\n",
    "import MiscellaneousHelpers as MH\n",
    "\n"
   ]
  },
  {
   "cell_type": "code",
   "execution_count": 383,
   "outputs": [],
   "source": [
    "#  Подключим константы API Компас\n",
    "kompas6_constants = gencache.EnsureModule(\"{75C9F5D0-B5B8-4526-8681-9903C567D2ED}\", 0, 1, 0).constants\n",
    "kompas6_constants_3d = gencache.EnsureModule(\"{2CAF168C-7961-4B90-9DA2-701419BEEFE3}\", 0, 1, 0).constants\n",
    "\n",
    "#  Подключим описание интерфейсов API5\n",
    "kompas6_api5_module = gencache.EnsureModule(\"{0422828C-F174-495E-AC5D-D31014DBBE87}\", 0, 1, 0)\n",
    "kompas_object = kompas6_api5_module.KompasObject(\n",
    "    Dispatch(\"Kompas.Application.5\")._oleobj_.QueryInterface(kompas6_api5_module.KompasObject.CLSID,\n",
    "                                                             pythoncom.IID_IDispatch))\n",
    "MH.iKompasObject = kompas_object\n",
    "\n",
    "#  Подключим описание интерфейсов API7\n",
    "kompas_api7_module = gencache.EnsureModule(\"{69AC2981-37C0-4379-84FD-5DD2F3C0A520}\", 0, 1, 0)\n",
    "application = kompas_api7_module.IApplication(\n",
    "    Dispatch(\"Kompas.Application.7\")._oleobj_.QueryInterface(kompas_api7_module.IApplication.CLSID,\n",
    "                                                             pythoncom.IID_IDispatch))\n",
    "MH.iApplication = application\n",
    "\n",
    "documents = application.Documents\n",
    "#  Получим активный документ\n",
    "kompas_document = application.ActiveDocument\n",
    "kompas_document_2d = kompas_api7_module.IKompasDocument2D(kompas_document)\n",
    "iDocument2D = kompas_object.ActiveDocument2D()"
   ],
   "metadata": {
    "collapsed": false
   }
  },
  {
   "cell_type": "code",
   "execution_count": 384,
   "outputs": [
    {
     "data": {
      "text/plain": "     №№            X            Y           H\n0  ПЗ41  1461.310000  2370.570000  132.240000\n1   111  1626.253069  2371.784960  136.588469\n2   112  1594.848907  2496.474264  132.671694\n3   113  1542.897439  2664.448824  133.288756\n4  ПЗ42  1336.480000  2587.050000  131.590000",
      "text/html": "<div>\n<style scoped>\n    .dataframe tbody tr th:only-of-type {\n        vertical-align: middle;\n    }\n\n    .dataframe tbody tr th {\n        vertical-align: top;\n    }\n\n    .dataframe thead th {\n        text-align: right;\n    }\n</style>\n<table border=\"1\" class=\"dataframe\">\n  <thead>\n    <tr style=\"text-align: right;\">\n      <th></th>\n      <th>№№</th>\n      <th>X</th>\n      <th>Y</th>\n      <th>H</th>\n    </tr>\n  </thead>\n  <tbody>\n    <tr>\n      <th>0</th>\n      <td>ПЗ41</td>\n      <td>1461.310000</td>\n      <td>2370.570000</td>\n      <td>132.240000</td>\n    </tr>\n    <tr>\n      <th>1</th>\n      <td>111</td>\n      <td>1626.253069</td>\n      <td>2371.784960</td>\n      <td>136.588469</td>\n    </tr>\n    <tr>\n      <th>2</th>\n      <td>112</td>\n      <td>1594.848907</td>\n      <td>2496.474264</td>\n      <td>132.671694</td>\n    </tr>\n    <tr>\n      <th>3</th>\n      <td>113</td>\n      <td>1542.897439</td>\n      <td>2664.448824</td>\n      <td>133.288756</td>\n    </tr>\n    <tr>\n      <th>4</th>\n      <td>ПЗ42</td>\n      <td>1336.480000</td>\n      <td>2587.050000</td>\n      <td>131.590000</td>\n    </tr>\n  </tbody>\n</table>\n</div>"
     },
     "execution_count": 384,
     "metadata": {},
     "output_type": "execute_result"
    }
   ],
   "source": [
    "table_79 = pd.read_excel('Геодезия.xlsm', sheet_name='pandasPlan79')\n",
    "\n",
    "table_79"
   ],
   "metadata": {
    "collapsed": false
   }
  },
  {
   "cell_type": "code",
   "execution_count": 385,
   "outputs": [
    {
     "data": {
      "text/plain": "             №№  Отсчет по дальномеру kl, м  Отсчет по гориз. Кругу  \\\n0   ПЗ41 - ПЗ42                         NaN                     NaN   \n1             1                        88.0               12.033333   \n2             2                       111.0               78.183333   \n3             3                       155.0              136.400000   \n4             4                       132.0              144.916667   \n5             5                       141.0              195.450000   \n6    111 - ПЗ41                         NaN                     NaN   \n7             6                        94.0              125.416667   \n8             7                       131.0              181.350000   \n9             8                       128.0              231.250000   \n10            9                       124.0              337.600000   \n11    112 - 111                         NaN                     NaN   \n12           10                        87.0              104.266667   \n13           11                       132.0              253.150000   \n14           12                       127.0              277.800000   \n15           13                        53.0              279.666667   \n16    113 - 112                         NaN                     NaN   \n17           14                       114.0               46.983333   \n18           15                        82.0              101.450000   \n19           16                        84.5              265.416667   \n20           17                        81.5              317.433333   \n21   ПЗ42 - 113                         NaN                     NaN   \n22           18                        54.0               12.950000   \n23           19                       123.0              178.016667   \n24           20                        90.0              178.550000   \n25           21                       148.0              234.933333   \n26           22                        76.5              275.850000   \n27           23                        96.0              334.766667   \n\n    Отметки реечн. точек Hр.т., м  \n0                             NaN  \n1                      129.550000  \n2                      128.540000  \n3                      128.950000  \n4                      128.910000  \n5                      132.320000  \n6                             NaN  \n7                      133.638469  \n8                      133.928469  \n9                      132.538469  \n10                     132.438469  \n11                            NaN  \n12                     131.861694  \n13                     131.671694  \n14                     130.681694  \n15                     132.181694  \n16                            NaN  \n17                     131.598756  \n18                     131.928756  \n19                     133.778756  \n20                     133.688756  \n21                            NaN  \n22                     133.290000  \n23                     127.870000  \n24                     127.900000  \n25                     128.190000  \n26                     131.190000  \n27                     133.290000  ",
      "text/html": "<div>\n<style scoped>\n    .dataframe tbody tr th:only-of-type {\n        vertical-align: middle;\n    }\n\n    .dataframe tbody tr th {\n        vertical-align: top;\n    }\n\n    .dataframe thead th {\n        text-align: right;\n    }\n</style>\n<table border=\"1\" class=\"dataframe\">\n  <thead>\n    <tr style=\"text-align: right;\">\n      <th></th>\n      <th>№№</th>\n      <th>Отсчет по дальномеру kl, м</th>\n      <th>Отсчет по гориз. Кругу</th>\n      <th>Отметки реечн. точек Hр.т., м</th>\n    </tr>\n  </thead>\n  <tbody>\n    <tr>\n      <th>0</th>\n      <td>ПЗ41 - ПЗ42</td>\n      <td>NaN</td>\n      <td>NaN</td>\n      <td>NaN</td>\n    </tr>\n    <tr>\n      <th>1</th>\n      <td>1</td>\n      <td>88.0</td>\n      <td>12.033333</td>\n      <td>129.550000</td>\n    </tr>\n    <tr>\n      <th>2</th>\n      <td>2</td>\n      <td>111.0</td>\n      <td>78.183333</td>\n      <td>128.540000</td>\n    </tr>\n    <tr>\n      <th>3</th>\n      <td>3</td>\n      <td>155.0</td>\n      <td>136.400000</td>\n      <td>128.950000</td>\n    </tr>\n    <tr>\n      <th>4</th>\n      <td>4</td>\n      <td>132.0</td>\n      <td>144.916667</td>\n      <td>128.910000</td>\n    </tr>\n    <tr>\n      <th>5</th>\n      <td>5</td>\n      <td>141.0</td>\n      <td>195.450000</td>\n      <td>132.320000</td>\n    </tr>\n    <tr>\n      <th>6</th>\n      <td>111 - ПЗ41</td>\n      <td>NaN</td>\n      <td>NaN</td>\n      <td>NaN</td>\n    </tr>\n    <tr>\n      <th>7</th>\n      <td>6</td>\n      <td>94.0</td>\n      <td>125.416667</td>\n      <td>133.638469</td>\n    </tr>\n    <tr>\n      <th>8</th>\n      <td>7</td>\n      <td>131.0</td>\n      <td>181.350000</td>\n      <td>133.928469</td>\n    </tr>\n    <tr>\n      <th>9</th>\n      <td>8</td>\n      <td>128.0</td>\n      <td>231.250000</td>\n      <td>132.538469</td>\n    </tr>\n    <tr>\n      <th>10</th>\n      <td>9</td>\n      <td>124.0</td>\n      <td>337.600000</td>\n      <td>132.438469</td>\n    </tr>\n    <tr>\n      <th>11</th>\n      <td>112 - 111</td>\n      <td>NaN</td>\n      <td>NaN</td>\n      <td>NaN</td>\n    </tr>\n    <tr>\n      <th>12</th>\n      <td>10</td>\n      <td>87.0</td>\n      <td>104.266667</td>\n      <td>131.861694</td>\n    </tr>\n    <tr>\n      <th>13</th>\n      <td>11</td>\n      <td>132.0</td>\n      <td>253.150000</td>\n      <td>131.671694</td>\n    </tr>\n    <tr>\n      <th>14</th>\n      <td>12</td>\n      <td>127.0</td>\n      <td>277.800000</td>\n      <td>130.681694</td>\n    </tr>\n    <tr>\n      <th>15</th>\n      <td>13</td>\n      <td>53.0</td>\n      <td>279.666667</td>\n      <td>132.181694</td>\n    </tr>\n    <tr>\n      <th>16</th>\n      <td>113 - 112</td>\n      <td>NaN</td>\n      <td>NaN</td>\n      <td>NaN</td>\n    </tr>\n    <tr>\n      <th>17</th>\n      <td>14</td>\n      <td>114.0</td>\n      <td>46.983333</td>\n      <td>131.598756</td>\n    </tr>\n    <tr>\n      <th>18</th>\n      <td>15</td>\n      <td>82.0</td>\n      <td>101.450000</td>\n      <td>131.928756</td>\n    </tr>\n    <tr>\n      <th>19</th>\n      <td>16</td>\n      <td>84.5</td>\n      <td>265.416667</td>\n      <td>133.778756</td>\n    </tr>\n    <tr>\n      <th>20</th>\n      <td>17</td>\n      <td>81.5</td>\n      <td>317.433333</td>\n      <td>133.688756</td>\n    </tr>\n    <tr>\n      <th>21</th>\n      <td>ПЗ42 - 113</td>\n      <td>NaN</td>\n      <td>NaN</td>\n      <td>NaN</td>\n    </tr>\n    <tr>\n      <th>22</th>\n      <td>18</td>\n      <td>54.0</td>\n      <td>12.950000</td>\n      <td>133.290000</td>\n    </tr>\n    <tr>\n      <th>23</th>\n      <td>19</td>\n      <td>123.0</td>\n      <td>178.016667</td>\n      <td>127.870000</td>\n    </tr>\n    <tr>\n      <th>24</th>\n      <td>20</td>\n      <td>90.0</td>\n      <td>178.550000</td>\n      <td>127.900000</td>\n    </tr>\n    <tr>\n      <th>25</th>\n      <td>21</td>\n      <td>148.0</td>\n      <td>234.933333</td>\n      <td>128.190000</td>\n    </tr>\n    <tr>\n      <th>26</th>\n      <td>22</td>\n      <td>76.5</td>\n      <td>275.850000</td>\n      <td>131.190000</td>\n    </tr>\n    <tr>\n      <th>27</th>\n      <td>23</td>\n      <td>96.0</td>\n      <td>334.766667</td>\n      <td>133.290000</td>\n    </tr>\n  </tbody>\n</table>\n</div>"
     },
     "execution_count": 385,
     "metadata": {},
     "output_type": "execute_result"
    }
   ],
   "source": [
    "table_10 = pd.read_excel('Геодезия.xlsm', sheet_name='pandasPlan10')\n",
    "\n",
    "table_10"
   ],
   "metadata": {
    "collapsed": false
   }
  },
  {
   "cell_type": "code",
   "execution_count": 386,
   "outputs": [],
   "source": [
    "def add_layer(id: int, state: int = 3, name: str = None):\n",
    "    obj = iDocument2D.ksLayer(id)\n",
    "    iLayerParam = kompas6_api5_module.ksLayerParam(kompas_object.GetParamStruct(kompas6_constants.ko_LayerParam))\n",
    "    iLayerParam.Init()\n",
    "    if name:\n",
    "        iLayerParam.name = name\n",
    "    iLayerParam.state = state\n",
    "    iDocument2D.ksSetObjParam(obj, iLayerParam, LDefin2D.ALLPARAM)\n",
    "\n",
    "\n",
    "def add_view(name: str, scale: float = 1, x=0, y=0):\n",
    "    iViewParam = kompas6_api5_module.ksViewParam(kompas_object.GetParamStruct(kompas6_constants.ko_ViewParam))\n",
    "    iViewParam.Init()\n",
    "    iViewParam.angle = 0\n",
    "    iViewParam.color = 0\n",
    "    iViewParam.name = name\n",
    "    iViewParam.scale_ = scale\n",
    "    iViewParam.state = 3\n",
    "    iViewParam.x = x\n",
    "    iViewParam.y = y\n",
    "    iDocument2D.ksCreateSheetView(iViewParam, 0)\n",
    "\n",
    "\n",
    "def add_text(text: str, x: float, y: float, angle: float = 0, font_size: float = 2.5, color = 0):\n",
    "    iParagraphParam = kompas6_api5_module.ksParagraphParam(\n",
    "        kompas_object.GetParamStruct(kompas6_constants.ko_ParagraphParam))\n",
    "    iParagraphParam.Init()\n",
    "    iParagraphParam.x = x\n",
    "    iParagraphParam.y = y\n",
    "    iParagraphParam.ang = angle\n",
    "    iParagraphParam.height = 3.55\n",
    "    iParagraphParam.width = 4\n",
    "    iParagraphParam.hFormat = 0\n",
    "    iParagraphParam.vFormat = 0\n",
    "    iParagraphParam.style = 1\n",
    "    iDocument2D.ksParagraph(iParagraphParam)\n",
    "\n",
    "    iTextLineParam = kompas6_api5_module.ksTextLineParam(\n",
    "        kompas_object.GetParamStruct(kompas6_constants.ko_TextLineParam))\n",
    "    iTextLineParam.Init()\n",
    "    iTextLineParam.style = 1\n",
    "    iTextItemArray = kompas_object.GetDynamicArray(LDefin2D.TEXT_ITEM_ARR)\n",
    "    iTextItemParam = kompas6_api5_module.ksTextItemParam(\n",
    "        kompas_object.GetParamStruct(kompas6_constants.ko_TextItemParam))\n",
    "    iTextItemParam.Init()\n",
    "    iTextItemParam.iSNumb = 0\n",
    "    iTextItemParam.s = text\n",
    "    iTextItemParam.type = 0\n",
    "    iTextItemFont = kompas6_api5_module.ksTextItemFont(iTextItemParam.GetItemFont())\n",
    "    iTextItemFont.Init()\n",
    "    iTextItemFont.bitVector = 4096\n",
    "    iTextItemFont.color = color\n",
    "    iTextItemFont.fontName = \"GOST type A\"\n",
    "    iTextItemFont.height = font_size\n",
    "    iTextItemFont.ksu = 1\n",
    "    iTextItemArray.ksAddArrayItem(-1, iTextItemParam)\n",
    "    iTextLineParam.SetTextItemArr(iTextItemArray)\n",
    "\n",
    "    iDocument2D.ksTextLine(iTextLineParam)\n",
    "    obj = iDocument2D.ksEndObj()\n",
    "\n"
   ],
   "metadata": {
    "collapsed": false
   }
  },
  {
   "cell_type": "code",
   "execution_count": 387,
   "outputs": [],
   "source": [
    "ONE_TO_SCALE = 2000\n",
    "\n",
    "add_view(\"План\", 1/ONE_TO_SCALE)\n",
    "add_layer(1, 3,\"Основные Точки\")\n",
    "\n",
    "for i, row in table_79.iterrows():\n",
    "    # X и Y перевёрнуты\n",
    "    obj = iDocument2D.ksCircle(row[\"Y\"] * 1000, row[\"X\"] * 1000, 1000, 1)\n",
    "    add_text(str(row[\"№№\"]) + \" (\" + str(\"{:1.2f}\".format(row[\"H\"])).replace(\".\", \",\") + \")\", row[\"Y\"] * 1000 - 15000, row[\"X\"] * 1000 - 7000)\n"
   ],
   "metadata": {
    "collapsed": false
   }
  },
  {
   "cell_type": "code",
   "execution_count": 388,
   "outputs": [],
   "source": [
    "# https://stackoverflow.com/questions/7586063/how-to-calculate-the-angle-between-a-line-and-the-horizontal-axis\n",
    "def angle_trunc(a):\n",
    "    while a < 0.0:\n",
    "        a += pi * 2\n",
    "    return a\n",
    "\n",
    "def getAngleBetweenPoints(x_orig, y_orig, x_landmark, y_landmark):\n",
    "    deltaY = y_landmark - y_orig\n",
    "    deltaX = x_landmark - x_orig\n",
    "    return angle_trunc(atan2(deltaY, deltaX))"
   ],
   "metadata": {
    "collapsed": false
   }
  },
  {
   "cell_type": "code",
   "execution_count": 389,
   "outputs": [
    {
     "data": {
      "text/plain": "             №№  Отсчет по дальномеру kl, м  Отсчет по гориз. Кругу  \\\n0   ПЗ41 - ПЗ42                         NaN                     NaN   \n1             1                        88.0               12.033333   \n2             2                       111.0               78.183333   \n3             3                       155.0              136.400000   \n4             4                       132.0              144.916667   \n5             5                       141.0              195.450000   \n6    111 - ПЗ41                         NaN                     NaN   \n7             6                        94.0              125.416667   \n8             7                       131.0              181.350000   \n9             8                       128.0              231.250000   \n10            9                       124.0              337.600000   \n11    112 - 111                         NaN                     NaN   \n12           10                        87.0              104.266667   \n13           11                       132.0              253.150000   \n14           12                       127.0              277.800000   \n15           13                        53.0              279.666667   \n16    113 - 112                         NaN                     NaN   \n17           14                       114.0               46.983333   \n18           15                        82.0              101.450000   \n19           16                        84.5              265.416667   \n20           17                        81.5              317.433333   \n21   ПЗ42 - 113                         NaN                     NaN   \n22           18                        54.0               12.950000   \n23           19                       123.0              178.016667   \n24           20                        90.0              178.550000   \n25           21                       148.0              234.933333   \n26           22                        76.5              275.850000   \n27           23                        96.0              334.766667   \n\n    Отметки реечн. точек Hр.т., м  \n0                             NaN  \n1                      129.550000  \n2                      128.540000  \n3                      128.950000  \n4                      128.910000  \n5                      132.320000  \n6                             NaN  \n7                      133.638469  \n8                      133.928469  \n9                      132.538469  \n10                     132.438469  \n11                            NaN  \n12                     131.861694  \n13                     131.671694  \n14                     130.681694  \n15                     132.181694  \n16                            NaN  \n17                     131.598756  \n18                     131.928756  \n19                     133.778756  \n20                     133.688756  \n21                            NaN  \n22                     133.290000  \n23                     127.870000  \n24                     127.900000  \n25                     128.190000  \n26                     131.190000  \n27                     133.290000  ",
      "text/html": "<div>\n<style scoped>\n    .dataframe tbody tr th:only-of-type {\n        vertical-align: middle;\n    }\n\n    .dataframe tbody tr th {\n        vertical-align: top;\n    }\n\n    .dataframe thead th {\n        text-align: right;\n    }\n</style>\n<table border=\"1\" class=\"dataframe\">\n  <thead>\n    <tr style=\"text-align: right;\">\n      <th></th>\n      <th>№№</th>\n      <th>Отсчет по дальномеру kl, м</th>\n      <th>Отсчет по гориз. Кругу</th>\n      <th>Отметки реечн. точек Hр.т., м</th>\n    </tr>\n  </thead>\n  <tbody>\n    <tr>\n      <th>0</th>\n      <td>ПЗ41 - ПЗ42</td>\n      <td>NaN</td>\n      <td>NaN</td>\n      <td>NaN</td>\n    </tr>\n    <tr>\n      <th>1</th>\n      <td>1</td>\n      <td>88.0</td>\n      <td>12.033333</td>\n      <td>129.550000</td>\n    </tr>\n    <tr>\n      <th>2</th>\n      <td>2</td>\n      <td>111.0</td>\n      <td>78.183333</td>\n      <td>128.540000</td>\n    </tr>\n    <tr>\n      <th>3</th>\n      <td>3</td>\n      <td>155.0</td>\n      <td>136.400000</td>\n      <td>128.950000</td>\n    </tr>\n    <tr>\n      <th>4</th>\n      <td>4</td>\n      <td>132.0</td>\n      <td>144.916667</td>\n      <td>128.910000</td>\n    </tr>\n    <tr>\n      <th>5</th>\n      <td>5</td>\n      <td>141.0</td>\n      <td>195.450000</td>\n      <td>132.320000</td>\n    </tr>\n    <tr>\n      <th>6</th>\n      <td>111 - ПЗ41</td>\n      <td>NaN</td>\n      <td>NaN</td>\n      <td>NaN</td>\n    </tr>\n    <tr>\n      <th>7</th>\n      <td>6</td>\n      <td>94.0</td>\n      <td>125.416667</td>\n      <td>133.638469</td>\n    </tr>\n    <tr>\n      <th>8</th>\n      <td>7</td>\n      <td>131.0</td>\n      <td>181.350000</td>\n      <td>133.928469</td>\n    </tr>\n    <tr>\n      <th>9</th>\n      <td>8</td>\n      <td>128.0</td>\n      <td>231.250000</td>\n      <td>132.538469</td>\n    </tr>\n    <tr>\n      <th>10</th>\n      <td>9</td>\n      <td>124.0</td>\n      <td>337.600000</td>\n      <td>132.438469</td>\n    </tr>\n    <tr>\n      <th>11</th>\n      <td>112 - 111</td>\n      <td>NaN</td>\n      <td>NaN</td>\n      <td>NaN</td>\n    </tr>\n    <tr>\n      <th>12</th>\n      <td>10</td>\n      <td>87.0</td>\n      <td>104.266667</td>\n      <td>131.861694</td>\n    </tr>\n    <tr>\n      <th>13</th>\n      <td>11</td>\n      <td>132.0</td>\n      <td>253.150000</td>\n      <td>131.671694</td>\n    </tr>\n    <tr>\n      <th>14</th>\n      <td>12</td>\n      <td>127.0</td>\n      <td>277.800000</td>\n      <td>130.681694</td>\n    </tr>\n    <tr>\n      <th>15</th>\n      <td>13</td>\n      <td>53.0</td>\n      <td>279.666667</td>\n      <td>132.181694</td>\n    </tr>\n    <tr>\n      <th>16</th>\n      <td>113 - 112</td>\n      <td>NaN</td>\n      <td>NaN</td>\n      <td>NaN</td>\n    </tr>\n    <tr>\n      <th>17</th>\n      <td>14</td>\n      <td>114.0</td>\n      <td>46.983333</td>\n      <td>131.598756</td>\n    </tr>\n    <tr>\n      <th>18</th>\n      <td>15</td>\n      <td>82.0</td>\n      <td>101.450000</td>\n      <td>131.928756</td>\n    </tr>\n    <tr>\n      <th>19</th>\n      <td>16</td>\n      <td>84.5</td>\n      <td>265.416667</td>\n      <td>133.778756</td>\n    </tr>\n    <tr>\n      <th>20</th>\n      <td>17</td>\n      <td>81.5</td>\n      <td>317.433333</td>\n      <td>133.688756</td>\n    </tr>\n    <tr>\n      <th>21</th>\n      <td>ПЗ42 - 113</td>\n      <td>NaN</td>\n      <td>NaN</td>\n      <td>NaN</td>\n    </tr>\n    <tr>\n      <th>22</th>\n      <td>18</td>\n      <td>54.0</td>\n      <td>12.950000</td>\n      <td>133.290000</td>\n    </tr>\n    <tr>\n      <th>23</th>\n      <td>19</td>\n      <td>123.0</td>\n      <td>178.016667</td>\n      <td>127.870000</td>\n    </tr>\n    <tr>\n      <th>24</th>\n      <td>20</td>\n      <td>90.0</td>\n      <td>178.550000</td>\n      <td>127.900000</td>\n    </tr>\n    <tr>\n      <th>25</th>\n      <td>21</td>\n      <td>148.0</td>\n      <td>234.933333</td>\n      <td>128.190000</td>\n    </tr>\n    <tr>\n      <th>26</th>\n      <td>22</td>\n      <td>76.5</td>\n      <td>275.850000</td>\n      <td>131.190000</td>\n    </tr>\n    <tr>\n      <th>27</th>\n      <td>23</td>\n      <td>96.0</td>\n      <td>334.766667</td>\n      <td>133.290000</td>\n    </tr>\n  </tbody>\n</table>\n</div>"
     },
     "execution_count": 389,
     "metadata": {},
     "output_type": "execute_result"
    }
   ],
   "source": [
    "table_10"
   ],
   "metadata": {
    "collapsed": false
   }
  },
  {
   "cell_type": "code",
   "execution_count": 390,
   "outputs": [],
   "source": [
    "add_layer(2, 3,\"Побочные Точки\")\n",
    "\n",
    "extra_points = {}\n",
    "\n",
    "for i, row in table_10.iterrows():\n",
    "    if \" - \" in str(row[\"№№\"]):\n",
    "        origin_label, dest_label = row[\"№№\"].split(\" - \")\n",
    "\n",
    "        if origin_label.isdigit():\n",
    "            origin_label = int(origin_label)\n",
    "\n",
    "        if dest_label.isdigit():\n",
    "            dest_label = int(dest_label)\n",
    "\n",
    "        origin = (table_79.loc[table_79['№№'] == origin_label][\"Y\"].values[0], table_79.loc[table_79['№№'] == origin_label][\"X\"].values[0])\n",
    "\n",
    "        _dest = (table_79.loc[table_79['№№'] == dest_label][\"Y\"].values[0], table_79.loc[table_79['№№'] == dest_label][\"X\"].values[0])\n",
    "\n",
    "        angle = np.rad2deg(getAngleBetweenPoints( origin[0], origin[1], _dest[0], _dest[1]))\n",
    "        _i_am_shit_at_coding = list(origin)\n",
    "        _i_am_shit_at_coding.append(table_79.loc[table_79['№№'] == origin_label][\"H\"].values[0])\n",
    "        extra_points.update({str(origin_label): _i_am_shit_at_coding})\n",
    "        continue\n",
    "    else:\n",
    "        if not origin:\n",
    "            continue\n",
    "    _d = row[\"Отсчет по дальномеру kl, м\"]\n",
    "    _alpha = row[\"Отсчет по гориз. Кругу\"]\n",
    "    xx = origin[0] + (_d * cos(np.radians(angle - _alpha)))\n",
    "    yy = origin[1] + (_d * sin(np.radians(angle - _alpha)))\n",
    "    # obj = iDocument2D.ksLineSeg(origin[0] * 1000, origin[1] * 1000, xx * 1000,yy * 1000, 6)\n",
    "\n",
    "    add_text(str(row[\"№№\"]) + \" (\" + str(\"{:1.3f}\".format(row[\"Отметки реечн. точек Hр.т., м\"])).replace(\".\", \",\") + \")\", xx * 1000 + 2000, yy * 1000 - 1000)\n",
    "\n",
    "    obj = iDocument2D.ksCircle(xx * 1000, yy * 1000, 1000, 1)\n",
    "    extra_points.update({str(row[\"№№\"]): [xx, yy, row[\"Отметки реечн. точек Hр.т., м\"]]})\n",
    "\n"
   ],
   "metadata": {
    "collapsed": false
   }
  },
  {
   "cell_type": "code",
   "execution_count": 391,
   "outputs": [],
   "source": [
    "interpolated_points = {}"
   ],
   "metadata": {
    "collapsed": false
   }
  },
  {
   "cell_type": "code",
   "execution_count": 392,
   "outputs": [],
   "source": [
    "# CON_P41 = \"1,2,4,5,21\".split(\",\")\n",
    "# CON_1 = [\"21\"]\n",
    "# CON_5 =[\"4\"]\n",
    "\n",
    "add_layer(3,2,\"Точки интерполяции пашни\")\n",
    "\n",
    "CON_111 = \"5,6,7,8,9,112,ПЗ41\".split(\",\")\n",
    "\n",
    "center_point = np.array(extra_points[\"111\"])\n",
    "for point in CON_111:\n",
    "    point = np.array(extra_points[point])\n",
    "\n",
    "    if center_point[2] > point[2]:\n",
    "        _coordinate_dif = center_point[:2] - point[:2]\n",
    "        xia = [center_point[2], point[2]]\n",
    "        hight_dif = range(int(ceil(point[2])), int(round(center_point[2])))\n",
    "    else:\n",
    "        _coordinate_dif = point[:2] - center_point[:2]\n",
    "        xia = [point[2], center_point[2]]\n",
    "        hight_dif = range(int(ceil(center_point[2])), int(round(point[2])))\n",
    "\n",
    "    length = round(np.sqrt(np.sum(np.power(_coordinate_dif,2))))\n",
    "    yia = [0, length]\n",
    "\n",
    "    _alpha = np.rad2deg(getAngleBetweenPoints( center_point[0], center_point[1], point[0], point[1]))\n",
    "\n",
    "    x = [0, length]\n",
    "    f = interpolate.interp1d(xia, yia)\n",
    "\n",
    "    for i in hight_dif:\n",
    "        _d = f(i)\n",
    "        xx = center_point[0] * 1000 + (_d * 1000 * cos(np.radians(_alpha)))\n",
    "        yy = center_point[1] * 1000 + (_d * 1000 * sin(np.radians(_alpha)))\n",
    "        obj = iDocument2D.ksPoint(xx  ,yy , 0)\n",
    "        add_text(i, xx - 10000, yy - 8000, color=9410565)\n",
    "\n",
    "        if i in interpolated_points:\n",
    "            interpolated_points[i].append((xx, yy))\n",
    "        else:\n",
    "            interpolated_points.update({i: [(xx, yy)]})\n"
   ],
   "metadata": {
    "collapsed": false
   }
  },
  {
   "cell_type": "code",
   "execution_count": 393,
   "outputs": [
    {
     "data": {
      "text/plain": "True"
     },
     "execution_count": 393,
     "metadata": {},
     "output_type": "execute_result"
    }
   ],
   "source": [
    "x = [extra_points[p][0] for p in extra_points]\n",
    "y = [extra_points[p][1] for p in extra_points]\n",
    "centroid = (sum(x) / len(extra_points), sum(y) / len(extra_points))\n",
    "obj = iDocument2D.ksPoint(*(cord * 1000 for cord in centroid), 0)\n",
    "\n",
    "current_view = kompas_document_2d.ViewsAndLayersManager.Views.ActiveView\n",
    "current_view.X = 594/2 - centroid[0] / 2\n",
    "current_view.Y = 420/2 - centroid[1] / 2\n",
    "current_view.Update()\n"
   ],
   "metadata": {
    "collapsed": false
   }
  },
  {
   "cell_type": "code",
   "execution_count": 394,
   "outputs": [],
   "source": [
    "def interpolate_line(first_point: str, second_point: str, interpolated_points: dict):\n",
    "\n",
    "    _first_point = np.array(extra_points[str(first_point)])\n",
    "    _second_point = np.array(extra_points[str(second_point)])\n",
    "\n",
    "    _coordinate_dif = _first_point[:2] - _second_point[:2]\n",
    "\n",
    "    _length = round(np.sqrt(np.sum(np.power(_coordinate_dif, 2))))\n",
    "\n",
    "    _yia = [0, _length]\n",
    "    _xia = [ _first_point[2], _second_point[2]]\n",
    "\n",
    "    _x = [0, _length]\n",
    "    _f = interpolate.interp1d(_xia, _yia)\n",
    "\n",
    "    _alpha = np.rad2deg(getAngleBetweenPoints(_first_point[0], _first_point[1], _second_point[0], _second_point[1]))\n",
    "\n",
    "    # if np.diff(sorted([int(round(_second_point[2])), int(ceil(_first_point[2]))])) <= 1:\n",
    "    #     return\n",
    "\n",
    "    _hight_dif_sorted = sorted([_second_point[2], _first_point[2]])\n",
    "\n",
    "    _height_dif = range(int(ceil(_hight_dif_sorted[0])), int(_hight_dif_sorted[1]) + 1)\n",
    "\n",
    "    print(f\"Points: {first_point, second_point}\\n Range: {_height_dif}\\n {_hight_dif_sorted}\\n\")\n",
    "\n",
    "    for i in _height_dif:\n",
    "        _d = _f(i)\n",
    "        xx = _first_point[0] * 1000 + (_d * 1000 * cos(np.radians(_alpha)))\n",
    "        yy = _first_point[1] * 1000 + (_d * 1000 * sin(np.radians(_alpha)))\n",
    "        obj = iDocument2D.ksPoint(xx, yy, 0)\n",
    "        add_text(f\"{i}\", xx - 10000, yy - 8000, color=14417715)\n",
    "\n",
    "        if i in interpolated_points:\n",
    "            interpolated_points[i].append((xx, yy))\n",
    "        else:\n",
    "            interpolated_points.update({i: [(xx, yy)]})\n",
    "        print(f\"{i}: {xx}, {yy}\")\n",
    "    print(\"\\n\")\n",
    "\n",
    "    return interpolated_points"
   ],
   "metadata": {
    "collapsed": false
   }
  },
  {
   "cell_type": "code",
   "execution_count": 395,
   "outputs": [
    {
     "name": "stdout",
     "output_type": "stream",
     "text": [
      "Points: ('7', '8')\n",
      " Range: range(133, 134)\n",
      " [132.53846884333225, 133.92846884333227]\n",
      "\n",
      "133: 2440032.8580108117, 1722842.9737959348\n",
      "\n",
      "\n"
     ]
    },
    {
     "data": {
      "text/plain": "{133: [(2287673.3469875352, 1572089.2903210295),\n  (2460754.7406739374, 1696587.7181818257),\n  (2411912.6967436667, 1526823.3855524466),\n  (2486393.023437048, 1597387.9614231174),\n  (2370782.0247120457, 1490094.4992055593),\n  (2440032.8580108117, 1722842.9737959348)],\n 134: [(2311112.7626238004, 1587183.1313769359),\n  (2304920.9964473844, 1674545.5608785225),\n  (2375726.9143583705, 1753669.3309231978),\n  (2435961.4974122425, 1676987.5342102817),\n  (2400730.284748077, 1554531.493791609),\n  (2454455.150005093, 1605431.8120216466),\n  (2371061.5129940757, 1528037.8604036914)],\n 135: [(2334552.1782600656, 1602276.9724328422),\n  (2330752.4695319613, 1655888.7814753004),\n  (2374204.02384171, 1704444.7622848481),\n  (2411168.2541505476, 1657387.3502387374),\n  (2389547.872752487, 1582239.6020307716),\n  (2422517.276573138, 1613475.6626201759),\n  (2371341.001276106, 1565981.2216018236)],\n 136: [(2357991.5938963303, 1617370.8134887486),\n  (2356583.942616538, 1637232.0020720784),\n  (2372681.1333250487, 1655220.1936464983),\n  (2386375.0108888526, 1637787.1662671932),\n  (2378365.4607568975, 1609947.7102699338),\n  (2390579.4031411824, 1621519.513218705),\n  (2371620.4895581366, 1603924.5827999557)]}"
     },
     "execution_count": 395,
     "metadata": {},
     "output_type": "execute_result"
    }
   ],
   "source": [
    "# Интерполяция между 7 и 8 точками\n",
    "\n",
    "# _seventh = np.array(extra_points[\"7\"])\n",
    "# _eighth = np.array(extra_points[\"8\"])\n",
    "#\n",
    "# _coordinate_dif = _seventh[:2] - _eighth[:2]\n",
    "#\n",
    "# _length = round(np.sqrt(np.sum(np.power(_coordinate_dif,2))))\n",
    "#\n",
    "# _yia = [0, _length]\n",
    "# _xia = [_seventh[2], _eighth[2]]\n",
    "#\n",
    "# _x = [0, _length]\n",
    "# _f = interpolate.interp1d(_xia, _yia)\n",
    "#\n",
    "# _alpha = np.rad2deg(getAngleBetweenPoints( _seventh[0], _seventh[1], _eighth[0], _eighth[1]))\n",
    "#\n",
    "# _height_dif = range(int(round(_eighth[2])), int(ceil(_seventh[2])))\n",
    "#\n",
    "# print(_height_dif)\n",
    "#\n",
    "# for i in _height_dif:\n",
    "#     print(i)\n",
    "#     _d = _f(i)\n",
    "#     xx = _seventh[0] * 1000 + (_d * 1000 * cos(np.radians(_alpha)))\n",
    "#     yy = _seventh[1] * 1000 + (_d * 1000 * sin(np.radians(_alpha)))\n",
    "#     obj = iDocument2D.ksPoint(xx  ,yy , 0)\n",
    "#     add_text(f\"{i}\", xx - 10000, yy - 8000, color=16711680)\n",
    "#\n",
    "#     if i in interpolated_points:\n",
    "#         interpolated_points[i].append((xx, yy))\n",
    "#     else:\n",
    "#         interpolated_points.update({i: [(xx, yy)]})\n",
    "\n",
    "interpolate_line(\"7\", \"8\", interpolated_points)\n"
   ],
   "metadata": {
    "collapsed": false
   }
  },
  {
   "cell_type": "code",
   "execution_count": 396,
   "outputs": [],
   "source": [
    "add_layer(4, 3,\"Кривые интерполяции пашни\")\n",
    "\n",
    "_max_num_of_points = max([len(interpolated_points[height_points]) for height_points in interpolated_points])\n",
    "\n",
    "for height in interpolated_points:\n",
    "\n",
    "    if len(interpolated_points[height]) <= 3:\n",
    "        continue\n",
    "\n",
    "    cent=(sum([p[0] for p in interpolated_points[height]])/len(interpolated_points[height]),sum([p[1] for p in interpolated_points[height]])/len(interpolated_points[height]))\n",
    "    interpolated_points[height].sort( key=lambda p: atan2(p[1]-cent[1],p[0]-cent[0]))\n",
    "\n",
    "    obj = iDocument2D.ksBezier(len(interpolated_points[height]) == _max_num_of_points, 1)\n",
    "    for point in interpolated_points[height]:\n",
    "        dot = iDocument2D.ksPoint(*point, 0)\n",
    "    iDocument2D.ksEndObj()"
   ],
   "metadata": {
    "collapsed": false
   }
  },
  {
   "cell_type": "code",
   "execution_count": 397,
   "outputs": [
    {
     "name": "stdout",
     "output_type": "stream",
     "text": [
      "Points: ('4', '5')\n",
      " Range: range(129, 133)\n",
      " [128.91, 132.32000000000002]\n",
      "\n",
      "129: 2239954.7631645817, 1452509.678645132\n",
      "130: 2249502.526225313, 1485465.3257855556\n",
      "131: 2259050.2892860444, 1518420.9729259794\n",
      "132: 2268598.052346776, 1551376.620066403\n",
      "\n",
      "\n",
      "Points: ('ПЗ41', '1')\n",
      " Range: range(130, 133)\n",
      " [129.55, 132.24]\n",
      "\n",
      "130: 2425024.545078673, 1412274.4356082084\n",
      "131: 2400714.480311408, 1434165.3125688296\n",
      "132: 2376404.415544144, 1456056.1895294506\n",
      "\n",
      "\n",
      "Points: ('ПЗ41', '2')\n",
      " Range: range(129, 133)\n",
      " [128.54000000000002, 132.24]\n",
      "\n",
      "129: 2340287.448311041, 1368947.6317800065\n",
      "130: 2349633.9148817076, 1397454.5355516095\n",
      "131: 2358980.3814523737, 1425961.4393232123\n",
      "132: 2368326.84802304, 1454468.343094815\n",
      "\n",
      "\n",
      "Points: ('ПЗ41', '4')\n",
      " Range: range(129, 133)\n",
      " [128.91, 132.24]\n",
      "\n",
      "129: 2242648.8303137342, 1449861.6793105344\n",
      "130: 2282130.672809495, 1453395.111622098\n",
      "131: 2321612.515305256, 1456928.5439336614\n",
      "132: 2361094.357801017, 1460461.9762452247\n",
      "\n",
      "\n",
      "Points: ('ПЗ41', '5')\n",
      " Range: range(133, 133)\n",
      " [132.24, 132.32000000000002]\n",
      "\n",
      "\n",
      "\n",
      "Points: ('ПЗ41', '21')\n",
      " Range: range(129, 133)\n",
      " [128.19, 132.24]\n",
      "\n",
      "129: 2429231.9991074363, 1331554.345553964\n",
      "130: 2411126.443827363, 1371602.3870496538\n",
      "131: 2393020.8885472906, 1411650.428545344\n",
      "132: 2374915.3332672175, 1451698.470041034\n",
      "\n",
      "\n",
      "Points: ('12', '13')\n",
      " Range: range(131, 133)\n",
      " [130.6816938266593, 132.1816938266593]\n",
      "\n",
      "131: 2454554.9722242453, 1491742.8642188124\n",
      "132: 2471912.906939866, 1537921.6459284464\n",
      "\n",
      "\n",
      "Points: ('1', '112')\n",
      " Range: range(130, 133)\n",
      " [129.55, 132.67169382665932]\n",
      "\n",
      "130: 2444699.0873354464, 1430201.3102543056\n",
      "131: 2464110.2275832333, 1491929.6864284773\n",
      "132: 2483521.3678310206, 1553658.062602649\n",
      "\n",
      "\n",
      "Points: ('10', '14')\n",
      " Range: range(132, 132)\n",
      " [131.59875605300547, 131.86169382665932]\n",
      "\n",
      "\n",
      "\n",
      "Points: ('16', '113')\n",
      " Range: range(134, 134)\n",
      " [133.28875605300547, 133.77875605300548]\n",
      "\n",
      "\n",
      "\n",
      "Points: ('ПЗ42', '20')\n",
      " Range: range(128, 132)\n",
      " [127.9, 131.59]\n",
      "\n",
      "128: 2558392.4632531507, 1253741.4356098964\n",
      "129: 2566375.06401829, 1276788.389479006\n",
      "130: 2574357.664783429, 1299835.3433481157\n",
      "131: 2582340.2655485678, 1322882.2972172252\n",
      "\n",
      "\n",
      "Points: ('ПЗ42', '18')\n",
      " Range: range(132, 134)\n",
      " [131.59, 133.29]\n",
      "\n",
      "132: 2594238.957482228, 1347339.6136514065\n",
      "133: 2611773.000121809, 1373826.4762158128\n",
      "\n",
      "\n",
      "Points: ('23', '22')\n",
      " Range: range(132, 134)\n",
      " [131.19, 133.29]\n",
      "\n",
      "132: 2541730.38503792, 1394071.1255465108\n",
      "133: 2570791.0899543515, 1423597.418242553\n",
      "\n",
      "\n",
      "Points: ('22', '21')\n",
      " Range: range(129, 132)\n",
      " [128.19, 131.19]\n",
      "\n",
      "129: 2464049.377436224, 1318679.3022034855\n",
      "130: 2488926.613611722, 1342341.5273322908\n",
      "131: 2513803.8497872204, 1366003.7524610958\n",
      "\n",
      "\n",
      "Points: ('20', '21')\n",
      " Range: range(128, 129)\n",
      " [127.9, 128.19]\n",
      "\n",
      "128: 2518190.1507948753, 1268038.556363911\n",
      "\n",
      "\n",
      "Points: ('1', '21')\n",
      " Range: range(129, 130)\n",
      " [128.19, 129.55]\n",
      "\n",
      "129: 2439111.809371581, 1360888.2333099924\n",
      "\n",
      "\n",
      "Points: ('21', '21')\n",
      " Range: range(129, 129)\n",
      " [128.19, 128.19]\n",
      "\n",
      "\n",
      "\n"
     ]
    },
    {
     "data": {
      "text/plain": "{129: [(2239954.7631645817, 1452509.678645132),\n  (2340287.448311041, 1368947.6317800065),\n  (2242648.8303137342, 1449861.6793105344),\n  (2429231.9991074363, 1331554.345553964),\n  (2566375.06401829, 1276788.389479006),\n  (2464049.377436224, 1318679.3022034855),\n  (2439111.809371581, 1360888.2333099924)],\n 130: [(2249502.526225313, 1485465.3257855556),\n  (2425024.545078673, 1412274.4356082084),\n  (2349633.9148817076, 1397454.5355516095),\n  (2282130.672809495, 1453395.111622098),\n  (2411126.443827363, 1371602.3870496538),\n  (2444699.0873354464, 1430201.3102543056),\n  (2574357.664783429, 1299835.3433481157),\n  (2488926.613611722, 1342341.5273322908)],\n 131: [(2259050.2892860444, 1518420.9729259794),\n  (2400714.480311408, 1434165.3125688296),\n  (2358980.3814523737, 1425961.4393232123),\n  (2321612.515305256, 1456928.5439336614),\n  (2393020.8885472906, 1411650.428545344),\n  (2454554.9722242453, 1491742.8642188124),\n  (2464110.2275832333, 1491929.6864284773),\n  (2582340.2655485678, 1322882.2972172252),\n  (2513803.8497872204, 1366003.7524610958)],\n 132: [(2268598.052346776, 1551376.620066403),\n  (2376404.415544144, 1456056.1895294506),\n  (2368326.84802304, 1454468.343094815),\n  (2361094.357801017, 1460461.9762452247),\n  (2374915.3332672175, 1451698.470041034),\n  (2471912.906939866, 1537921.6459284464),\n  (2483521.3678310206, 1553658.062602649),\n  (2594238.957482228, 1347339.6136514065),\n  (2541730.38503792, 1394071.1255465108)],\n 128: [(2558392.4632531507, 1253741.4356098964),\n  (2518190.1507948753, 1268038.556363911)],\n 133: [(2611773.000121809, 1373826.4762158128),\n  (2570791.0899543515, 1423597.418242553)]}"
     },
     "execution_count": 397,
     "metadata": {},
     "output_type": "execute_result"
    }
   ],
   "source": [
    "add_layer(5,2,\"Точки интерполяции берега\")\n",
    "\n",
    "interpolated_points_shore = {}\n",
    "\n",
    "# ПЗ 41\n",
    "interpolate_line(\"4\", \"5\", interpolated_points_shore)\n",
    "interpolate_line(\"ПЗ41\", \"1\", interpolated_points_shore)\n",
    "interpolate_line(\"ПЗ41\", \"2\", interpolated_points_shore)\n",
    "interpolate_line(\"ПЗ41\", \"4\", interpolated_points_shore)\n",
    "interpolate_line(\"ПЗ41\", \"5\", interpolated_points_shore)\n",
    "interpolate_line(\"ПЗ41\", \"21\", interpolated_points_shore)\n",
    "\n",
    "# 112\n",
    "# interpolate_line(\"8\", \"10\", interpolated_points_shore)\n",
    "# interpolate_line(\"112\", \"10\", interpolated_points_shore)\n",
    "# interpolate_line(\"112\", \"13\", interpolated_points_shore)\n",
    "# interpolate_line(\"9\", \"12\", interpolated_points_shore)\n",
    "interpolate_line(\"12\", \"13\", interpolated_points_shore)\n",
    "# interpolate_line(\"13\", \"1\", interpolated_points_shore)\n",
    "interpolate_line(\"1\", \"112\", interpolated_points_shore)\n",
    "\n",
    "# 113\n",
    "interpolate_line(\"10\", \"14\", interpolated_points_shore)\n",
    "# interpolate_line(\"113\", \"15\", interpolated_points_shore)\n",
    "# interpolate_line(\"17\", \"113\", interpolated_points_shore)\n",
    "interpolate_line(\"16\", \"113\", interpolated_points_shore)\n",
    "# interpolate_line(\"17\", \"112\", interpolated_points_shore)\n",
    "# interpolate_line(\"17\", \"14\", interpolated_points_shore)\n",
    "\n",
    "# ПЗ 42\n",
    "interpolate_line(\"ПЗ42\", \"20\", interpolated_points_shore)\n",
    "interpolate_line(\"ПЗ42\", \"18\", interpolated_points_shore)\n",
    "interpolate_line(\"23\", \"22\", interpolated_points_shore)\n",
    "interpolate_line(\"22\", \"21\", interpolated_points_shore)\n",
    "interpolate_line(\"20\", \"21\", interpolated_points_shore)\n",
    "interpolate_line(\"1\", \"21\", interpolated_points_shore)\n",
    "interpolate_line(\"21\", \"21\", interpolated_points_shore)\n"
   ],
   "metadata": {
    "collapsed": false
   }
  },
  {
   "cell_type": "code",
   "execution_count": 398,
   "outputs": [],
   "source": [
    "add_layer(6, 3,\"Кривые интерполяции берега\")\n",
    "\n",
    "for height in interpolated_points_shore:\n",
    "\n",
    "    if len(interpolated_points_shore[height]) < 3:\n",
    "        continue\n",
    "\n",
    "    interpolated_points_shore[height].sort()\n",
    "\n",
    "    obj = iDocument2D.ksBezier(False, 1)\n",
    "    for point in interpolated_points_shore[height]:\n",
    "        dot = iDocument2D.ksPoint(*point, 0)\n",
    "    iDocument2D.ksEndObj()"
   ],
   "metadata": {
    "collapsed": false
   }
  },
  {
   "cell_type": "code",
   "execution_count": 399,
   "outputs": [
    {
     "name": "stdout",
     "output_type": "stream",
     "text": [
      "Points: ('21', '23')\n",
      " Range: range(129, 134)\n",
      " [128.19, 133.29]\n",
      "\n",
      "129: 2465322.2720502065, 1320516.3122602636\n",
      "130: 2491927.2542391196, 1346595.0898933366\n",
      "131: 2518532.2364280326, 1372673.8675264097\n",
      "132: 2545137.2186169457, 1398752.6451594827\n",
      "133: 2571742.200805859, 1424831.4227925558\n",
      "\n",
      "\n",
      "Points: ('112', '17')\n",
      " Range: range(133, 134)\n",
      " [132.67169382665932, 133.68875605300548]\n",
      "\n",
      "133: 2526866.963540888, 1566858.2253397068\n",
      "\n",
      "\n",
      "Points: ('14', '17')\n",
      " Range: range(132, 134)\n",
      " [131.59875605300547, 133.68875605300548]\n",
      "\n",
      "132: 2610164.3503804044, 1619028.3454580219\n",
      "133: 2598667.6182073317, 1553036.6648429339\n",
      "\n",
      "\n",
      "Points: ('15', '113')\n",
      " Range: range(132, 134)\n",
      " [131.92875605300546, 133.28875605300547]\n",
      "\n",
      "132: 2701688.013027522, 1611097.2775329687\n",
      "133: 2672792.560626569, 1558178.1557207014\n",
      "\n",
      "\n",
      "Points: ('ПЗ42', '18')\n",
      " Range: range(132, 134)\n",
      " [131.59, 133.29]\n",
      "\n",
      "132: 2594238.957482228, 1347339.6136514065\n",
      "133: 2611773.000121809, 1373826.4762158128\n",
      "\n",
      "\n"
     ]
    }
   ],
   "source": [
    "# Горизонталь вокруг ФС\n",
    "add_layer(7,2,\"Точки интерполяции ФС\")\n",
    "\n",
    "interpolated_points_fruit_garden = {}\n",
    "\n",
    "_interpolation_21_23 = interpolate_line(\"21\", \"23\", {})\n",
    "_last_point_between_21_23 = list(_interpolation_21_23.keys())[-1]\n",
    "\n",
    "interpolated_points_fruit_garden.update({_last_point_between_21_23: _interpolation_21_23[_last_point_between_21_23]})\n",
    "\n",
    "_interpolation_112_17 = interpolate_line(\"112\", \"17\", {})\n",
    "if _last_point_between_21_23 in _interpolation_112_17:\n",
    "    interpolated_points_fruit_garden[_last_point_between_21_23].append(*_interpolation_112_17[_last_point_between_21_23])\n",
    "\n",
    "_interpolation_14_17 = interpolate_line(\"14\", \"17\", {})\n",
    "interpolated_points_fruit_garden[_last_point_between_21_23].append(*_interpolation_14_17[_last_point_between_21_23])\n",
    "\n",
    "_interpolation_15_113 = interpolate_line(\"15\", \"113\", {})\n",
    "interpolated_points_fruit_garden[_last_point_between_21_23].append(*_interpolation_15_113[_last_point_between_21_23])\n",
    "\n",
    "_interpolation_p42_18 = interpolate_line(\"ПЗ42\", \"18\", {})\n",
    "interpolated_points_fruit_garden[_last_point_between_21_23].insert(0, *_interpolation_p42_18[_last_point_between_21_23])\n"
   ],
   "metadata": {
    "collapsed": false
   }
  },
  {
   "cell_type": "code",
   "execution_count": 400,
   "outputs": [
    {
     "data": {
      "text/plain": "1073747601"
     },
     "execution_count": 400,
     "metadata": {},
     "output_type": "execute_result"
    }
   ],
   "source": [
    "add_layer(8, 3,\"Кривые интерполяции ФС\")\n",
    "\n",
    "obj = iDocument2D.ksBezier(False, 1)\n",
    "for point in interpolated_points_fruit_garden[_last_point_between_21_23]:\n",
    "    dot = iDocument2D.ksPoint(*point, 0)\n",
    "iDocument2D.ksEndObj()"
   ],
   "metadata": {
    "collapsed": false
   }
  },
  {
   "cell_type": "code",
   "execution_count": 401,
   "outputs": [
    {
     "name": "stdout",
     "output_type": "stream",
     "text": [
      "Points: ('112', '10')\n",
      " Range: range(132, 133)\n",
      " [131.86169382665932, 132.67169382665932]\n",
      "\n",
      "132: 2530791.588464892, 1658309.184223821\n",
      "\n",
      "\n",
      "Points: ('14', '17')\n",
      " Range: range(132, 134)\n",
      " [131.59875605300547, 133.68875605300548]\n",
      "\n",
      "132: 2610164.3503804044, 1619028.3454580219\n",
      "133: 2598667.6182073317, 1553036.6648429339\n",
      "\n",
      "\n",
      "Points: ('15', '113')\n",
      " Range: range(132, 134)\n",
      " [131.92875605300546, 133.28875605300547]\n",
      "\n",
      "132: 2701688.013027522, 1611097.2775329687\n",
      "133: 2672792.560626569, 1558178.1557207014\n",
      "\n",
      "\n",
      "Points: ('8', '10')\n",
      " Range: range(132, 133)\n",
      " [131.86169382665932, 132.53846884333225]\n",
      "\n",
      "132: 2524397.240710951, 1678399.0023840107\n",
      "\n",
      "\n"
     ]
    }
   ],
   "source": [
    "# Горизонталь за ФС\n",
    "add_layer(9,2,\"Точки интерполяции за ФС\")\n",
    "\n",
    "interpolated_points_behind_fruit_garden = {}\n",
    "\n",
    "_interpolation_112_10 = interpolate_line(\"112\", \"10\", {})\n",
    "_last_point_between_112_10 = list(_interpolation_112_10.keys())[-1]\n",
    "\n",
    "interpolated_points_behind_fruit_garden.update({_last_point_between_112_10: _interpolation_112_10[_last_point_between_112_10]})\n",
    "\n",
    "_interpolation_14_17 = interpolate_line(\"14\", \"17\", {})\n",
    "interpolated_points_behind_fruit_garden[_last_point_between_112_10].append(*_interpolation_14_17[_last_point_between_112_10])\n",
    "\n",
    "_interpolation_15_113 = interpolate_line(\"15\", \"113\", {})\n",
    "if _last_point_between_112_10 in _interpolation_15_113:\n",
    "    interpolated_points_behind_fruit_garden[_last_point_between_112_10].append(*_interpolation_15_113[_last_point_between_112_10])\n",
    "\n",
    "_interpolation_8_10 = interpolate_line(\"8\", \"10\", {})\n",
    "interpolated_points_behind_fruit_garden[_last_point_between_112_10].insert(0, *_interpolation_8_10[_last_point_between_112_10])\n"
   ],
   "metadata": {
    "collapsed": false
   }
  },
  {
   "cell_type": "code",
   "execution_count": 402,
   "outputs": [
    {
     "data": {
      "text/plain": "1073747616"
     },
     "execution_count": 402,
     "metadata": {},
     "output_type": "execute_result"
    }
   ],
   "source": [
    "add_layer(10, 3,\"Кривые интерполяции за ФС\")\n",
    "\n",
    "obj = iDocument2D.ksBezier(False, 1)\n",
    "for point in interpolated_points_behind_fruit_garden[_last_point_between_112_10]:\n",
    "    dot = iDocument2D.ksPoint(*point, 0)\n",
    "iDocument2D.ksEndObj()"
   ],
   "metadata": {
    "collapsed": false
   }
  },
  {
   "cell_type": "code",
   "execution_count": 403,
   "outputs": [],
   "source": [
    "# Соединить основные границы\n",
    "\n",
    "add_layer(10, 3,\"Левая граница\")\n",
    "\n",
    "_left_border = \"4,5,6,7\".split(sep=\",\")\n",
    "\n",
    "for i in range(len(_left_border)-1):\n",
    "    # print(f\"{ _left_border[i]}: {extra_points[ _left_border[i]]}\\t{ _left_border[i+1]}: {extra_points[ _left_border[i+1]]}\")\n",
    "    obj = iDocument2D.ksLineSeg(*[i * 1000 for i in (*extra_points[ _left_border[i]][:2], *extra_points[ _left_border[i+1]][:2])], 4)"
   ],
   "metadata": {
    "collapsed": false
   }
  },
  {
   "cell_type": "code",
   "execution_count": 404,
   "outputs": [],
   "source": [
    "add_layer(11, 3,\"Верхняя граница\")\n",
    "\n",
    "_top_border = \"7,8,10,14,15\".split(sep=\",\")\n",
    "\n",
    "for i in range(len(_top_border)-1):\n",
    "    # print(f\"{ _top_border[i]}: {extra_points[ _top_border[i]]}\\t{ _top_border[i+1]}: {extra_points[ _top_border[i+1]]}\")\n",
    "    obj = iDocument2D.ksLineSeg(*[i * 1000 for i in (*extra_points[ _top_border[i]][:2], *extra_points[ _top_border[i+1]][:2])], 1)"
   ],
   "metadata": {
    "collapsed": false
   }
  },
  {
   "cell_type": "code",
   "execution_count": 405,
   "outputs": [],
   "source": [
    "add_layer(12, 3,\"Граница пашни\")\n",
    "\n",
    "_p_border = \"5,ПЗ41,9,112,8\".split(sep=\",\")\n",
    "\n",
    "for i in range(len(_p_border)-1):\n",
    "    # print(f\"{ _p_border[i]}: {extra_points[ _p_border[i]]}\\t{ _p_border[i+1]}: {extra_points[ _p_border[i+1]]}\")\n",
    "    obj = iDocument2D.ksLineSeg(*[i * 1000 for i in (*extra_points[ _p_border[i]][:2], *extra_points[ _p_border[i+1]][:2])], 4)"
   ],
   "metadata": {
    "collapsed": false
   }
  },
  {
   "cell_type": "code",
   "execution_count": 406,
   "outputs": [],
   "source": [
    "add_layer(13, 3,\"Река\")\n",
    "\n",
    "_river_border = \"4,2,21,20\".split(sep=\",\")\n",
    "\n",
    "for i in range(len(_river_border)-1):\n",
    "    # print(f\"{ _river_border[i]}: {extra_points[ _river_border[i]]}\\t{ _river_border[i+1]}: {extra_points[ _river_border[i+1]]}\")\n",
    "    obj = iDocument2D.ksLineSeg(*[i * 1000 for i in (*extra_points[ _river_border[i]][:2], *extra_points[ _river_border[i+1]][:2])], 1)\n",
    "\n",
    "# вторая сторона реки\n",
    "\n",
    "_alpha = np.rad2deg(getAngleBetweenPoints(*extra_points[\"4\"][:2], *extra_points[\"3\"][:2]))\n",
    "\n",
    "_second_shore = []\n",
    "_d = 32\n",
    "for i in range(len(_river_border)):\n",
    "    # obj = iDocument2D.ksLineSeg(*[i * 1000 for i in tuple(map(lambda i, j: i - j, (*extra_points[ _river_border[i]][:2], *extra_points[ _river_border[i+1]][:2]), (20,20,20,20)))], 1)\n",
    "\n",
    "    xx = extra_points[ _river_border[i]][0] * 1000 + (_d * 1000 * cos(np.radians(_alpha)))\n",
    "    yy = extra_points[ _river_border[i]][1] * 1000 + (_d * 1000 * sin(np.radians(_alpha)))\n",
    "    _second_shore.append((xx, yy))\n",
    "\n",
    "for i in range(len(_second_shore) - 1):\n",
    "    if i != len(_second_shore) - 2:\n",
    "        obj = iDocument2D.ksLineSeg(*_second_shore[i], *_second_shore[i+1], 1)\n",
    "    else:\n",
    "        obj = iDocument2D.ksLineSeg(*_second_shore[i], *(p * 1000 for p in extra_points[\"19\"][:2]), 1)\n",
    "\n",
    "# Добавить подпись\n",
    "\n",
    "_xx = (extra_points[\"2\"][0] + extra_points[\"21\"][0])/2 * 1000 + (_d/2 * 1000 * cos(np.radians(_alpha)))\n",
    "_yy = (extra_points[\"2\"][1] + extra_points[\"21\"][1])/2 * 1000 + (_d/2 * 1000 * sin(np.radians(_alpha)))\n",
    "\n",
    "add_text(\"р. Соть\",_xx, _yy, np.rad2deg(getAngleBetweenPoints(*extra_points[\"2\"][:2], *extra_points[\"21\"][:2])), 5)"
   ],
   "metadata": {
    "collapsed": false
   }
  },
  {
   "cell_type": "code",
   "execution_count": 407,
   "outputs": [],
   "source": [
    "# Автодорога\n",
    "\n",
    "add_layer(14, 3,\"Автодорога\")\n",
    "\n",
    "_alpha = np.rad2deg(getAngleBetweenPoints(*extra_points[\"6\"][:2], *extra_points[\"7\"][:2]))\n",
    "\n",
    "_autobahn = []\n",
    "_d = 10\n",
    "for i in range(len(_top_border)):\n",
    "\n",
    "    xx = extra_points[ _top_border[i]][0] * 1000 + (_d * 1000 * cos(np.radians(_alpha)))\n",
    "    yy = extra_points[ _top_border[i]][1] * 1000 + (_d * 1000 * sin(np.radians(_alpha)))\n",
    "    _autobahn.append((xx, yy))\n",
    "\n",
    "for i in range(len(_autobahn) - 1):\n",
    "    obj = iDocument2D.ksLineSeg(*_autobahn[i], *_autobahn[i+1], 4)\n"
   ],
   "metadata": {
    "collapsed": false
   }
  },
  {
   "cell_type": "code",
   "execution_count": 408,
   "outputs": [],
   "source": [
    "from typing import List, Set, Dict, Tuple\n",
    "from typing import Union"
   ],
   "metadata": {
    "collapsed": false
   }
  },
  {
   "cell_type": "code",
   "execution_count": 409,
   "outputs": [],
   "source": [
    "def endpoint_by_distance_and_angle(starting_point: Union[Tuple[float, float], List[float]], distance: float, angle: float) -> Tuple[float, float]:\n",
    "    xx = starting_point[0] + (distance * cos(np.radians(angle)))\n",
    "    yy = starting_point[1] + (distance * sin(np.radians(angle)))\n",
    "    return xx, yy"
   ],
   "metadata": {
    "collapsed": false
   }
  },
  {
   "cell_type": "code",
   "execution_count": 410,
   "outputs": [],
   "source": [
    "# Текст пашни\n",
    "add_layer(15, 3, \"Текст пашни\")\n",
    "\n",
    "add_text(\"Пашня\", *map(lambda i, j: (i + j) * 1000, extra_points[\"111\"][:2], (-20, 45)),0, 7)"
   ],
   "metadata": {
    "collapsed": false
   }
  },
  {
   "cell_type": "code",
   "execution_count": 411,
   "outputs": [],
   "source": [
    "# Текст лес\n",
    "add_layer(16, 3, \"Текст лес\")\n",
    "\n",
    "add_text(\"Лес\", *map(lambda i, j: (i + j) * 1000, extra_points[\"6\"][:2], (-60, 0)),0, 7)"
   ],
   "metadata": {
    "collapsed": false
   }
  },
  {
   "cell_type": "code",
   "execution_count": 412,
   "outputs": [],
   "source": [
    "def m_to_mm(m: Tuple[float, float]) -> Tuple[float, float]:\n",
    "    return tuple(map(lambda i: i * 1000, m))\n",
    "def mm_to_m(m: Tuple[float, float]) -> Tuple[float, float]:\n",
    "    return tuple(map(lambda i: i / 1000, m))"
   ],
   "metadata": {
    "collapsed": false
   }
  },
  {
   "cell_type": "code",
   "execution_count": 413,
   "outputs": [],
   "source": [
    "# https://stackoverflow.com/a/67313571\n",
    "def get_intersections(x0, y0, r0, x1, y1, r1):\n",
    "    # circle 1: (x0, y0), radius r0\n",
    "    # circle 2: (x1, y1), radius r1\n",
    "\n",
    "    d=sqrt((x1-x0)**2 + (y1-y0)**2)\n",
    "\n",
    "    # non-intersecting\n",
    "    if d > r0 + r1 :\n",
    "        return {}\n",
    "    # One circle within other\n",
    "    if d < abs(r0-r1):\n",
    "        return {}\n",
    "    # coincident circles\n",
    "    if d == 0 and r0 == r1:\n",
    "        return {}\n",
    "    else:\n",
    "        a=(r0**2-r1**2+d**2)/(2*d)\n",
    "        h=sqrt(r0**2-a**2)\n",
    "        x2=x0+a*(x1-x0)/d\n",
    "        y2=y0+a*(y1-y0)/d\n",
    "        x3=x2+h*(y1-y0)/d\n",
    "        y3=y2-h*(x1-x0)/d\n",
    "        x4=x2-h*(y1-y0)/d\n",
    "        y4=y2+h*(x1-x0)/d\n",
    "        return x3, y3, x4, y4\n"
   ],
   "metadata": {
    "collapsed": false
   }
  },
  {
   "cell_type": "code",
   "execution_count": 414,
   "outputs": [],
   "source": [
    "def add_rect(XY: Tuple[float, float], h: float, w: float, angle: float = 0, style: int = 1) -> int:\n",
    "    iRectangleParam = kompas6_api5_module.ksRectangleParam(kompas_object.GetParamStruct(kompas6_constants.ko_RectangleParam))\n",
    "    iRectangleParam.Init()\n",
    "    iRectangleParam.x = XY[0]\n",
    "    iRectangleParam.y = XY[1]\n",
    "    iRectangleParam.ang = angle\n",
    "    iRectangleParam.height = h\n",
    "    iRectangleParam.width = w\n",
    "    iRectangleParam.style = style\n",
    "    return iDocument2D.ksRectangle(iRectangleParam)"
   ],
   "metadata": {
    "collapsed": false
   }
  },
  {
   "cell_type": "code",
   "execution_count": 415,
   "outputs": [],
   "source": [
    "# Фруктовый сад\n",
    "add_layer(17, 3, \"Колодец\")\n",
    "\n",
    "_alpha_14_15 = np.rad2deg(getAngleBetweenPoints(*extra_points[\"14\"][:2], *extra_points[\"15\"][:2]))\n",
    "_alpha_113_P42 = np.rad2deg(getAngleBetweenPoints(*extra_points[\"113\"][:2], *extra_points[\"ПЗ42\"][:2]))\n",
    "\n",
    "\n",
    "# _well_angles = degrees(atan2(14.62,9.15))\n",
    "#\n",
    "_well_point_1 = m_to_mm(endpoint_by_distance_and_angle(extra_points[\"113\"][:2], 40, _alpha_113_P42))\n",
    "# _obj_well_point_1 = iDocument2D.ksPoint(*_well_point_1, 0)\n",
    "\n",
    "_well_point_2 = m_to_mm(endpoint_by_distance_and_angle(extra_points[\"113\"][:2], 58.61, _alpha_113_P42))\n",
    "# _obj_well_point_2 = iDocument2D.ksPoint(*_well_point_2, 0)\n",
    "#\n",
    "# well_line_1 = iDocument2D.ksLineSeg(*_well_point_1, *m_to_mm(endpoint_by_distance_and_angle(mm_to_m(_well_point_1), 9.15, _alpha_113_P42 - _well_angles)), 6)\n",
    "\n",
    "_well_point_3 = get_intersections(*_well_point_1, 9.15*1000, *_well_point_2, 14.62*1000)\n",
    "\n",
    "# Штриховка\n",
    "_well_hatch = iDocument2D.ksHatch(0, 45, 0.25, 0, 0 ,0)\n",
    "_obj_well_circle = iDocument2D.ksCircle(*_well_point_3[:2], 2500 ,1)\n",
    "iDocument2D.ksEndObj()\n",
    "\n",
    "_obj_well_circle = iDocument2D.ksCircle(*_well_point_3[:2], 2500 ,1)\n",
    "\n",
    "add_text(\"Колодец\", *map(lambda i, j: (i + j) * 1000, mm_to_m(_well_point_3[:2]), (-10, 5)))\n",
    "\n",
    "add_layer(18, 3, \"Фруктовый сад\")\n",
    "\n",
    "# fruit_garden_points = [endpoint_by_distance_and_angle(extra_points[\"113\"][:2], 81.5, _alpha_113_P42 - (44 + (1/60))), endpoint_by_distance_and_angle(endpoint_by_distance_and_angle(extra_points[\"113\"][:2], 58.61, _alpha_113_P42), -8.2, _alpha_14_15), endpoint_by_distance_and_angle(endpoint_by_distance_and_angle(extra_points[\"113\"][:2], 133.41, _alpha_113_P42), -7.81, _alpha_14_15), endpoint_by_distance_and_angle(extra_points[\"ПЗ42\"][:2], 96.15, 0 - _alpha_113_P42 - (25 + (11/60)))]\n",
    "\n",
    "fruit_garden_points = [tuple(extra_points[\"17\"][:2]), endpoint_by_distance_and_angle(endpoint_by_distance_and_angle(extra_points[\"113\"][:2], 58.61, _alpha_113_P42), -8.2, _alpha_14_15), endpoint_by_distance_and_angle(endpoint_by_distance_and_angle(extra_points[\"113\"][:2], 133.41, _alpha_113_P42), -7.81, _alpha_14_15), tuple(extra_points[\"23\"][:2])]\n",
    "\n",
    "iDocument2D.ksLineSeg(*m_to_mm(fruit_garden_points[0]), *m_to_mm(fruit_garden_points[3]), 1)\n",
    "for i in range(len(fruit_garden_points)-1):\n",
    "    iDocument2D.ksLineSeg(*m_to_mm(fruit_garden_points[i]), *m_to_mm(fruit_garden_points[i+1]), 1)\n",
    "\n",
    "# _mid_fs_text = tuple(i/2 for i in (fruit_garden_points[0][0] + fruit_garden_points[1][0], fruit_garden_points[0][1] + fruit_garden_points[1][1]))\n",
    "# *map(lambda i, j: (i + j) * 1000, _mid_fs_text, (-60, 0))\n",
    "\n",
    "_alpha_fs = np.rad2deg(getAngleBetweenPoints(*fruit_garden_points[1], *fruit_garden_points[2]))\n",
    "\n",
    "add_text(\"ФС\", *m_to_mm(endpoint_by_distance_and_angle(fruit_garden_points[0], 15, _alpha_fs + 30)), np.rad2deg(getAngleBetweenPoints(*fruit_garden_points[0], *fruit_garden_points[1])), 5)\n",
    "\n",
    "add_layer(19, 3, \"2КЖ\")\n",
    "\n",
    "_kg2_p1 = m_to_mm(endpoint_by_distance_and_angle(endpoint_by_distance_and_angle(extra_points[\"113\"][:2], 80.05, _alpha_113_P42), -8.03, _alpha_14_15))\n",
    "_kg2_p2 = m_to_mm(endpoint_by_distance_and_angle(endpoint_by_distance_and_angle(extra_points[\"113\"][:2], 110.23, _alpha_113_P42), -7.91, _alpha_14_15))\n",
    "\n",
    "add_rect(_kg2_p1, -16.05*1000, (110.23-80.05)*1000, _alpha_fs)\n",
    "\n",
    "# *tuple(i/2 for i in (_kg2_p1[0] + _kg2_p2[0], _kg2_p1[1] + _kg2_p2[1]))\n",
    "\n",
    "add_text(\"2кж\", _kg2_p2[0] - 2400, _kg2_p2[1] + 4000, np.rad2deg(getAngleBetweenPoints(*_kg2_p2, *_kg2_p1)),5)"
   ],
   "metadata": {
    "collapsed": false
   }
  },
  {
   "cell_type": "code",
   "execution_count": 416,
   "outputs": [],
   "source": [
    "def line_len(p1: Tuple[float, float], p2: Tuple[float, float]) -> float:\n",
    "    return sum(map(lambda fp, sp: (sp - fp) ** 2, p1, p2))**0.5\n",
    "\n"
   ],
   "metadata": {
    "collapsed": false
   }
  },
  {
   "cell_type": "code",
   "execution_count": 417,
   "outputs": [],
   "source": [
    "# Железная дорога\n",
    "add_layer(19, 3, \"Железная дорога\")\n",
    "\n",
    "_railroad_p1 = endpoint_by_distance_and_angle(extra_points[\"113\"][:2], 12.64, _alpha_14_15)\n",
    "_railroad_end = endpoint_by_distance_and_angle(endpoint_by_distance_and_angle(extra_points[\"113\"][:2], 162.1, _alpha_113_P42), 14.28, _alpha_14_15)\n",
    "\n",
    "_alpha_rail = np.rad2deg(getAngleBetweenPoints(*_railroad_p1, *_railroad_end))\n",
    "\n",
    "_railroad_p0 = endpoint_by_distance_and_angle(_railroad_p1, -70,_alpha_rail)\n",
    "\n",
    "iDocument2D.ksLineSeg(*m_to_mm(_railroad_p0), *m_to_mm(_railroad_end), 1)\n",
    "\n",
    "for i in range(5, int(line_len(_railroad_p0, _railroad_end))+5, 5):\n",
    "    _start_point = endpoint_by_distance_and_angle(_railroad_p0, i,_alpha_rail)\n",
    "    _side_point_1 = endpoint_by_distance_and_angle(_start_point, 2.5,  45 - _alpha_rail)\n",
    "    _side_point_2 = endpoint_by_distance_and_angle(_start_point, -2.5, 45 - _alpha_rail)\n",
    "    iDocument2D.ksLineSeg(*m_to_mm(_side_point_1), *m_to_mm(_side_point_2), 1)"
   ],
   "metadata": {
    "collapsed": false
   }
  },
  {
   "cell_type": "code",
   "execution_count": 418,
   "outputs": [],
   "source": [
    "# Условные обозначения леса, луга, фруктового сада.\n",
    "\n",
    "def draw_meadow(point: Tuple[float, float], style: int = 2, size: float = 1000) -> Tuple[int, int]:\n",
    "\n",
    "    line_one = iDocument2D.ksLineSeg(*point, *map(lambda i, j: (i + j), point, (0, 2.5 * size)), style)\n",
    "    line_two = iDocument2D.ksLineSeg(*map(lambda i, j: (i + j), point, (1 * size, 0)), *map(lambda i, j: (i + j), point, (1 * size, 2.5 * size)), style)\n",
    "\n",
    "    return line_one, line_two\n",
    "\n"
   ],
   "metadata": {
    "collapsed": false
   }
  },
  {
   "cell_type": "code",
   "execution_count": 419,
   "outputs": [],
   "source": [
    "# Добавляю этот пакет, что бы проще проверять находятся ли точки в полигонах\n",
    "# https://stackoverflow.com/questions/52281055/point-in-polygon-using-shapely\n",
    "from shapely import geometry, affinity\n",
    "\n",
    "_plan_poly = [m_to_mm(tuple(extra_points[\"20\"][:2])), m_to_mm(tuple(extra_points[\"21\"][:2])), m_to_mm(tuple(extra_points[\"2\"][:2])),\n",
    "              m_to_mm(tuple(extra_points[\"4\"][:2])), m_to_mm(tuple(extra_points[\"5\"][:2])), m_to_mm(tuple(extra_points[\"6\"][:2])),\n",
    "              m_to_mm(tuple(extra_points[\"7\"][:2])), m_to_mm(tuple(extra_points[\"8\"][:2])), m_to_mm(tuple(extra_points[\"10\"][:2])),\n",
    "              m_to_mm(tuple(extra_points[\"14\"][:2])), m_to_mm(tuple(extra_points[\"15\"][:2])), m_to_mm(tuple(extra_points[\"113\"][:2])),\n",
    "              m_to_mm(tuple(extra_points[\"ПЗ42\"][:2]))]\n",
    "\n",
    "_plan_poly_line = geometry.LineString(_plan_poly)\n",
    "_plan_poly = geometry.Polygon(_plan_poly_line)\n",
    "\n",
    "_farm_poly = [m_to_mm(tuple(extra_points[\"ПЗ41\"][:2])), m_to_mm(tuple(extra_points[\"5\"][:2])), m_to_mm(tuple(extra_points[\"6\"][:2])),\n",
    "              m_to_mm(tuple(extra_points[\"7\"][:2])), m_to_mm(tuple(extra_points[\"8\"][:2])), m_to_mm(tuple(extra_points[\"112\"][:2])),\n",
    "              m_to_mm(tuple(extra_points[\"9\"][:2]))]\n",
    "\n",
    "_farm_poly_line = geometry.LineString(_farm_poly)\n",
    "_farm_poly = geometry.Polygon(_farm_poly_line)\n",
    "\n",
    "_fruit_garden_poly = geometry.Polygon(geometry.LineString((m_to_mm(i) for i in fruit_garden_points)))\n",
    "\n",
    "_fruit_garden_poly = affinity.scale(_fruit_garden_poly, 0.95, 0.95)\n",
    "\n",
    "_kg_poly = [_kg2_p1, m_to_mm(endpoint_by_distance_and_angle(endpoint_by_distance_and_angle(extra_points[\"113\"][:2], 80.05, _alpha_113_P42), -8.03 - 16.05, _alpha_14_15)), m_to_mm(endpoint_by_distance_and_angle(endpoint_by_distance_and_angle(extra_points[\"113\"][:2], 110.23, _alpha_113_P42), -7.91 -16.05, _alpha_14_15)), _kg2_p2]\n",
    "\n",
    "_kg_poly_line = geometry.LineString(_kg_poly)\n",
    "_kg_poly = geometry.Polygon(_kg_poly_line)\n"
   ],
   "metadata": {
    "collapsed": false
   }
  },
  {
   "cell_type": "code",
   "execution_count": 420,
   "outputs": [],
   "source": [
    "add_layer(20, 0, \"Условные обозначения луга\")\n",
    "\n",
    "for i in range(int(extra_points[\"20\"][1] - int(extra_points[\"20\"][1]) % 5), int(extra_points[\"7\"][1]), 20):\n",
    "    for b in range(int(extra_points[\"4\"][0] - int(extra_points[\"4\"][1]) % 5), int(extra_points[\"15\"][0]), 20):\n",
    "        _d_point = geometry.Point(m_to_mm((b, i)))\n",
    "        if _plan_poly.contains(_d_point) and not _farm_poly.contains(_d_point) and not _fruit_garden_poly.contains(_d_point):\n",
    "            draw_meadow(m_to_mm((b, i)))\n"
   ],
   "metadata": {
    "collapsed": false
   }
  },
  {
   "cell_type": "code",
   "execution_count": 421,
   "outputs": [],
   "source": [
    "add_layer(21, 0, \"Условные обозначения фруктового сада\")\n",
    "\n",
    "for i in range(int(fruit_garden_points[2][1]), int(fruit_garden_points[0][1]), 5):\n",
    "    for b in range(int(fruit_garden_points[-1][0]), int(fruit_garden_points[1][0]), 5):\n",
    "        _d_point = geometry.Point(m_to_mm((b, i)))\n",
    "        if _fruit_garden_poly.contains(_d_point) and not _kg_poly.contains(_d_point):\n",
    "            iDocument2D.ksCircle(*m_to_mm((b, i)), 1000 ,2)"
   ],
   "metadata": {
    "collapsed": false
   }
  },
  {
   "cell_type": "code",
   "execution_count": 422,
   "outputs": [],
   "source": [
    "add_layer(22, 0, \"Условные обозначения леса\")\n",
    "\n",
    "for i in range(int(extra_points[\"4\"][1] - int(extra_points[\"4\"][1]) % 5), int(extra_points[\"7\"][1]), 20):\n",
    "    for b in range(int(extra_points[\"3\"][0] - int(extra_points[\"3\"][1]) % 5), int(extra_points[\"7\"][0]), 20):\n",
    "        _d_point = geometry.Point(m_to_mm((b, i)))\n",
    "        if not  _plan_poly.contains(_d_point):\n",
    "            iDocument2D.ksCircle(*m_to_mm((b, i)), 2500 ,2)"
   ],
   "metadata": {
    "collapsed": false
   }
  },
  {
   "cell_type": "code",
   "execution_count": 423,
   "outputs": [],
   "source": [
    "def _f_slope(x1, y1, x2, y2): # Line slope given two points:\n",
    "    return (y2-y1)/(x2-x1)\n",
    "\n",
    "def _f_angle(s1, s2):\n",
    "    return degrees(atan((s2-s1)/(1+(s2*s1))))"
   ],
   "metadata": {
    "collapsed": false
   }
  },
  {
   "cell_type": "code",
   "execution_count": 424,
   "outputs": [
    {
     "data": {
      "text/plain": "1073748348"
     },
     "execution_count": 424,
     "metadata": {},
     "output_type": "execute_result"
    }
   ],
   "source": [
    "# Дерево\n",
    "add_layer(23, 0, \"Дерево (картинка в системном виде 0)\")\n",
    "\n",
    "_a1 = radians(49 + 15/60)\n",
    "_a2 = radians(_f_angle(_f_slope(*extra_points[\"113\"][:2], *extra_points[\"112\"][:2]), _f_slope(*extra_points[\"ПЗ42\"][:2], *extra_points[\"113\"][:2])) - (55 + 6/60))\n",
    "\n",
    "s = line_len(extra_points[\"113\"][:2], extra_points[\"112\"][:2])\n",
    "\n",
    "_a3 = pi - _a2 - _a1\n",
    "\n",
    "_l1 = (s / sin(_a3)) * sin(_a1)\n",
    "_l2 = (s / sin(_a3)) * sin(_a2)\n",
    "\n",
    "_tree = endpoint_by_distance_and_angle(extra_points[\"113\"][:2], _l1, degrees(_a2) + np.rad2deg(getAngleBetweenPoints(*extra_points[\"113\"][:2], *extra_points[\"112\"][:2])))\n",
    "\n",
    "iDocument2D.ksPoint(*m_to_mm(_tree), 0)\n",
    "\n",
    "from pathlib import Path\n",
    "\n",
    "iRasterParam = kompas6_api5_module.ksRasterParam(kompas_object.GetParamStruct(kompas6_constants.ko_RasterParam))\n",
    "iRasterParam.Init()\n",
    "iRasterParam.embeded = True\n",
    "iRasterParam.fileName = str(Path('./christmas-tree.png').absolute())\n",
    "iPlacementParam = kompas6_api5_module.ksPlacementParam(kompas_object.GetParamStruct(kompas6_constants.ko_PlacementParam))\n",
    "iPlacementParam.Init()\n",
    "iPlacementParam.angle = 0\n",
    "iPlacementParam.scale_ = 0.025\n",
    "\n",
    "# todo: Пофиксить создание дерева в не системном виде\n",
    "\n",
    "_img_cords = tuple(map(lambda i: i * 1, iDocument2D.ksViewToSheet(*m_to_mm(_tree))[1:]))\n",
    "\n",
    "_plan = kompas_document_2d.ViewsAndLayersManager.Views.ActiveView\n",
    "\n",
    "_system_view = kompas_document_2d.ViewsAndLayersManager.Views.ViewByNumber(0)\n",
    "_system_view.Current = True\n",
    "_system_view.Update()\n",
    "\n",
    "add_layer(1, 0, \"Дерево\")\n",
    "\n",
    "iPlacementParam.xBase = _img_cords[0] - 1.847\n",
    "iPlacementParam.yBase = _img_cords[1]\n",
    "iRasterParam.SetPlace(iPlacementParam)\n",
    "iDocument2D.ksInsertRaster(iRasterParam)"
   ],
   "metadata": {
    "collapsed": false
   }
  },
  {
   "cell_type": "code",
   "execution_count": 424,
   "outputs": [],
   "source": [],
   "metadata": {
    "collapsed": false
   }
  }
 ],
 "metadata": {
  "kernelspec": {
   "display_name": "Python 3",
   "language": "python",
   "name": "python3"
  },
  "language_info": {
   "codemirror_mode": {
    "name": "ipython",
    "version": 2
   },
   "file_extension": ".py",
   "mimetype": "text/x-python",
   "name": "python",
   "nbconvert_exporter": "python",
   "pygments_lexer": "ipython2",
   "version": "2.7.6"
  }
 },
 "nbformat": 4,
 "nbformat_minor": 0
}
