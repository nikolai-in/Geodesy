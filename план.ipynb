{
 "cells": [
  {
   "cell_type": "markdown",
   "source": [
    "![https://www.pngmart.com/files/5/Spaghetti-Transparent-Background.png](https://www.pngmart.com/files/5/Spaghetti-Transparent-Background.png)"
   ],
   "metadata": {
    "collapsed": false
   }
  },
  {
   "cell_type": "code",
   "execution_count": 622,
   "metadata": {
    "collapsed": true
   },
   "outputs": [],
   "source": [
    "import pandas as pd\n",
    "from math import *\n",
    "import numpy as np\n",
    "from scipy import interpolate\n",
    "\n",
    "# Импорт компосовской херни\n",
    "import pythoncom\n",
    "from win32com.client import Dispatch, gencache\n",
    "\n",
    "import LDefin2D\n",
    "import MiscellaneousHelpers as MH\n",
    "\n"
   ]
  },
  {
   "cell_type": "code",
   "execution_count": 623,
   "outputs": [],
   "source": [
    "#  Подключим константы API Компас\n",
    "kompas6_constants = gencache.EnsureModule(\"{75C9F5D0-B5B8-4526-8681-9903C567D2ED}\", 0, 1, 0).constants\n",
    "kompas6_constants_3d = gencache.EnsureModule(\"{2CAF168C-7961-4B90-9DA2-701419BEEFE3}\", 0, 1, 0).constants\n",
    "\n",
    "#  Подключим описание интерфейсов API5\n",
    "kompas6_api5_module = gencache.EnsureModule(\"{0422828C-F174-495E-AC5D-D31014DBBE87}\", 0, 1, 0)\n",
    "kompas_object = kompas6_api5_module.KompasObject(\n",
    "    Dispatch(\"Kompas.Application.5\")._oleobj_.QueryInterface(kompas6_api5_module.KompasObject.CLSID,\n",
    "                                                             pythoncom.IID_IDispatch))\n",
    "MH.iKompasObject = kompas_object\n",
    "\n",
    "#  Подключим описание интерфейсов API7\n",
    "kompas_api7_module = gencache.EnsureModule(\"{69AC2981-37C0-4379-84FD-5DD2F3C0A520}\", 0, 1, 0)\n",
    "application = kompas_api7_module.IApplication(\n",
    "    Dispatch(\"Kompas.Application.7\")._oleobj_.QueryInterface(kompas_api7_module.IApplication.CLSID,\n",
    "                                                             pythoncom.IID_IDispatch))\n",
    "MH.iApplication = application\n",
    "\n",
    "documents = application.Documents\n",
    "#  Получим активный документ\n",
    "kompas_document = application.ActiveDocument\n",
    "kompas_document_2d = kompas_api7_module.IKompasDocument2D(kompas_document)\n",
    "iDocument2D = kompas_object.ActiveDocument2D()"
   ],
   "metadata": {
    "collapsed": false
   }
  },
  {
   "cell_type": "code",
   "execution_count": 624,
   "outputs": [
    {
     "data": {
      "text/plain": "     №№            X            Y           H\n0  ПЗ41  1483.980000  2374.220000  139.190000\n1   111  1647.090040  2398.757954  143.581531\n2   112  1598.359459  2517.749739  139.698306\n3   113  1523.163780  2676.684287  140.361244\n4  ПЗ42  1329.770000  2570.860000  138.720000",
      "text/html": "<div>\n<style scoped>\n    .dataframe tbody tr th:only-of-type {\n        vertical-align: middle;\n    }\n\n    .dataframe tbody tr th {\n        vertical-align: top;\n    }\n\n    .dataframe thead th {\n        text-align: right;\n    }\n</style>\n<table border=\"1\" class=\"dataframe\">\n  <thead>\n    <tr style=\"text-align: right;\">\n      <th></th>\n      <th>№№</th>\n      <th>X</th>\n      <th>Y</th>\n      <th>H</th>\n    </tr>\n  </thead>\n  <tbody>\n    <tr>\n      <th>0</th>\n      <td>ПЗ41</td>\n      <td>1483.980000</td>\n      <td>2374.220000</td>\n      <td>139.190000</td>\n    </tr>\n    <tr>\n      <th>1</th>\n      <td>111</td>\n      <td>1647.090040</td>\n      <td>2398.757954</td>\n      <td>143.581531</td>\n    </tr>\n    <tr>\n      <th>2</th>\n      <td>112</td>\n      <td>1598.359459</td>\n      <td>2517.749739</td>\n      <td>139.698306</td>\n    </tr>\n    <tr>\n      <th>3</th>\n      <td>113</td>\n      <td>1523.163780</td>\n      <td>2676.684287</td>\n      <td>140.361244</td>\n    </tr>\n    <tr>\n      <th>4</th>\n      <td>ПЗ42</td>\n      <td>1329.770000</td>\n      <td>2570.860000</td>\n      <td>138.720000</td>\n    </tr>\n  </tbody>\n</table>\n</div>"
     },
     "execution_count": 624,
     "metadata": {},
     "output_type": "execute_result"
    }
   ],
   "source": [
    "table_79 = pd.read_excel('Геодезия.xlsm', sheet_name='pandasPlan79')\n",
    "\n",
    "table_79"
   ],
   "metadata": {
    "collapsed": false
   }
  },
  {
   "cell_type": "code",
   "execution_count": 625,
   "outputs": [
    {
     "data": {
      "text/plain": "             №№  Отсчет по дальномеру kl, м  Отсчет по гориз. Кругу  \\\n0   ПЗ41 - ПЗ42                         NaN                     NaN   \n1             1                        88.0               12.033333   \n2             2                       111.0               78.183333   \n3             3                       155.0              136.400000   \n4             4                       132.0              144.916667   \n5             5                       141.0              195.450000   \n6    111 - ПЗ41                         NaN                     NaN   \n7             6                        94.0              125.416667   \n8             7                       131.0              181.350000   \n9             8                       128.0              231.250000   \n10            9                       124.0              337.600000   \n11    112 - 111                         NaN                     NaN   \n12           10                        87.0              104.266667   \n13           11                       132.0              253.150000   \n14           12                       127.0              277.800000   \n15           13                        53.0              279.666667   \n16    113 - 112                         NaN                     NaN   \n17           14                       114.0               46.983333   \n18           15                        82.0              101.450000   \n19           16                        84.5              265.416667   \n20           17                        81.5              317.433333   \n21   ПЗ42 - 113                         NaN                     NaN   \n22           18                        54.0               12.950000   \n23           19                       123.0              178.016667   \n24           20                        90.0              178.550000   \n25           21                       148.0              234.933333   \n26           22                        76.5              275.850000   \n27           23                        96.0              334.766667   \n\n    Отметки реечн. точек Hр.т., м  \n0                             NaN  \n1                      136.500000  \n2                      135.490000  \n3                      135.900000  \n4                      135.860000  \n5                      139.270000  \n6                             NaN  \n7                      140.631531  \n8                      140.921531  \n9                      139.531531  \n10                     139.431531  \n11                            NaN  \n12                     138.888306  \n13                     138.698306  \n14                     137.708306  \n15                     139.208306  \n16                            NaN  \n17                     138.671244  \n18                     139.001244  \n19                     140.851244  \n20                     140.761244  \n21                            NaN  \n22                     140.420000  \n23                     135.000000  \n24                     135.030000  \n25                     135.320000  \n26                     138.320000  \n27                     140.420000  ",
      "text/html": "<div>\n<style scoped>\n    .dataframe tbody tr th:only-of-type {\n        vertical-align: middle;\n    }\n\n    .dataframe tbody tr th {\n        vertical-align: top;\n    }\n\n    .dataframe thead th {\n        text-align: right;\n    }\n</style>\n<table border=\"1\" class=\"dataframe\">\n  <thead>\n    <tr style=\"text-align: right;\">\n      <th></th>\n      <th>№№</th>\n      <th>Отсчет по дальномеру kl, м</th>\n      <th>Отсчет по гориз. Кругу</th>\n      <th>Отметки реечн. точек Hр.т., м</th>\n    </tr>\n  </thead>\n  <tbody>\n    <tr>\n      <th>0</th>\n      <td>ПЗ41 - ПЗ42</td>\n      <td>NaN</td>\n      <td>NaN</td>\n      <td>NaN</td>\n    </tr>\n    <tr>\n      <th>1</th>\n      <td>1</td>\n      <td>88.0</td>\n      <td>12.033333</td>\n      <td>136.500000</td>\n    </tr>\n    <tr>\n      <th>2</th>\n      <td>2</td>\n      <td>111.0</td>\n      <td>78.183333</td>\n      <td>135.490000</td>\n    </tr>\n    <tr>\n      <th>3</th>\n      <td>3</td>\n      <td>155.0</td>\n      <td>136.400000</td>\n      <td>135.900000</td>\n    </tr>\n    <tr>\n      <th>4</th>\n      <td>4</td>\n      <td>132.0</td>\n      <td>144.916667</td>\n      <td>135.860000</td>\n    </tr>\n    <tr>\n      <th>5</th>\n      <td>5</td>\n      <td>141.0</td>\n      <td>195.450000</td>\n      <td>139.270000</td>\n    </tr>\n    <tr>\n      <th>6</th>\n      <td>111 - ПЗ41</td>\n      <td>NaN</td>\n      <td>NaN</td>\n      <td>NaN</td>\n    </tr>\n    <tr>\n      <th>7</th>\n      <td>6</td>\n      <td>94.0</td>\n      <td>125.416667</td>\n      <td>140.631531</td>\n    </tr>\n    <tr>\n      <th>8</th>\n      <td>7</td>\n      <td>131.0</td>\n      <td>181.350000</td>\n      <td>140.921531</td>\n    </tr>\n    <tr>\n      <th>9</th>\n      <td>8</td>\n      <td>128.0</td>\n      <td>231.250000</td>\n      <td>139.531531</td>\n    </tr>\n    <tr>\n      <th>10</th>\n      <td>9</td>\n      <td>124.0</td>\n      <td>337.600000</td>\n      <td>139.431531</td>\n    </tr>\n    <tr>\n      <th>11</th>\n      <td>112 - 111</td>\n      <td>NaN</td>\n      <td>NaN</td>\n      <td>NaN</td>\n    </tr>\n    <tr>\n      <th>12</th>\n      <td>10</td>\n      <td>87.0</td>\n      <td>104.266667</td>\n      <td>138.888306</td>\n    </tr>\n    <tr>\n      <th>13</th>\n      <td>11</td>\n      <td>132.0</td>\n      <td>253.150000</td>\n      <td>138.698306</td>\n    </tr>\n    <tr>\n      <th>14</th>\n      <td>12</td>\n      <td>127.0</td>\n      <td>277.800000</td>\n      <td>137.708306</td>\n    </tr>\n    <tr>\n      <th>15</th>\n      <td>13</td>\n      <td>53.0</td>\n      <td>279.666667</td>\n      <td>139.208306</td>\n    </tr>\n    <tr>\n      <th>16</th>\n      <td>113 - 112</td>\n      <td>NaN</td>\n      <td>NaN</td>\n      <td>NaN</td>\n    </tr>\n    <tr>\n      <th>17</th>\n      <td>14</td>\n      <td>114.0</td>\n      <td>46.983333</td>\n      <td>138.671244</td>\n    </tr>\n    <tr>\n      <th>18</th>\n      <td>15</td>\n      <td>82.0</td>\n      <td>101.450000</td>\n      <td>139.001244</td>\n    </tr>\n    <tr>\n      <th>19</th>\n      <td>16</td>\n      <td>84.5</td>\n      <td>265.416667</td>\n      <td>140.851244</td>\n    </tr>\n    <tr>\n      <th>20</th>\n      <td>17</td>\n      <td>81.5</td>\n      <td>317.433333</td>\n      <td>140.761244</td>\n    </tr>\n    <tr>\n      <th>21</th>\n      <td>ПЗ42 - 113</td>\n      <td>NaN</td>\n      <td>NaN</td>\n      <td>NaN</td>\n    </tr>\n    <tr>\n      <th>22</th>\n      <td>18</td>\n      <td>54.0</td>\n      <td>12.950000</td>\n      <td>140.420000</td>\n    </tr>\n    <tr>\n      <th>23</th>\n      <td>19</td>\n      <td>123.0</td>\n      <td>178.016667</td>\n      <td>135.000000</td>\n    </tr>\n    <tr>\n      <th>24</th>\n      <td>20</td>\n      <td>90.0</td>\n      <td>178.550000</td>\n      <td>135.030000</td>\n    </tr>\n    <tr>\n      <th>25</th>\n      <td>21</td>\n      <td>148.0</td>\n      <td>234.933333</td>\n      <td>135.320000</td>\n    </tr>\n    <tr>\n      <th>26</th>\n      <td>22</td>\n      <td>76.5</td>\n      <td>275.850000</td>\n      <td>138.320000</td>\n    </tr>\n    <tr>\n      <th>27</th>\n      <td>23</td>\n      <td>96.0</td>\n      <td>334.766667</td>\n      <td>140.420000</td>\n    </tr>\n  </tbody>\n</table>\n</div>"
     },
     "execution_count": 625,
     "metadata": {},
     "output_type": "execute_result"
    }
   ],
   "source": [
    "table_10 = pd.read_excel('Геодезия.xlsm', sheet_name='pandasPlan10')\n",
    "\n",
    "table_10"
   ],
   "metadata": {
    "collapsed": false
   }
  },
  {
   "cell_type": "code",
   "execution_count": 626,
   "outputs": [],
   "source": [
    "def add_layer(id: int, state: int = 3, name: str = None):\n",
    "    obj = iDocument2D.ksLayer(id)\n",
    "    iLayerParam = kompas6_api5_module.ksLayerParam(kompas_object.GetParamStruct(kompas6_constants.ko_LayerParam))\n",
    "    iLayerParam.Init()\n",
    "    if name:\n",
    "        iLayerParam.name = name\n",
    "    iLayerParam.state = state\n",
    "    iDocument2D.ksSetObjParam(obj, iLayerParam, LDefin2D.ALLPARAM)\n",
    "\n",
    "\n",
    "def add_view(name: str, scale: float = 1, x=0, y=0):\n",
    "    iViewParam = kompas6_api5_module.ksViewParam(kompas_object.GetParamStruct(kompas6_constants.ko_ViewParam))\n",
    "    iViewParam.Init()\n",
    "    iViewParam.angle = 0\n",
    "    iViewParam.color = 0\n",
    "    iViewParam.name = name\n",
    "    iViewParam.scale_ = scale\n",
    "    iViewParam.state = 3\n",
    "    iViewParam.x = x\n",
    "    iViewParam.y = y\n",
    "    iDocument2D.ksCreateSheetView(iViewParam, 0)\n",
    "\n",
    "\n",
    "def add_text(text: str, x: float, y: float, angle: float = 0, font_size: float = 2.5, color = 0):\n",
    "    iParagraphParam = kompas6_api5_module.ksParagraphParam(\n",
    "        kompas_object.GetParamStruct(kompas6_constants.ko_ParagraphParam))\n",
    "    iParagraphParam.Init()\n",
    "    iParagraphParam.x = x\n",
    "    iParagraphParam.y = y\n",
    "    iParagraphParam.ang = angle\n",
    "    iParagraphParam.height = 3.55\n",
    "    iParagraphParam.width = 4\n",
    "    iParagraphParam.hFormat = 0\n",
    "    iParagraphParam.vFormat = 0\n",
    "    iParagraphParam.style = 1\n",
    "    iDocument2D.ksParagraph(iParagraphParam)\n",
    "\n",
    "    iTextLineParam = kompas6_api5_module.ksTextLineParam(\n",
    "        kompas_object.GetParamStruct(kompas6_constants.ko_TextLineParam))\n",
    "    iTextLineParam.Init()\n",
    "    iTextLineParam.style = 1\n",
    "    iTextItemArray = kompas_object.GetDynamicArray(LDefin2D.TEXT_ITEM_ARR)\n",
    "    iTextItemParam = kompas6_api5_module.ksTextItemParam(\n",
    "        kompas_object.GetParamStruct(kompas6_constants.ko_TextItemParam))\n",
    "    iTextItemParam.Init()\n",
    "    iTextItemParam.iSNumb = 0\n",
    "    iTextItemParam.s = text\n",
    "    iTextItemParam.type = 0\n",
    "    iTextItemFont = kompas6_api5_module.ksTextItemFont(iTextItemParam.GetItemFont())\n",
    "    iTextItemFont.Init()\n",
    "    iTextItemFont.bitVector = 4096\n",
    "    iTextItemFont.color = color\n",
    "    iTextItemFont.fontName = \"GOST type A\"\n",
    "    iTextItemFont.height = font_size\n",
    "    iTextItemFont.ksu = 1\n",
    "    iTextItemArray.ksAddArrayItem(-1, iTextItemParam)\n",
    "    iTextLineParam.SetTextItemArr(iTextItemArray)\n",
    "\n",
    "    iDocument2D.ksTextLine(iTextLineParam)\n",
    "    obj = iDocument2D.ksEndObj()\n",
    "\n"
   ],
   "metadata": {
    "collapsed": false
   }
  },
  {
   "cell_type": "code",
   "execution_count": 627,
   "outputs": [],
   "source": [
    "ONE_TO_SCALE = 2000\n",
    "\n",
    "add_view(\"План\", 1/ONE_TO_SCALE)\n",
    "add_layer(1, 3,\"Основные Точки\")\n",
    "\n",
    "for i, row in table_79.iterrows():\n",
    "    # X и Y перевёрнуты\n",
    "    obj = iDocument2D.ksCircle(row[\"Y\"] * 1000, row[\"X\"] * 1000, 1000, 1)\n",
    "    add_text(str(row[\"№№\"]) + \" (\" + str(\"{:1.2f}\".format(row[\"H\"])).replace(\".\", \",\") + \")\", row[\"Y\"] * 1000 - 15000, row[\"X\"] * 1000 - 7000)\n"
   ],
   "metadata": {
    "collapsed": false
   }
  },
  {
   "cell_type": "code",
   "execution_count": 628,
   "outputs": [],
   "source": [
    "# https://stackoverflow.com/questions/7586063/how-to-calculate-the-angle-between-a-line-and-the-horizontal-axis\n",
    "def angle_trunc(a):\n",
    "    while a < 0.0:\n",
    "        a += pi * 2\n",
    "    return a\n",
    "\n",
    "def getAngleBetweenPoints(x_orig, y_orig, x_landmark, y_landmark):\n",
    "    deltaY = y_landmark - y_orig\n",
    "    deltaX = x_landmark - x_orig\n",
    "    return angle_trunc(atan2(deltaY, deltaX))"
   ],
   "metadata": {
    "collapsed": false
   }
  },
  {
   "cell_type": "code",
   "execution_count": 629,
   "outputs": [
    {
     "data": {
      "text/plain": "             №№  Отсчет по дальномеру kl, м  Отсчет по гориз. Кругу  \\\n0   ПЗ41 - ПЗ42                         NaN                     NaN   \n1             1                        88.0               12.033333   \n2             2                       111.0               78.183333   \n3             3                       155.0              136.400000   \n4             4                       132.0              144.916667   \n5             5                       141.0              195.450000   \n6    111 - ПЗ41                         NaN                     NaN   \n7             6                        94.0              125.416667   \n8             7                       131.0              181.350000   \n9             8                       128.0              231.250000   \n10            9                       124.0              337.600000   \n11    112 - 111                         NaN                     NaN   \n12           10                        87.0              104.266667   \n13           11                       132.0              253.150000   \n14           12                       127.0              277.800000   \n15           13                        53.0              279.666667   \n16    113 - 112                         NaN                     NaN   \n17           14                       114.0               46.983333   \n18           15                        82.0              101.450000   \n19           16                        84.5              265.416667   \n20           17                        81.5              317.433333   \n21   ПЗ42 - 113                         NaN                     NaN   \n22           18                        54.0               12.950000   \n23           19                       123.0              178.016667   \n24           20                        90.0              178.550000   \n25           21                       148.0              234.933333   \n26           22                        76.5              275.850000   \n27           23                        96.0              334.766667   \n\n    Отметки реечн. точек Hр.т., м  \n0                             NaN  \n1                      136.500000  \n2                      135.490000  \n3                      135.900000  \n4                      135.860000  \n5                      139.270000  \n6                             NaN  \n7                      140.631531  \n8                      140.921531  \n9                      139.531531  \n10                     139.431531  \n11                            NaN  \n12                     138.888306  \n13                     138.698306  \n14                     137.708306  \n15                     139.208306  \n16                            NaN  \n17                     138.671244  \n18                     139.001244  \n19                     140.851244  \n20                     140.761244  \n21                            NaN  \n22                     140.420000  \n23                     135.000000  \n24                     135.030000  \n25                     135.320000  \n26                     138.320000  \n27                     140.420000  ",
      "text/html": "<div>\n<style scoped>\n    .dataframe tbody tr th:only-of-type {\n        vertical-align: middle;\n    }\n\n    .dataframe tbody tr th {\n        vertical-align: top;\n    }\n\n    .dataframe thead th {\n        text-align: right;\n    }\n</style>\n<table border=\"1\" class=\"dataframe\">\n  <thead>\n    <tr style=\"text-align: right;\">\n      <th></th>\n      <th>№№</th>\n      <th>Отсчет по дальномеру kl, м</th>\n      <th>Отсчет по гориз. Кругу</th>\n      <th>Отметки реечн. точек Hр.т., м</th>\n    </tr>\n  </thead>\n  <tbody>\n    <tr>\n      <th>0</th>\n      <td>ПЗ41 - ПЗ42</td>\n      <td>NaN</td>\n      <td>NaN</td>\n      <td>NaN</td>\n    </tr>\n    <tr>\n      <th>1</th>\n      <td>1</td>\n      <td>88.0</td>\n      <td>12.033333</td>\n      <td>136.500000</td>\n    </tr>\n    <tr>\n      <th>2</th>\n      <td>2</td>\n      <td>111.0</td>\n      <td>78.183333</td>\n      <td>135.490000</td>\n    </tr>\n    <tr>\n      <th>3</th>\n      <td>3</td>\n      <td>155.0</td>\n      <td>136.400000</td>\n      <td>135.900000</td>\n    </tr>\n    <tr>\n      <th>4</th>\n      <td>4</td>\n      <td>132.0</td>\n      <td>144.916667</td>\n      <td>135.860000</td>\n    </tr>\n    <tr>\n      <th>5</th>\n      <td>5</td>\n      <td>141.0</td>\n      <td>195.450000</td>\n      <td>139.270000</td>\n    </tr>\n    <tr>\n      <th>6</th>\n      <td>111 - ПЗ41</td>\n      <td>NaN</td>\n      <td>NaN</td>\n      <td>NaN</td>\n    </tr>\n    <tr>\n      <th>7</th>\n      <td>6</td>\n      <td>94.0</td>\n      <td>125.416667</td>\n      <td>140.631531</td>\n    </tr>\n    <tr>\n      <th>8</th>\n      <td>7</td>\n      <td>131.0</td>\n      <td>181.350000</td>\n      <td>140.921531</td>\n    </tr>\n    <tr>\n      <th>9</th>\n      <td>8</td>\n      <td>128.0</td>\n      <td>231.250000</td>\n      <td>139.531531</td>\n    </tr>\n    <tr>\n      <th>10</th>\n      <td>9</td>\n      <td>124.0</td>\n      <td>337.600000</td>\n      <td>139.431531</td>\n    </tr>\n    <tr>\n      <th>11</th>\n      <td>112 - 111</td>\n      <td>NaN</td>\n      <td>NaN</td>\n      <td>NaN</td>\n    </tr>\n    <tr>\n      <th>12</th>\n      <td>10</td>\n      <td>87.0</td>\n      <td>104.266667</td>\n      <td>138.888306</td>\n    </tr>\n    <tr>\n      <th>13</th>\n      <td>11</td>\n      <td>132.0</td>\n      <td>253.150000</td>\n      <td>138.698306</td>\n    </tr>\n    <tr>\n      <th>14</th>\n      <td>12</td>\n      <td>127.0</td>\n      <td>277.800000</td>\n      <td>137.708306</td>\n    </tr>\n    <tr>\n      <th>15</th>\n      <td>13</td>\n      <td>53.0</td>\n      <td>279.666667</td>\n      <td>139.208306</td>\n    </tr>\n    <tr>\n      <th>16</th>\n      <td>113 - 112</td>\n      <td>NaN</td>\n      <td>NaN</td>\n      <td>NaN</td>\n    </tr>\n    <tr>\n      <th>17</th>\n      <td>14</td>\n      <td>114.0</td>\n      <td>46.983333</td>\n      <td>138.671244</td>\n    </tr>\n    <tr>\n      <th>18</th>\n      <td>15</td>\n      <td>82.0</td>\n      <td>101.450000</td>\n      <td>139.001244</td>\n    </tr>\n    <tr>\n      <th>19</th>\n      <td>16</td>\n      <td>84.5</td>\n      <td>265.416667</td>\n      <td>140.851244</td>\n    </tr>\n    <tr>\n      <th>20</th>\n      <td>17</td>\n      <td>81.5</td>\n      <td>317.433333</td>\n      <td>140.761244</td>\n    </tr>\n    <tr>\n      <th>21</th>\n      <td>ПЗ42 - 113</td>\n      <td>NaN</td>\n      <td>NaN</td>\n      <td>NaN</td>\n    </tr>\n    <tr>\n      <th>22</th>\n      <td>18</td>\n      <td>54.0</td>\n      <td>12.950000</td>\n      <td>140.420000</td>\n    </tr>\n    <tr>\n      <th>23</th>\n      <td>19</td>\n      <td>123.0</td>\n      <td>178.016667</td>\n      <td>135.000000</td>\n    </tr>\n    <tr>\n      <th>24</th>\n      <td>20</td>\n      <td>90.0</td>\n      <td>178.550000</td>\n      <td>135.030000</td>\n    </tr>\n    <tr>\n      <th>25</th>\n      <td>21</td>\n      <td>148.0</td>\n      <td>234.933333</td>\n      <td>135.320000</td>\n    </tr>\n    <tr>\n      <th>26</th>\n      <td>22</td>\n      <td>76.5</td>\n      <td>275.850000</td>\n      <td>138.320000</td>\n    </tr>\n    <tr>\n      <th>27</th>\n      <td>23</td>\n      <td>96.0</td>\n      <td>334.766667</td>\n      <td>140.420000</td>\n    </tr>\n  </tbody>\n</table>\n</div>"
     },
     "execution_count": 629,
     "metadata": {},
     "output_type": "execute_result"
    }
   ],
   "source": [
    "table_10"
   ],
   "metadata": {
    "collapsed": false
   }
  },
  {
   "cell_type": "code",
   "execution_count": 630,
   "outputs": [],
   "source": [
    "add_layer(2, 3,\"Побочные Точки\")\n",
    "\n",
    "extra_points = {}\n",
    "\n",
    "for i, row in table_10.iterrows():\n",
    "    if \" - \" in str(row[\"№№\"]):\n",
    "        origin_label, dest_label = row[\"№№\"].split(\" - \")\n",
    "\n",
    "        if origin_label.isdigit():\n",
    "            origin_label = int(origin_label)\n",
    "\n",
    "        if dest_label.isdigit():\n",
    "            dest_label = int(dest_label)\n",
    "\n",
    "        origin = (table_79.loc[table_79['№№'] == origin_label][\"Y\"].values[0], table_79.loc[table_79['№№'] == origin_label][\"X\"].values[0])\n",
    "\n",
    "        _dest = (table_79.loc[table_79['№№'] == dest_label][\"Y\"].values[0], table_79.loc[table_79['№№'] == dest_label][\"X\"].values[0])\n",
    "\n",
    "        angle = np.rad2deg(getAngleBetweenPoints( origin[0], origin[1], _dest[0], _dest[1]))\n",
    "        _i_am_shit_at_coding = list(origin)\n",
    "        _i_am_shit_at_coding.append(table_79.loc[table_79['№№'] == origin_label][\"H\"].values[0])\n",
    "        extra_points.update({str(origin_label): _i_am_shit_at_coding})\n",
    "        continue\n",
    "    else:\n",
    "        if not origin:\n",
    "            continue\n",
    "    _d = row[\"Отсчет по дальномеру kl, м\"]\n",
    "    _alpha = row[\"Отсчет по гориз. Кругу\"]\n",
    "    xx = origin[0] + (_d * cos(np.radians(angle - _alpha)))\n",
    "    yy = origin[1] + (_d * sin(np.radians(angle - _alpha)))\n",
    "    # obj = iDocument2D.ksLineSeg(origin[0] * 1000, origin[1] * 1000, xx * 1000,yy * 1000, 6)\n",
    "\n",
    "    add_text(str(row[\"№№\"]) + \" (\" + str(\"{:1.3f}\".format(row[\"Отметки реечн. точек Hр.т., м\"])).replace(\".\", \",\") + \")\", xx * 1000 + 2000, yy * 1000 - 1000)\n",
    "\n",
    "    obj = iDocument2D.ksCircle(xx * 1000, yy * 1000, 1000, 1)\n",
    "    extra_points.update({str(row[\"№№\"]): [xx, yy, row[\"Отметки реечн. точек Hр.т., м\"]]})\n",
    "\n"
   ],
   "metadata": {
    "collapsed": false
   }
  },
  {
   "cell_type": "code",
   "execution_count": 631,
   "outputs": [],
   "source": [
    "interpolated_points = {}"
   ],
   "metadata": {
    "collapsed": false
   }
  },
  {
   "cell_type": "code",
   "execution_count": 632,
   "outputs": [],
   "source": [
    "# CON_P41 = \"1,2,4,5,21\".split(\",\")\n",
    "# CON_1 = [\"21\"]\n",
    "# CON_5 =[\"4\"]\n",
    "\n",
    "add_layer(3,2,\"Точки интерполяции пашни\")\n",
    "\n",
    "CON_111 = \"5,6,7,8,9,112,ПЗ41\".split(\",\")\n",
    "\n",
    "center_point = np.array(extra_points[\"111\"])\n",
    "for point in CON_111:\n",
    "    point = np.array(extra_points[point])\n",
    "\n",
    "    if center_point[2] > point[2]:\n",
    "        _coordinate_dif = center_point[:2] - point[:2]\n",
    "        xia = [center_point[2], point[2]]\n",
    "        hight_dif = range(int(ceil(point[2])), int(round(center_point[2])))\n",
    "    else:\n",
    "        _coordinate_dif = point[:2] - center_point[:2]\n",
    "        xia = [point[2], center_point[2]]\n",
    "        hight_dif = range(int(ceil(center_point[2])), int(round(point[2])))\n",
    "\n",
    "    length = round(np.sqrt(np.sum(np.power(_coordinate_dif,2))))\n",
    "    yia = [0, length]\n",
    "\n",
    "    _alpha = np.rad2deg(getAngleBetweenPoints( center_point[0], center_point[1], point[0], point[1]))\n",
    "\n",
    "    x = [0, length]\n",
    "    f = interpolate.interp1d(xia, yia)\n",
    "\n",
    "    for i in hight_dif:\n",
    "        _d = f(i)\n",
    "        xx = center_point[0] * 1000 + (_d * 1000 * cos(np.radians(_alpha)))\n",
    "        yy = center_point[1] * 1000 + (_d * 1000 * sin(np.radians(_alpha)))\n",
    "        obj = iDocument2D.ksPoint(xx  ,yy , 0)\n",
    "        add_text(i, xx - 10000, yy - 8000, color=9410565)\n",
    "\n",
    "        if i in interpolated_points:\n",
    "            interpolated_points[i].append((xx, yy))\n",
    "        else:\n",
    "            interpolated_points.update({i: [(xx, yy)]})\n"
   ],
   "metadata": {
    "collapsed": false
   }
  },
  {
   "cell_type": "code",
   "execution_count": 633,
   "outputs": [
    {
     "data": {
      "text/plain": "True"
     },
     "execution_count": 633,
     "metadata": {},
     "output_type": "execute_result"
    }
   ],
   "source": [
    "x = [extra_points[p][0] for p in extra_points]\n",
    "y = [extra_points[p][1] for p in extra_points]\n",
    "centroid = (sum(x) / len(extra_points), sum(y) / len(extra_points))\n",
    "obj = iDocument2D.ksPoint(*(cord * 1000 for cord in centroid), 0)\n",
    "\n",
    "current_view = kompas_document_2d.ViewsAndLayersManager.Views.ActiveView\n",
    "current_view.X = 594/2 - centroid[0] / 2\n",
    "current_view.Y = 420/2 - centroid[1] / 2\n",
    "current_view.Update()\n"
   ],
   "metadata": {
    "collapsed": false
   }
  },
  {
   "cell_type": "code",
   "execution_count": 634,
   "outputs": [],
   "source": [
    "def interpolate_line(first_point: str, second_point: str, interpolated_points: dict):\n",
    "\n",
    "    _first_point = np.array(extra_points[str(first_point)])\n",
    "    _second_point = np.array(extra_points[str(second_point)])\n",
    "\n",
    "    _coordinate_dif = _first_point[:2] - _second_point[:2]\n",
    "\n",
    "    _length = round(np.sqrt(np.sum(np.power(_coordinate_dif, 2))))\n",
    "\n",
    "    _yia = [0, _length]\n",
    "    _xia = [ _first_point[2], _second_point[2]]\n",
    "\n",
    "    _x = [0, _length]\n",
    "    _f = interpolate.interp1d(_xia, _yia)\n",
    "\n",
    "    _alpha = np.rad2deg(getAngleBetweenPoints(_first_point[0], _first_point[1], _second_point[0], _second_point[1]))\n",
    "\n",
    "    # if np.diff(sorted([int(round(_second_point[2])), int(ceil(_first_point[2]))])) <= 1:\n",
    "    #     return\n",
    "\n",
    "    _hight_dif_sorted = sorted([_second_point[2], _first_point[2]])\n",
    "\n",
    "    _height_dif = range(int(ceil(_hight_dif_sorted[0])), int(_hight_dif_sorted[1]) + 1)\n",
    "\n",
    "    print(f\"Points: {first_point, second_point}\\n Range: {_height_dif}\\n {_hight_dif_sorted}\\n\")\n",
    "\n",
    "    for i in _height_dif:\n",
    "        _d = _f(i)\n",
    "        xx = _first_point[0] * 1000 + (_d * 1000 * cos(np.radians(_alpha)))\n",
    "        yy = _first_point[1] * 1000 + (_d * 1000 * sin(np.radians(_alpha)))\n",
    "        obj = iDocument2D.ksPoint(xx, yy, 0)\n",
    "        add_text(f\"{i}\", xx - 10000, yy - 8000, color=14417715)\n",
    "\n",
    "        if i in interpolated_points:\n",
    "            interpolated_points[i].append((xx, yy))\n",
    "        else:\n",
    "            interpolated_points.update({i: [(xx, yy)]})\n",
    "        print(f\"{i}: {xx}, {yy}\")\n",
    "    print(\"\\n\")\n",
    "\n",
    "    return interpolated_points"
   ],
   "metadata": {
    "collapsed": false
   }
  },
  {
   "cell_type": "code",
   "execution_count": 635,
   "outputs": [
    {
     "name": "stdout",
     "output_type": "stream",
     "text": [
      "Points: ('7', '8')\n",
      " Range: range(140, 141)\n",
      " [139.5315311566677, 140.92153115666773]\n",
      "\n",
      "140: 2479546.013409982, 1733374.8863937943\n",
      "\n",
      "\n"
     ]
    },
    {
     "data": {
      "text/plain": "{140: [(2308910.7445719778, 1605869.432195151),\n  (2496594.013874557, 1704019.8498474883),\n  (2424365.5289027803, 1543184.6059996379),\n  (2508860.574506494, 1601999.8293501304),\n  (2378739.305426916, 1514020.9755505659),\n  (2479546.013409982, 1733374.8863937943)],\n 141: [(2333997.001249747, 1617378.6460708834),\n  (2339557.869922507, 1704202.9662037895),\n  (2420627.862287284, 1772330.4370231838),\n  (2469277.188995107, 1688124.4668178968),\n  (2417215.6331417076, 1572196.0621995262),\n  (2478118.8008843535, 1614589.4757771243),\n  (2384328.716258478, 1551175.214592027)],\n 142: [(2359083.2579275155, 1628887.8599466158),\n  (2362490.029541096, 1682079.3029753075),\n  (2412156.1815317655, 1723816.4392665166),\n  (2441960.3641156573, 1672229.0837883055),\n  (2410065.7373806345, 1601207.5183994146),\n  (2447377.0272622127, 1627179.122204118),\n  (2389918.12709004, 1588329.4536334882)],\n 143: [(2384169.5146052847, 1640397.0738223484),\n  (2385422.189159685, 1659955.6397468254),\n  (2403684.5007762476, 1675302.4415098492),\n  (2414643.5392362075, 1656333.700758714),\n  (2402915.841619562, 1630218.9745993032),\n  (2416635.253640072, 1639768.7686311118),\n  (2395507.537921602, 1625483.6926749493)]}"
     },
     "execution_count": 635,
     "metadata": {},
     "output_type": "execute_result"
    }
   ],
   "source": [
    "# Интерполяция между 7 и 8 точками\n",
    "\n",
    "# _seventh = np.array(extra_points[\"7\"])\n",
    "# _eighth = np.array(extra_points[\"8\"])\n",
    "#\n",
    "# _coordinate_dif = _seventh[:2] - _eighth[:2]\n",
    "#\n",
    "# _length = round(np.sqrt(np.sum(np.power(_coordinate_dif,2))))\n",
    "#\n",
    "# _yia = [0, _length]\n",
    "# _xia = [_seventh[2], _eighth[2]]\n",
    "#\n",
    "# _x = [0, _length]\n",
    "# _f = interpolate.interp1d(_xia, _yia)\n",
    "#\n",
    "# _alpha = np.rad2deg(getAngleBetweenPoints( _seventh[0], _seventh[1], _eighth[0], _eighth[1]))\n",
    "#\n",
    "# _height_dif = range(int(round(_eighth[2])), int(ceil(_seventh[2])))\n",
    "#\n",
    "# print(_height_dif)\n",
    "#\n",
    "# for i in _height_dif:\n",
    "#     print(i)\n",
    "#     _d = _f(i)\n",
    "#     xx = _seventh[0] * 1000 + (_d * 1000 * cos(np.radians(_alpha)))\n",
    "#     yy = _seventh[1] * 1000 + (_d * 1000 * sin(np.radians(_alpha)))\n",
    "#     obj = iDocument2D.ksPoint(xx  ,yy , 0)\n",
    "#     add_text(f\"{i}\", xx - 10000, yy - 8000, color=16711680)\n",
    "#\n",
    "#     if i in interpolated_points:\n",
    "#         interpolated_points[i].append((xx, yy))\n",
    "#     else:\n",
    "#         interpolated_points.update({i: [(xx, yy)]})\n",
    "\n",
    "interpolate_line(\"7\", \"8\", interpolated_points)\n"
   ],
   "metadata": {
    "collapsed": false
   }
  },
  {
   "cell_type": "code",
   "execution_count": 636,
   "outputs": [],
   "source": [
    "add_layer(4, 3,\"Кривые интерполяции пашни\")\n",
    "\n",
    "_max_num_of_points = max([len(interpolated_points[height_points]) for height_points in interpolated_points])\n",
    "\n",
    "for height in interpolated_points:\n",
    "\n",
    "    if len(interpolated_points[height]) <= 3:\n",
    "        continue\n",
    "\n",
    "    cent=(sum([p[0] for p in interpolated_points[height]])/len(interpolated_points[height]),sum([p[1] for p in interpolated_points[height]])/len(interpolated_points[height]))\n",
    "    interpolated_points[height].sort( key=lambda p: atan2(p[1]-cent[1],p[0]-cent[0]))\n",
    "\n",
    "    obj = iDocument2D.ksBezier(len(interpolated_points[height]) == _max_num_of_points, 1)\n",
    "    for point in interpolated_points[height]:\n",
    "        dot = iDocument2D.ksPoint(*point, 0)\n",
    "    iDocument2D.ksEndObj()"
   ],
   "metadata": {
    "collapsed": false
   }
  },
  {
   "cell_type": "code",
   "execution_count": 637,
   "outputs": [
    {
     "name": "stdout",
     "output_type": "stream",
     "text": [
      "Points: ('4', '5')\n",
      " Range: range(136, 140)\n",
      " [135.85999999999999, 139.27]\n",
      "\n",
      "136: 2244379.581599439, 1495315.0881497024\n",
      "137: 2258494.779658577, 1526588.0100096643\n",
      "138: 2272609.977717715, 1557860.9318696263\n",
      "139: 2286725.1757768528, 1589133.8537295884\n",
      "\n",
      "\n",
      "Points: ('ПЗ41', '1')\n",
      " Range: range(137, 140)\n",
      " [136.5, 139.19]\n",
      "\n",
      "137: 2420139.2208150467, 1428987.6170129855\n",
      "138: 2399171.5400775825, 1454098.294176006\n",
      "139: 2378203.8593401182, 1479208.9713390262\n",
      "\n",
      "\n",
      "Points: ('ПЗ41', '2')\n",
      " Range: range(136, 140)\n",
      " [135.49, 139.19]\n",
      "\n",
      "136: 2331836.4131267527, 1398177.1937302868\n",
      "137: 2345122.8039961094, 1425074.6251627987\n",
      "138: 2358409.1948654656, 1451972.0565953108\n",
      "139: 2371695.5857348223, 1478869.4880278227\n",
      "\n",
      "\n",
      "Points: ('ПЗ41', '4')\n",
      " Range: range(136, 140)\n",
      " [135.85999999999999, 139.19]\n",
      "\n",
      "136: 2247945.2906453456, 1490644.3976861532\n",
      "137: 2287529.8390323846, 1488555.2448064813\n",
      "138: 2327114.3874194236, 1486466.0919268094\n",
      "139: 2366698.9358064625, 1484376.9390471377\n",
      "\n",
      "\n",
      "Points: ('ПЗ41', '5')\n",
      " Range: range(140, 140)\n",
      " [139.19, 139.27]\n",
      "\n",
      "\n",
      "\n",
      "Points: ('ПЗ41', '21')\n",
      " Range: range(136, 140)\n",
      " [135.32, 139.19]\n",
      "\n",
      "136: 2415136.8293181052, 1343077.1870357494\n",
      "137: 2402310.2370553766, 1387247.34783959\n",
      "138: 2389483.6447926476, 1431417.5086434302\n",
      "139: 2376657.0525299185, 1475587.6694472705\n",
      "\n",
      "\n",
      "Points: ('12', '13')\n",
      " Range: range(138, 140)\n",
      " [137.70830617334067, 139.20830617334067]\n",
      "\n",
      "138: 2461032.5567441615, 1501070.6347505453\n",
      "139: 2484749.6872083563, 1544328.876743513\n",
      "\n",
      "\n",
      "Points: ('1', '112')\n",
      " Range: range(137, 140)\n",
      " [136.5, 139.69830617334068]\n",
      "\n",
      "137: 2444263.1233333847, 1444913.7734495152\n",
      "138: 2471543.2476325976, 1501876.7634855951\n",
      "139: 2498823.3719318104, 1558839.7535216748\n",
      "\n",
      "\n",
      "Points: ('10', '14')\n",
      " Range: range(139, 139)\n",
      " [138.67124394699454, 138.88830617334068]\n",
      "\n",
      "\n",
      "\n",
      "Points: ('16', '113')\n",
      " Range: range(141, 141)\n",
      " [140.36124394699453, 140.85124394699454]\n",
      "\n",
      "\n",
      "\n",
      "Points: ('ПЗ42', '20')\n",
      " Range: range(136, 139)\n",
      " [135.03, 138.72]\n",
      "\n",
      "136: 2540497.049406529, 1270784.5696018613\n",
      "137: 2551659.898889423, 1292470.3896011768\n",
      "138: 2562822.7483723164, 1314156.2096004926\n",
      "\n",
      "\n",
      "Points: ('ПЗ42', '18')\n",
      " Range: range(139, 141)\n",
      " [138.72, 140.42]\n",
      "\n",
      "139: 2576769.3663110696, 1336417.1586803175\n",
      "140: 2597874.2459934615, 1360157.0111100222\n",
      "\n",
      "\n",
      "Points: ('23', '22')\n",
      " Range: range(139, 141)\n",
      " [138.32, 140.42]\n",
      "\n",
      "139: 2529860.9091601484, 1389928.069017508\n",
      "140: 2562806.5155296503, 1415046.061603662\n",
      "\n",
      "\n",
      "Points: ('22', '21')\n",
      " Range: range(136, 139)\n",
      " [135.32, 138.32]\n",
      "\n",
      "136: 2442941.486858289, 1326962.0748356963\n",
      "137: 2470916.0904758475, 1346866.8313079134\n",
      "138: 2498890.6940934057, 1366771.5877801306\n",
      "\n",
      "\n",
      "Points: ('20', '21')\n",
      " Range: range(136, 136)\n",
      " [135.03, 135.32]\n",
      "\n",
      "\n",
      "\n",
      "Points: ('1', '21')\n",
      " Range: range(136, 137)\n",
      " [135.32, 136.5]\n",
      "\n",
      "136: 2427731.311840198, 1372884.1161330617\n",
      "\n",
      "\n",
      "Points: ('21', '21')\n",
      " Range: range(136, 136)\n",
      " [135.32, 135.32]\n",
      "\n",
      "\n",
      "\n"
     ]
    },
    {
     "data": {
      "text/plain": "{136: [(2244379.581599439, 1495315.0881497024),\n  (2331836.4131267527, 1398177.1937302868),\n  (2247945.2906453456, 1490644.3976861532),\n  (2415136.8293181052, 1343077.1870357494),\n  (2540497.049406529, 1270784.5696018613),\n  (2442941.486858289, 1326962.0748356963),\n  (2427731.311840198, 1372884.1161330617)],\n 137: [(2258494.779658577, 1526588.0100096643),\n  (2420139.2208150467, 1428987.6170129855),\n  (2345122.8039961094, 1425074.6251627987),\n  (2287529.8390323846, 1488555.2448064813),\n  (2402310.2370553766, 1387247.34783959),\n  (2444263.1233333847, 1444913.7734495152),\n  (2551659.898889423, 1292470.3896011768),\n  (2470916.0904758475, 1346866.8313079134)],\n 138: [(2272609.977717715, 1557860.9318696263),\n  (2399171.5400775825, 1454098.294176006),\n  (2358409.1948654656, 1451972.0565953108),\n  (2327114.3874194236, 1486466.0919268094),\n  (2389483.6447926476, 1431417.5086434302),\n  (2461032.5567441615, 1501070.6347505453),\n  (2471543.2476325976, 1501876.7634855951),\n  (2562822.7483723164, 1314156.2096004926),\n  (2498890.6940934057, 1366771.5877801306)],\n 139: [(2286725.1757768528, 1589133.8537295884),\n  (2378203.8593401182, 1479208.9713390262),\n  (2371695.5857348223, 1478869.4880278227),\n  (2366698.9358064625, 1484376.9390471377),\n  (2376657.0525299185, 1475587.6694472705),\n  (2484749.6872083563, 1544328.876743513),\n  (2498823.3719318104, 1558839.7535216748),\n  (2576769.3663110696, 1336417.1586803175),\n  (2529860.9091601484, 1389928.069017508)],\n 140: [(2597874.2459934615, 1360157.0111100222),\n  (2562806.5155296503, 1415046.061603662)]}"
     },
     "execution_count": 637,
     "metadata": {},
     "output_type": "execute_result"
    }
   ],
   "source": [
    "add_layer(5,2,\"Точки интерполяции берега\")\n",
    "\n",
    "interpolated_points_shore = {}\n",
    "\n",
    "# ПЗ 41\n",
    "interpolate_line(\"4\", \"5\", interpolated_points_shore)\n",
    "interpolate_line(\"ПЗ41\", \"1\", interpolated_points_shore)\n",
    "interpolate_line(\"ПЗ41\", \"2\", interpolated_points_shore)\n",
    "interpolate_line(\"ПЗ41\", \"4\", interpolated_points_shore)\n",
    "interpolate_line(\"ПЗ41\", \"5\", interpolated_points_shore)\n",
    "interpolate_line(\"ПЗ41\", \"21\", interpolated_points_shore)\n",
    "\n",
    "# 112\n",
    "# interpolate_line(\"8\", \"10\", interpolated_points_shore)\n",
    "# interpolate_line(\"112\", \"10\", interpolated_points_shore)\n",
    "# interpolate_line(\"112\", \"13\", interpolated_points_shore)\n",
    "# interpolate_line(\"9\", \"12\", interpolated_points_shore)\n",
    "interpolate_line(\"12\", \"13\", interpolated_points_shore)\n",
    "# interpolate_line(\"13\", \"1\", interpolated_points_shore)\n",
    "interpolate_line(\"1\", \"112\", interpolated_points_shore)\n",
    "\n",
    "# 113\n",
    "interpolate_line(\"10\", \"14\", interpolated_points_shore)\n",
    "# interpolate_line(\"113\", \"15\", interpolated_points_shore)\n",
    "# interpolate_line(\"17\", \"113\", interpolated_points_shore)\n",
    "interpolate_line(\"16\", \"113\", interpolated_points_shore)\n",
    "# interpolate_line(\"17\", \"112\", interpolated_points_shore)\n",
    "# interpolate_line(\"17\", \"14\", interpolated_points_shore)\n",
    "\n",
    "# ПЗ 42\n",
    "interpolate_line(\"ПЗ42\", \"20\", interpolated_points_shore)\n",
    "interpolate_line(\"ПЗ42\", \"18\", interpolated_points_shore)\n",
    "interpolate_line(\"23\", \"22\", interpolated_points_shore)\n",
    "interpolate_line(\"22\", \"21\", interpolated_points_shore)\n",
    "interpolate_line(\"20\", \"21\", interpolated_points_shore)\n",
    "interpolate_line(\"1\", \"21\", interpolated_points_shore)\n",
    "interpolate_line(\"21\", \"21\", interpolated_points_shore)\n"
   ],
   "metadata": {
    "collapsed": false
   }
  },
  {
   "cell_type": "code",
   "execution_count": 638,
   "outputs": [],
   "source": [
    "add_layer(6, 3,\"Кривые интерполяции берега\")\n",
    "\n",
    "for height in interpolated_points_shore:\n",
    "\n",
    "    if len(interpolated_points_shore[height]) < 3:\n",
    "        continue\n",
    "\n",
    "    interpolated_points_shore[height].sort()\n",
    "\n",
    "    obj = iDocument2D.ksBezier(False, 1)\n",
    "    for point in interpolated_points_shore[height]:\n",
    "        dot = iDocument2D.ksPoint(*point, 0)\n",
    "    iDocument2D.ksEndObj()"
   ],
   "metadata": {
    "collapsed": false
   }
  },
  {
   "cell_type": "code",
   "execution_count": 639,
   "outputs": [
    {
     "name": "stdout",
     "output_type": "stream",
     "text": [
      "Points: ('21', '23')\n",
      " Range: range(136, 141)\n",
      " [135.32, 140.42]\n",
      "\n",
      "136: 2444194.6752024475, 1328321.3110647516\n",
      "137: 2474221.5257896753, 1350373.8837926658\n",
      "138: 2504248.3763769036, 1372426.45652058\n",
      "139: 2534275.2269641315, 1394479.029248494\n",
      "140: 2564302.0775513593, 1416531.6019764082\n",
      "\n",
      "\n",
      "Points: ('112', '17')\n",
      " Range: range(140, 141)\n",
      " [139.69830617334068, 140.76124394699454]\n",
      "\n",
      "140: 2540722.333193306, 1570214.3349749742\n",
      "\n",
      "\n",
      "Points: ('14', '17')\n",
      " Range: range(139, 141)\n",
      " [138.67124394699454, 140.76124394699454]\n",
      "\n",
      "139: 2635219.4763654657, 1610827.0360958457\n",
      "140: 2614501.2707160986, 1547125.9158880056\n",
      "\n",
      "\n",
      "Points: ('15', '113')\n",
      " Range: range(140, 141)\n",
      " [139.00124394699452, 140.36124394699453]\n",
      "\n",
      "140: 2689722.397648988, 1540611.2617111553\n",
      "\n",
      "\n",
      "Points: ('ПЗ42', '18')\n",
      " Range: range(139, 141)\n",
      " [138.72, 140.42]\n",
      "\n",
      "139: 2576769.3663110696, 1336417.1586803175\n",
      "140: 2597874.2459934615, 1360157.0111100222\n",
      "\n",
      "\n"
     ]
    }
   ],
   "source": [
    "# Горизонталь вокруг ФС\n",
    "add_layer(7,2,\"Точки интерполяции ФС\")\n",
    "\n",
    "interpolated_points_fruit_garden = {}\n",
    "\n",
    "_interpolation_21_23 = interpolate_line(\"21\", \"23\", {})\n",
    "_last_point_between_21_23 = list(_interpolation_21_23.keys())[-1]\n",
    "\n",
    "interpolated_points_fruit_garden.update({_last_point_between_21_23: _interpolation_21_23[_last_point_between_21_23]})\n",
    "\n",
    "_interpolation_112_17 = interpolate_line(\"112\", \"17\", {})\n",
    "if _last_point_between_21_23 in _interpolation_112_17:\n",
    "    interpolated_points_fruit_garden[_last_point_between_21_23].append(*_interpolation_112_17[_last_point_between_21_23])\n",
    "\n",
    "_interpolation_14_17 = interpolate_line(\"14\", \"17\", {})\n",
    "interpolated_points_fruit_garden[_last_point_between_21_23].append(*_interpolation_14_17[_last_point_between_21_23])\n",
    "\n",
    "_interpolation_15_113 = interpolate_line(\"15\", \"113\", {})\n",
    "interpolated_points_fruit_garden[_last_point_between_21_23].append(*_interpolation_15_113[_last_point_between_21_23])\n",
    "\n",
    "_interpolation_p42_18 = interpolate_line(\"ПЗ42\", \"18\", {})\n",
    "interpolated_points_fruit_garden[_last_point_between_21_23].insert(0, *_interpolation_p42_18[_last_point_between_21_23])\n"
   ],
   "metadata": {
    "collapsed": false
   }
  },
  {
   "cell_type": "code",
   "execution_count": 640,
   "outputs": [
    {
     "data": {
      "text/plain": "1073760177"
     },
     "execution_count": 640,
     "metadata": {},
     "output_type": "execute_result"
    }
   ],
   "source": [
    "add_layer(8, 3,\"Кривые интерполяции ФС\")\n",
    "\n",
    "obj = iDocument2D.ksBezier(False, 1)\n",
    "for point in interpolated_points_fruit_garden[_last_point_between_21_23]:\n",
    "    dot = iDocument2D.ksPoint(*point, 0)\n",
    "iDocument2D.ksEndObj()"
   ],
   "metadata": {
    "collapsed": false
   }
  },
  {
   "cell_type": "code",
   "execution_count": 641,
   "outputs": [
    {
     "name": "stdout",
     "output_type": "stream",
     "text": [
      "Points: ('112', '10')\n",
      " Range: range(139, 140)\n",
      " [138.88830617334068, 139.69830617334068]\n",
      "\n",
      "139: 2562402.5071045454, 1658622.3720130017\n",
      "\n",
      "\n",
      "Points: ('14', '17')\n",
      " Range: range(139, 141)\n",
      " [138.67124394699454, 140.76124394699454]\n",
      "\n",
      "139: 2635219.4763654657, 1610827.0360958457\n",
      "140: 2614501.2707160986, 1547125.9158880056\n",
      "\n",
      "\n",
      "Points: ('15', '113')\n",
      " Range: range(140, 141)\n",
      " [139.00124394699452, 140.36124394699453]\n",
      "\n",
      "140: 2689722.397648988, 1540611.2617111553\n",
      "\n",
      "\n",
      "Points: ('8', '10')\n",
      " Range: range(139, 140)\n",
      " [138.88830617334068, 139.5315311566677]\n",
      "\n",
      "139: 2559057.877631364, 1675793.4970725272\n",
      "\n",
      "\n"
     ]
    }
   ],
   "source": [
    "# Горизонталь за ФС\n",
    "add_layer(9,2,\"Точки интерполяции за ФС\")\n",
    "\n",
    "interpolated_points_behind_fruit_garden = {}\n",
    "\n",
    "_interpolation_112_10 = interpolate_line(\"112\", \"10\", {})\n",
    "_last_point_between_112_10 = list(_interpolation_112_10.keys())[-1]\n",
    "\n",
    "interpolated_points_behind_fruit_garden.update({_last_point_between_112_10: _interpolation_112_10[_last_point_between_112_10]})\n",
    "\n",
    "_interpolation_14_17 = interpolate_line(\"14\", \"17\", {})\n",
    "interpolated_points_behind_fruit_garden[_last_point_between_112_10].append(*_interpolation_14_17[_last_point_between_112_10])\n",
    "\n",
    "_interpolation_15_113 = interpolate_line(\"15\", \"113\", {})\n",
    "if _last_point_between_112_10 in _interpolation_15_113:\n",
    "    interpolated_points_behind_fruit_garden[_last_point_between_112_10].append(*_interpolation_15_113[_last_point_between_112_10])\n",
    "\n",
    "_interpolation_8_10 = interpolate_line(\"8\", \"10\", {})\n",
    "interpolated_points_behind_fruit_garden[_last_point_between_112_10].insert(0, *_interpolation_8_10[_last_point_between_112_10])\n"
   ],
   "metadata": {
    "collapsed": false
   }
  },
  {
   "cell_type": "code",
   "execution_count": 642,
   "outputs": [
    {
     "data": {
      "text/plain": "1073760190"
     },
     "execution_count": 642,
     "metadata": {},
     "output_type": "execute_result"
    }
   ],
   "source": [
    "add_layer(10, 3,\"Кривые интерполяции за ФС\")\n",
    "\n",
    "obj = iDocument2D.ksBezier(False, 1)\n",
    "for point in interpolated_points_behind_fruit_garden[_last_point_between_112_10]:\n",
    "    dot = iDocument2D.ksPoint(*point, 0)\n",
    "iDocument2D.ksEndObj()"
   ],
   "metadata": {
    "collapsed": false
   }
  },
  {
   "cell_type": "code",
   "execution_count": 643,
   "outputs": [],
   "source": [
    "# Соединить основные границы\n",
    "\n",
    "add_layer(10, 3,\"Левая граница\")\n",
    "\n",
    "_left_border = \"4,5,6,7\".split(sep=\",\")\n",
    "\n",
    "for i in range(len(_left_border)-1):\n",
    "    # print(f\"{ _left_border[i]}: {extra_points[ _left_border[i]]}\\t{ _left_border[i+1]}: {extra_points[ _left_border[i+1]]}\")\n",
    "    obj = iDocument2D.ksLineSeg(*[i * 1000 for i in (*extra_points[ _left_border[i]][:2], *extra_points[ _left_border[i+1]][:2])], 4)"
   ],
   "metadata": {
    "collapsed": false
   }
  },
  {
   "cell_type": "code",
   "execution_count": 644,
   "outputs": [],
   "source": [
    "add_layer(11, 3,\"Верхняя граница\")\n",
    "\n",
    "_top_border = \"7,8,10,14,15\".split(sep=\",\")\n",
    "\n",
    "for i in range(len(_top_border)-1):\n",
    "    # print(f\"{ _top_border[i]}: {extra_points[ _top_border[i]]}\\t{ _top_border[i+1]}: {extra_points[ _top_border[i+1]]}\")\n",
    "    obj = iDocument2D.ksLineSeg(*[i * 1000 for i in (*extra_points[ _top_border[i]][:2], *extra_points[ _top_border[i+1]][:2])], 1)"
   ],
   "metadata": {
    "collapsed": false
   }
  },
  {
   "cell_type": "code",
   "execution_count": 645,
   "outputs": [],
   "source": [
    "add_layer(12, 3,\"Граница пашни\")\n",
    "\n",
    "_p_border = \"5,ПЗ41,9,112,8\".split(sep=\",\")\n",
    "\n",
    "for i in range(len(_p_border)-1):\n",
    "    # print(f\"{ _p_border[i]}: {extra_points[ _p_border[i]]}\\t{ _p_border[i+1]}: {extra_points[ _p_border[i+1]]}\")\n",
    "    obj = iDocument2D.ksLineSeg(*[i * 1000 for i in (*extra_points[ _p_border[i]][:2], *extra_points[ _p_border[i+1]][:2])], 4)"
   ],
   "metadata": {
    "collapsed": false
   }
  },
  {
   "cell_type": "code",
   "execution_count": 646,
   "outputs": [],
   "source": [
    "add_layer(13, 3,\"Река\")\n",
    "\n",
    "_river_border = \"4,2,21,20\".split(sep=\",\")\n",
    "\n",
    "for i in range(len(_river_border)-1):\n",
    "    # print(f\"{ _river_border[i]}: {extra_points[ _river_border[i]]}\\t{ _river_border[i+1]}: {extra_points[ _river_border[i+1]]}\")\n",
    "    obj = iDocument2D.ksLineSeg(*[i * 1000 for i in (*extra_points[ _river_border[i]][:2], *extra_points[ _river_border[i+1]][:2])], 1)\n",
    "\n",
    "# вторая сторона реки\n",
    "\n",
    "_alpha = np.rad2deg(getAngleBetweenPoints(*extra_points[\"4\"][:2], *extra_points[\"3\"][:2]))\n",
    "\n",
    "_second_shore = []\n",
    "_d = 32\n",
    "for i in range(len(_river_border)):\n",
    "    # obj = iDocument2D.ksLineSeg(*[i * 1000 for i in tuple(map(lambda i, j: i - j, (*extra_points[ _river_border[i]][:2], *extra_points[ _river_border[i+1]][:2]), (20,20,20,20)))], 1)\n",
    "\n",
    "    xx = extra_points[ _river_border[i]][0] * 1000 + (_d * 1000 * cos(np.radians(_alpha)))\n",
    "    yy = extra_points[ _river_border[i]][1] * 1000 + (_d * 1000 * sin(np.radians(_alpha)))\n",
    "    _second_shore.append((xx, yy))\n",
    "\n",
    "for i in range(len(_second_shore) - 1):\n",
    "    if i != len(_second_shore) - 2:\n",
    "        obj = iDocument2D.ksLineSeg(*_second_shore[i], *_second_shore[i+1], 1)\n",
    "    else:\n",
    "        obj = iDocument2D.ksLineSeg(*_second_shore[i], *(p * 1000 for p in extra_points[\"19\"][:2]), 1)\n",
    "\n",
    "# Добавить подпись\n",
    "\n",
    "_xx = (extra_points[\"2\"][0] + extra_points[\"21\"][0])/2 * 1000 + (_d/2 * 1000 * cos(np.radians(_alpha)))\n",
    "_yy = (extra_points[\"2\"][1] + extra_points[\"21\"][1])/2 * 1000 + (_d/2 * 1000 * sin(np.radians(_alpha)))\n",
    "\n",
    "add_text(\"р. Соть\",_xx, _yy, np.rad2deg(getAngleBetweenPoints(*extra_points[\"2\"][:2], *extra_points[\"21\"][:2])), 5)"
   ],
   "metadata": {
    "collapsed": false
   }
  },
  {
   "cell_type": "code",
   "execution_count": 647,
   "outputs": [],
   "source": [
    "# Автодорога\n",
    "\n",
    "add_layer(14, 3,\"Автодорога\")\n",
    "\n",
    "_alpha = np.rad2deg(getAngleBetweenPoints(*extra_points[\"6\"][:2], *extra_points[\"7\"][:2]))\n",
    "\n",
    "_autobahn = []\n",
    "_d = 10\n",
    "for i in range(len(_top_border)):\n",
    "\n",
    "    xx = extra_points[ _top_border[i]][0] * 1000 + (_d * 1000 * cos(np.radians(_alpha)))\n",
    "    yy = extra_points[ _top_border[i]][1] * 1000 + (_d * 1000 * sin(np.radians(_alpha)))\n",
    "    _autobahn.append((xx, yy))\n",
    "\n",
    "for i in range(len(_autobahn) - 1):\n",
    "    obj = iDocument2D.ksLineSeg(*_autobahn[i], *_autobahn[i+1], 4)\n"
   ],
   "metadata": {
    "collapsed": false
   }
  },
  {
   "cell_type": "code",
   "execution_count": 648,
   "outputs": [],
   "source": [
    "from typing import List, Set, Dict, Tuple\n",
    "from typing import Union"
   ],
   "metadata": {
    "collapsed": false
   }
  },
  {
   "cell_type": "code",
   "execution_count": 649,
   "outputs": [],
   "source": [
    "def endpoint_by_distance_and_angle(starting_point: Union[Tuple[float, float], List[float]], distance: float, angle: float) -> Tuple[float, float]:\n",
    "    xx = starting_point[0] + (distance * cos(np.radians(angle)))\n",
    "    yy = starting_point[1] + (distance * sin(np.radians(angle)))\n",
    "    return xx, yy"
   ],
   "metadata": {
    "collapsed": false
   }
  },
  {
   "cell_type": "code",
   "execution_count": 650,
   "outputs": [],
   "source": [
    "# Текст пашни\n",
    "add_layer(15, 3, \"Текст пашни\")\n",
    "\n",
    "add_text(\"Пашня\", *map(lambda i, j: (i + j) * 1000, extra_points[\"111\"][:2], (-20, 45)),0, 7)"
   ],
   "metadata": {
    "collapsed": false
   }
  },
  {
   "cell_type": "code",
   "execution_count": 651,
   "outputs": [],
   "source": [
    "# Текст лес\n",
    "add_layer(16, 3, \"Текст лес\")\n",
    "\n",
    "add_text(\"Лес\", *map(lambda i, j: (i + j) * 1000, extra_points[\"6\"][:2], (-60, 0)),0, 7)"
   ],
   "metadata": {
    "collapsed": false
   }
  },
  {
   "cell_type": "code",
   "execution_count": 652,
   "outputs": [],
   "source": [
    "def m_to_mm(m: Tuple[float, float]) -> Tuple[float, float]:\n",
    "    return tuple(map(lambda i: i * 1000, m))\n",
    "def mm_to_m(m: Tuple[float, float]) -> Tuple[float, float]:\n",
    "    return tuple(map(lambda i: i / 1000, m))"
   ],
   "metadata": {
    "collapsed": false
   }
  },
  {
   "cell_type": "code",
   "execution_count": 653,
   "outputs": [],
   "source": [
    "# https://stackoverflow.com/a/67313571\n",
    "def get_intersections(x0, y0, r0, x1, y1, r1):\n",
    "    # circle 1: (x0, y0), radius r0\n",
    "    # circle 2: (x1, y1), radius r1\n",
    "\n",
    "    d=sqrt((x1-x0)**2 + (y1-y0)**2)\n",
    "\n",
    "    # non-intersecting\n",
    "    if d > r0 + r1 :\n",
    "        return {}\n",
    "    # One circle within other\n",
    "    if d < abs(r0-r1):\n",
    "        return {}\n",
    "    # coincident circles\n",
    "    if d == 0 and r0 == r1:\n",
    "        return {}\n",
    "    else:\n",
    "        a=(r0**2-r1**2+d**2)/(2*d)\n",
    "        h=sqrt(r0**2-a**2)\n",
    "        x2=x0+a*(x1-x0)/d\n",
    "        y2=y0+a*(y1-y0)/d\n",
    "        x3=x2+h*(y1-y0)/d\n",
    "        y3=y2-h*(x1-x0)/d\n",
    "        x4=x2-h*(y1-y0)/d\n",
    "        y4=y2+h*(x1-x0)/d\n",
    "        return x3, y3, x4, y4\n"
   ],
   "metadata": {
    "collapsed": false
   }
  },
  {
   "cell_type": "code",
   "execution_count": 654,
   "outputs": [],
   "source": [
    "def add_rect(XY: Tuple[float, float], h: float, w: float, angle: float = 0, style: int = 1) -> int:\n",
    "    iRectangleParam = kompas6_api5_module.ksRectangleParam(kompas_object.GetParamStruct(kompas6_constants.ko_RectangleParam))\n",
    "    iRectangleParam.Init()\n",
    "    iRectangleParam.x = XY[0]\n",
    "    iRectangleParam.y = XY[1]\n",
    "    iRectangleParam.ang = angle\n",
    "    iRectangleParam.height = h\n",
    "    iRectangleParam.width = w\n",
    "    iRectangleParam.style = style\n",
    "    return iDocument2D.ksRectangle(iRectangleParam)"
   ],
   "metadata": {
    "collapsed": false
   }
  },
  {
   "cell_type": "code",
   "execution_count": 655,
   "outputs": [],
   "source": [
    "# Фруктовый сад\n",
    "add_layer(17, 3, \"Колодец\")\n",
    "\n",
    "_alpha_14_15 = np.rad2deg(getAngleBetweenPoints(*extra_points[\"14\"][:2], *extra_points[\"15\"][:2]))\n",
    "_alpha_113_P42 = np.rad2deg(getAngleBetweenPoints(*extra_points[\"113\"][:2], *extra_points[\"ПЗ42\"][:2]))\n",
    "\n",
    "\n",
    "# _well_angles = degrees(atan2(14.62,9.15))\n",
    "#\n",
    "_well_point_1 = m_to_mm(endpoint_by_distance_and_angle(extra_points[\"113\"][:2], 40, _alpha_113_P42))\n",
    "# _obj_well_point_1 = iDocument2D.ksPoint(*_well_point_1, 0)\n",
    "\n",
    "_well_point_2 = m_to_mm(endpoint_by_distance_and_angle(extra_points[\"113\"][:2], 58.61, _alpha_113_P42))\n",
    "# _obj_well_point_2 = iDocument2D.ksPoint(*_well_point_2, 0)\n",
    "#\n",
    "# well_line_1 = iDocument2D.ksLineSeg(*_well_point_1, *m_to_mm(endpoint_by_distance_and_angle(mm_to_m(_well_point_1), 9.15, _alpha_113_P42 - _well_angles)), 6)\n",
    "\n",
    "_well_point_3 = get_intersections(*_well_point_1, 9.15*1000, *_well_point_2, 14.62*1000)\n",
    "\n",
    "# Штриховка\n",
    "_well_hatch = iDocument2D.ksHatch(0, 45, 0.25, 0, 0 ,0)\n",
    "_obj_well_circle = iDocument2D.ksCircle(*_well_point_3[:2], 2500 ,1)\n",
    "iDocument2D.ksEndObj()\n",
    "\n",
    "_obj_well_circle = iDocument2D.ksCircle(*_well_point_3[:2], 2500 ,1)\n",
    "\n",
    "add_text(\"Колодец\", *map(lambda i, j: (i + j) * 1000, mm_to_m(_well_point_3[:2]), (-10, 5)))\n",
    "\n",
    "add_layer(18, 3, \"Фруктовый сад\")\n",
    "\n",
    "# fruit_garden_points = [endpoint_by_distance_and_angle(extra_points[\"113\"][:2], 81.5, _alpha_113_P42 - (44 + (1/60))), endpoint_by_distance_and_angle(endpoint_by_distance_and_angle(extra_points[\"113\"][:2], 58.61, _alpha_113_P42), -8.2, _alpha_14_15), endpoint_by_distance_and_angle(endpoint_by_distance_and_angle(extra_points[\"113\"][:2], 133.41, _alpha_113_P42), -7.81, _alpha_14_15), endpoint_by_distance_and_angle(extra_points[\"ПЗ42\"][:2], 96.15, 0 - _alpha_113_P42 - (25 + (11/60)))]\n",
    "\n",
    "fruit_garden_points = [tuple(extra_points[\"17\"][:2]), endpoint_by_distance_and_angle(endpoint_by_distance_and_angle(extra_points[\"113\"][:2], 58.61, _alpha_113_P42), -8.2, _alpha_14_15), endpoint_by_distance_and_angle(endpoint_by_distance_and_angle(extra_points[\"113\"][:2], 133.41, _alpha_113_P42), -7.81, _alpha_14_15), tuple(extra_points[\"23\"][:2])]\n",
    "\n",
    "iDocument2D.ksLineSeg(*m_to_mm(fruit_garden_points[0]), *m_to_mm(fruit_garden_points[3]), 1)\n",
    "for i in range(len(fruit_garden_points)-1):\n",
    "    iDocument2D.ksLineSeg(*m_to_mm(fruit_garden_points[i]), *m_to_mm(fruit_garden_points[i+1]), 1)\n",
    "\n",
    "# _mid_fs_text = tuple(i/2 for i in (fruit_garden_points[0][0] + fruit_garden_points[1][0], fruit_garden_points[0][1] + fruit_garden_points[1][1]))\n",
    "# *map(lambda i, j: (i + j) * 1000, _mid_fs_text, (-60, 0))\n",
    "\n",
    "_alpha_fs = np.rad2deg(getAngleBetweenPoints(*fruit_garden_points[1], *fruit_garden_points[2]))\n",
    "\n",
    "add_text(\"ФС\", *m_to_mm(endpoint_by_distance_and_angle(fruit_garden_points[0], 15, _alpha_fs + 30)), np.rad2deg(getAngleBetweenPoints(*fruit_garden_points[0], *fruit_garden_points[1])), 5)\n",
    "\n",
    "add_layer(19, 3, \"2КЖ\")\n",
    "\n",
    "_kg2_p1 = m_to_mm(endpoint_by_distance_and_angle(endpoint_by_distance_and_angle(extra_points[\"113\"][:2], 80.05, _alpha_113_P42), -8.03, _alpha_14_15))\n",
    "_kg2_p2 = m_to_mm(endpoint_by_distance_and_angle(endpoint_by_distance_and_angle(extra_points[\"113\"][:2], 110.23, _alpha_113_P42), -7.91, _alpha_14_15))\n",
    "\n",
    "add_rect(_kg2_p1, -16.05*1000, (110.23-80.05)*1000, _alpha_fs)\n",
    "\n",
    "# *tuple(i/2 for i in (_kg2_p1[0] + _kg2_p2[0], _kg2_p1[1] + _kg2_p2[1]))\n",
    "\n",
    "add_text(\"2кж\", _kg2_p2[0] - 2400, _kg2_p2[1] + 4000, np.rad2deg(getAngleBetweenPoints(*_kg2_p2, *_kg2_p1)),5)"
   ],
   "metadata": {
    "collapsed": false
   }
  },
  {
   "cell_type": "code",
   "execution_count": 656,
   "outputs": [],
   "source": [
    "def line_len(p1: Tuple[float, float], p2: Tuple[float, float]) -> float:\n",
    "    return sum(map(lambda fp, sp: (sp - fp) ** 2, p1, p2))**0.5\n",
    "\n"
   ],
   "metadata": {
    "collapsed": false
   }
  },
  {
   "cell_type": "code",
   "execution_count": 657,
   "outputs": [],
   "source": [
    "# Железная дорога\n",
    "add_layer(19, 3, \"Железная дорога\")\n",
    "\n",
    "_railroad_p1 = endpoint_by_distance_and_angle(extra_points[\"113\"][:2], 12.64, _alpha_14_15)\n",
    "_railroad_end = endpoint_by_distance_and_angle(endpoint_by_distance_and_angle(extra_points[\"113\"][:2], 162.1, _alpha_113_P42), 14.28, _alpha_14_15)\n",
    "\n",
    "_alpha_rail = np.rad2deg(getAngleBetweenPoints(*_railroad_p1, *_railroad_end))\n",
    "\n",
    "_railroad_p0 = endpoint_by_distance_and_angle(_railroad_p1, -70,_alpha_rail)\n",
    "\n",
    "iDocument2D.ksLineSeg(*m_to_mm(_railroad_p0), *m_to_mm(_railroad_end), 1)\n",
    "\n",
    "for i in range(5, int(line_len(_railroad_p0, _railroad_end))+5, 5):\n",
    "    _start_point = endpoint_by_distance_and_angle(_railroad_p0, i,_alpha_rail)\n",
    "    _side_point_1 = endpoint_by_distance_and_angle(_start_point, 2.5,  45 - _alpha_rail)\n",
    "    _side_point_2 = endpoint_by_distance_and_angle(_start_point, -2.5, 45 - _alpha_rail)\n",
    "    iDocument2D.ksLineSeg(*m_to_mm(_side_point_1), *m_to_mm(_side_point_2), 1)"
   ],
   "metadata": {
    "collapsed": false
   }
  },
  {
   "cell_type": "code",
   "execution_count": 658,
   "outputs": [],
   "source": [
    "# Условные обозначения леса, луга, фруктового сада.\n",
    "\n",
    "def draw_meadow(point: Tuple[float, float], style: int = 2, size: float = 1000) -> Tuple[int, int]:\n",
    "\n",
    "    line_one = iDocument2D.ksLineSeg(*point, *map(lambda i, j: (i + j), point, (0, 2.5 * size)), style)\n",
    "    line_two = iDocument2D.ksLineSeg(*map(lambda i, j: (i + j), point, (1 * size, 0)), *map(lambda i, j: (i + j), point, (1 * size, 2.5 * size)), style)\n",
    "\n",
    "    return line_one, line_two\n",
    "\n"
   ],
   "metadata": {
    "collapsed": false
   }
  },
  {
   "cell_type": "code",
   "execution_count": 674,
   "outputs": [],
   "source": [
    "# Добавляю этот пакет, что бы проще проверять находятся ли точки в полигонах\n",
    "# https://stackoverflow.com/questions/52281055/point-in-polygon-using-shapely\n",
    "from shapely import geometry, affinity\n",
    "\n",
    "_plan_poly = [m_to_mm(tuple(extra_points[\"20\"][:2])), m_to_mm(tuple(extra_points[\"21\"][:2])), m_to_mm(tuple(extra_points[\"2\"][:2])),\n",
    "              m_to_mm(tuple(extra_points[\"4\"][:2])), m_to_mm(tuple(extra_points[\"5\"][:2])), m_to_mm(tuple(extra_points[\"6\"][:2])),\n",
    "              m_to_mm(tuple(extra_points[\"7\"][:2])), m_to_mm(tuple(extra_points[\"8\"][:2])), m_to_mm(tuple(extra_points[\"10\"][:2])),\n",
    "              m_to_mm(tuple(extra_points[\"14\"][:2])), m_to_mm(tuple(extra_points[\"15\"][:2])), m_to_mm(tuple(extra_points[\"113\"][:2])),\n",
    "              m_to_mm(tuple(extra_points[\"ПЗ42\"][:2]))]\n",
    "\n",
    "_plan_poly_line = geometry.LineString(_plan_poly)\n",
    "_plan_poly = geometry.Polygon(_plan_poly_line)\n",
    "\n",
    "_farm_poly = [m_to_mm(tuple(extra_points[\"ПЗ41\"][:2])), m_to_mm(tuple(extra_points[\"5\"][:2])), m_to_mm(tuple(extra_points[\"6\"][:2])),\n",
    "              m_to_mm(tuple(extra_points[\"7\"][:2])), m_to_mm(tuple(extra_points[\"8\"][:2])), m_to_mm(tuple(extra_points[\"112\"][:2])),\n",
    "              m_to_mm(tuple(extra_points[\"9\"][:2]))]\n",
    "\n",
    "_farm_poly_line = geometry.LineString(_farm_poly)\n",
    "_farm_poly = geometry.Polygon(_farm_poly_line)\n",
    "\n",
    "_fruit_garden_poly = geometry.Polygon(geometry.LineString((m_to_mm(i) for i in fruit_garden_points)))\n",
    "\n",
    "_fruit_garden_poly = affinity.scale(_fruit_garden_poly, 0.95, 0.95)\n",
    "\n",
    "_kg_poly = [_kg2_p1, m_to_mm(endpoint_by_distance_and_angle(endpoint_by_distance_and_angle(extra_points[\"113\"][:2], 80.05, _alpha_113_P42), -8.03 - 16.05, _alpha_14_15)), m_to_mm(endpoint_by_distance_and_angle(endpoint_by_distance_and_angle(extra_points[\"113\"][:2], 110.23, _alpha_113_P42), -7.91 -16.05, _alpha_14_15)), _kg2_p2]\n",
    "\n",
    "_kg_poly_line = geometry.LineString(_kg_poly)\n",
    "_kg_poly = geometry.Polygon(_kg_poly_line)\n"
   ],
   "metadata": {
    "collapsed": false
   }
  },
  {
   "cell_type": "code",
   "execution_count": 677,
   "outputs": [
    {
     "name": "stdout",
     "output_type": "stream",
     "text": [
      "(2522, 1265)\n",
      "(2482, 1285)\n",
      "(2502, 1285)\n",
      "(2522, 1285)\n",
      "(2542, 1285)\n",
      "(2442, 1305)\n",
      "(2462, 1305)\n",
      "(2482, 1305)\n",
      "(2502, 1305)\n",
      "(2522, 1305)\n",
      "(2542, 1305)\n",
      "(2422, 1325)\n",
      "(2442, 1325)\n",
      "(2462, 1325)\n",
      "(2482, 1325)\n",
      "(2502, 1325)\n",
      "(2522, 1325)\n",
      "(2542, 1325)\n",
      "(2562, 1325)\n",
      "(2382, 1345)\n",
      "(2402, 1345)\n",
      "(2422, 1345)\n",
      "(2442, 1345)\n",
      "(2462, 1345)\n",
      "(2482, 1345)\n",
      "(2502, 1345)\n",
      "(2522, 1345)\n",
      "(2542, 1345)\n",
      "(2562, 1345)\n",
      "(2362, 1365)\n",
      "(2382, 1365)\n",
      "(2402, 1365)\n",
      "(2422, 1365)\n",
      "(2442, 1365)\n",
      "(2462, 1365)\n",
      "(2482, 1365)\n",
      "(2502, 1365)\n",
      "(2522, 1365)\n",
      "(2542, 1365)\n",
      "(2562, 1365)\n",
      "(2582, 1365)\n",
      "(2342, 1385)\n",
      "(2362, 1385)\n",
      "(2382, 1385)\n",
      "(2402, 1385)\n",
      "(2422, 1385)\n",
      "(2442, 1385)\n",
      "(2462, 1385)\n",
      "(2482, 1385)\n",
      "(2502, 1385)\n",
      "(2522, 1385)\n",
      "(2542, 1385)\n",
      "(2562, 1385)\n",
      "(2582, 1385)\n",
      "(2322, 1405)\n",
      "(2342, 1405)\n",
      "(2362, 1405)\n",
      "(2382, 1405)\n",
      "(2402, 1405)\n",
      "(2422, 1405)\n",
      "(2442, 1405)\n",
      "(2462, 1405)\n",
      "(2482, 1405)\n",
      "(2502, 1405)\n",
      "(2522, 1405)\n",
      "(2542, 1405)\n",
      "(2562, 1405)\n",
      "(2582, 1405)\n",
      "(2602, 1405)\n",
      "(2302, 1425)\n",
      "(2322, 1425)\n",
      "(2342, 1425)\n",
      "(2362, 1425)\n",
      "(2382, 1425)\n",
      "(2402, 1425)\n",
      "(2422, 1425)\n",
      "(2442, 1425)\n",
      "(2462, 1425)\n",
      "(2482, 1425)\n",
      "(2502, 1425)\n",
      "(2522, 1425)\n",
      "(2542, 1425)\n",
      "(2562, 1425)\n",
      "(2582, 1425)\n",
      "(2622, 1425)\n",
      "(2282, 1445)\n",
      "(2302, 1445)\n",
      "(2322, 1445)\n",
      "(2342, 1445)\n",
      "(2362, 1445)\n",
      "(2382, 1445)\n",
      "(2402, 1445)\n",
      "(2422, 1445)\n",
      "(2442, 1445)\n",
      "(2462, 1445)\n",
      "(2482, 1445)\n",
      "(2502, 1445)\n",
      "(2522, 1445)\n",
      "(2542, 1445)\n",
      "(2562, 1445)\n",
      "(2582, 1445)\n",
      "(2282, 1465)\n",
      "(2302, 1465)\n",
      "(2322, 1465)\n",
      "(2342, 1465)\n",
      "(2362, 1465)\n",
      "(2382, 1465)\n",
      "(2402, 1465)\n",
      "(2422, 1465)\n",
      "(2442, 1465)\n",
      "(2462, 1465)\n",
      "(2482, 1465)\n",
      "(2502, 1465)\n",
      "(2522, 1465)\n",
      "(2542, 1465)\n",
      "(2562, 1465)\n",
      "(2582, 1465)\n",
      "(2642, 1465)\n",
      "(2262, 1485)\n",
      "(2282, 1485)\n",
      "(2302, 1485)\n",
      "(2322, 1485)\n",
      "(2342, 1485)\n",
      "(2362, 1485)\n",
      "(2382, 1485)\n",
      "(2402, 1485)\n",
      "(2422, 1485)\n",
      "(2442, 1485)\n",
      "(2462, 1485)\n",
      "(2482, 1485)\n",
      "(2502, 1485)\n",
      "(2522, 1485)\n",
      "(2542, 1485)\n",
      "(2562, 1485)\n",
      "(2582, 1485)\n",
      "(2622, 1485)\n",
      "(2642, 1485)\n",
      "(2262, 1505)\n",
      "(2282, 1505)\n",
      "(2302, 1505)\n",
      "(2322, 1505)\n",
      "(2342, 1505)\n",
      "(2402, 1505)\n",
      "(2422, 1505)\n",
      "(2442, 1505)\n",
      "(2462, 1505)\n",
      "(2482, 1505)\n",
      "(2502, 1505)\n",
      "(2522, 1505)\n",
      "(2542, 1505)\n",
      "(2562, 1505)\n",
      "(2582, 1505)\n",
      "(2602, 1505)\n",
      "(2622, 1505)\n",
      "(2642, 1505)\n",
      "(2662, 1505)\n",
      "(2262, 1525)\n",
      "(2282, 1525)\n",
      "(2302, 1525)\n",
      "(2322, 1525)\n",
      "(2342, 1525)\n",
      "(2442, 1525)\n",
      "(2462, 1525)\n",
      "(2482, 1525)\n",
      "(2502, 1525)\n",
      "(2522, 1525)\n",
      "(2542, 1525)\n",
      "(2562, 1525)\n",
      "(2582, 1525)\n",
      "(2602, 1525)\n",
      "(2622, 1525)\n",
      "(2642, 1525)\n",
      "(2662, 1525)\n",
      "(2282, 1545)\n",
      "(2302, 1545)\n",
      "(2322, 1545)\n",
      "(2462, 1545)\n",
      "(2482, 1545)\n",
      "(2502, 1545)\n",
      "(2522, 1545)\n",
      "(2542, 1545)\n",
      "(2562, 1545)\n",
      "(2582, 1545)\n",
      "(2602, 1545)\n",
      "(2622, 1545)\n",
      "(2642, 1545)\n",
      "(2662, 1545)\n",
      "(2682, 1545)\n",
      "(2282, 1565)\n",
      "(2302, 1565)\n",
      "(2482, 1565)\n",
      "(2502, 1565)\n",
      "(2522, 1565)\n",
      "(2542, 1565)\n",
      "(2562, 1565)\n",
      "(2582, 1565)\n",
      "(2602, 1565)\n",
      "(2622, 1565)\n",
      "(2642, 1565)\n",
      "(2662, 1565)\n",
      "(2682, 1565)\n",
      "(2702, 1565)\n",
      "(2502, 1585)\n",
      "(2522, 1585)\n",
      "(2542, 1585)\n",
      "(2562, 1585)\n",
      "(2582, 1585)\n",
      "(2602, 1585)\n",
      "(2622, 1585)\n",
      "(2642, 1585)\n",
      "(2662, 1585)\n",
      "(2682, 1585)\n",
      "(2702, 1585)\n",
      "(2722, 1585)\n",
      "(2522, 1605)\n",
      "(2542, 1605)\n",
      "(2562, 1605)\n",
      "(2582, 1605)\n",
      "(2602, 1605)\n",
      "(2622, 1605)\n",
      "(2642, 1605)\n",
      "(2662, 1605)\n",
      "(2682, 1605)\n",
      "(2522, 1625)\n",
      "(2542, 1625)\n",
      "(2562, 1625)\n",
      "(2582, 1625)\n",
      "(2602, 1625)\n",
      "(2622, 1625)\n",
      "(2642, 1625)\n",
      "(2522, 1645)\n",
      "(2542, 1645)\n",
      "(2562, 1645)\n",
      "(2582, 1645)\n",
      "(2602, 1645)\n",
      "(2522, 1665)\n",
      "(2542, 1665)\n",
      "(2562, 1665)\n",
      "(2522, 1685)\n",
      "(2542, 1685)\n"
     ]
    }
   ],
   "source": [
    "add_layer(20, 0, \"Условные обозначения луга\")\n",
    "\n",
    "for i in range(int(extra_points[\"20\"][1] - int(extra_points[\"20\"][1]) % 5), int(extra_points[\"7\"][1]), 20):\n",
    "    for b in range(int(extra_points[\"4\"][0] - int(extra_points[\"4\"][1]) % 5), int(extra_points[\"15\"][0]), 20):\n",
    "        _d_point = geometry.Point(m_to_mm((b, i)))\n",
    "        if _plan_poly.contains(_d_point) and not _farm_poly.contains(_d_point) and not _fruit_garden_poly.contains(_d_point):\n",
    "            draw_meadow(m_to_mm((b, i)))\n"
   ],
   "metadata": {
    "collapsed": false
   }
  },
  {
   "cell_type": "code",
   "execution_count": 678,
   "outputs": [],
   "source": [
    "add_layer(21, 0, \"Условные обозначения фруктового сада\")\n",
    "\n",
    "for i in range(int(fruit_garden_points[2][1]), int(fruit_garden_points[0][1]), 5):\n",
    "    for b in range(int(fruit_garden_points[-1][0]), int(fruit_garden_points[1][0]), 5):\n",
    "        _d_point = geometry.Point(m_to_mm((b, i)))\n",
    "        if _fruit_garden_poly.contains(_d_point) and not _kg_poly.contains(_d_point):\n",
    "            iDocument2D.ksCircle(*m_to_mm((b, i)), 1000 ,2)"
   ],
   "metadata": {
    "collapsed": false
   }
  },
  {
   "cell_type": "code",
   "execution_count": 661,
   "outputs": [],
   "source": [],
   "metadata": {
    "collapsed": false
   }
  }
 ],
 "metadata": {
  "kernelspec": {
   "display_name": "Python 3",
   "language": "python",
   "name": "python3"
  },
  "language_info": {
   "codemirror_mode": {
    "name": "ipython",
    "version": 2
   },
   "file_extension": ".py",
   "mimetype": "text/x-python",
   "name": "python",
   "nbconvert_exporter": "python",
   "pygments_lexer": "ipython2",
   "version": "2.7.6"
  }
 },
 "nbformat": 4,
 "nbformat_minor": 0
}
