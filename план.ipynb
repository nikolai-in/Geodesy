{
 "cells": [
  {
   "cell_type": "markdown",
   "source": [
    "![https://www.pngmart.com/files/5/Spaghetti-Transparent-Background.png](https://www.pngmart.com/files/5/Spaghetti-Transparent-Background.png)"
   ],
   "metadata": {
    "collapsed": false
   }
  },
  {
   "cell_type": "code",
   "execution_count": null,
   "metadata": {
    "collapsed": true
   },
   "outputs": [],
   "source": [
    "import pandas as pd\n",
    "from math import *\n",
    "import numpy as np\n",
    "from scipy import interpolate\n",
    "\n",
    "# Импорт компосовской херни\n",
    "import pythoncom\n",
    "from win32com.client import Dispatch, gencache\n",
    "\n",
    "import LDefin2D\n",
    "import MiscellaneousHelpers as MH\n",
    "\n"
   ]
  },
  {
   "cell_type": "code",
   "execution_count": null,
   "outputs": [],
   "source": [
    "#  Подключим константы API Компас\n",
    "kompas6_constants = gencache.EnsureModule(\"{75C9F5D0-B5B8-4526-8681-9903C567D2ED}\", 0, 1, 0).constants\n",
    "kompas6_constants_3d = gencache.EnsureModule(\"{2CAF168C-7961-4B90-9DA2-701419BEEFE3}\", 0, 1, 0).constants\n",
    "\n",
    "#  Подключим описание интерфейсов API5\n",
    "kompas6_api5_module = gencache.EnsureModule(\"{0422828C-F174-495E-AC5D-D31014DBBE87}\", 0, 1, 0)\n",
    "kompas_object = kompas6_api5_module.KompasObject(\n",
    "    Dispatch(\"Kompas.Application.5\")._oleobj_.QueryInterface(kompas6_api5_module.KompasObject.CLSID,\n",
    "                                                             pythoncom.IID_IDispatch))\n",
    "MH.iKompasObject = kompas_object\n",
    "\n",
    "#  Подключим описание интерфейсов API7\n",
    "kompas_api7_module = gencache.EnsureModule(\"{69AC2981-37C0-4379-84FD-5DD2F3C0A520}\", 0, 1, 0)\n",
    "application = kompas_api7_module.IApplication(\n",
    "    Dispatch(\"Kompas.Application.7\")._oleobj_.QueryInterface(kompas_api7_module.IApplication.CLSID,\n",
    "                                                             pythoncom.IID_IDispatch))\n",
    "MH.iApplication = application\n",
    "\n",
    "documents = application.Documents\n",
    "#  Получим активный документ\n",
    "kompas_document = application.ActiveDocument\n",
    "kompas_document_2d = kompas_api7_module.IKompasDocument2D(kompas_document)\n",
    "iDocument2D = kompas_object.ActiveDocument2D()"
   ],
   "metadata": {
    "collapsed": false
   }
  },
  {
   "cell_type": "code",
   "execution_count": null,
   "outputs": [],
   "source": [
    "table_79 = pd.read_excel('Геодезия.xlsm', sheet_name='pandasPlan79')\n",
    "\n",
    "table_79"
   ],
   "metadata": {
    "collapsed": false
   }
  },
  {
   "cell_type": "code",
   "execution_count": null,
   "outputs": [],
   "source": [
    "table_10 = pd.read_excel('Геодезия.xlsm', sheet_name='pandasPlan10')\n",
    "\n",
    "table_10"
   ],
   "metadata": {
    "collapsed": false
   }
  },
  {
   "cell_type": "code",
   "execution_count": null,
   "outputs": [],
   "source": [
    "def add_layer(id: int, active: bool = True, name: str = None):\n",
    "    obj = iDocument2D.ksLayer(id)\n",
    "    iLayerParam = kompas6_api5_module.ksLayerParam(kompas_object.GetParamStruct(kompas6_constants.ko_LayerParam))\n",
    "    iLayerParam.Init()\n",
    "    if name:\n",
    "        iLayerParam.name = name\n",
    "    iLayerParam.state = int(active)\n",
    "    iDocument2D.ksSetObjParam(obj, iLayerParam, LDefin2D.ALLPARAM)\n",
    "\n",
    "\n",
    "def add_view(name: str, scale: float = 1, x=0, y=0):\n",
    "    iViewParam = kompas6_api5_module.ksViewParam(kompas_object.GetParamStruct(kompas6_constants.ko_ViewParam))\n",
    "    iViewParam.Init()\n",
    "    iViewParam.angle = 0\n",
    "    iViewParam.color = 0\n",
    "    iViewParam.name = name\n",
    "    iViewParam.scale_ = scale\n",
    "    iViewParam.state = 3\n",
    "    iViewParam.x = x\n",
    "    iViewParam.y = y\n",
    "    iDocument2D.ksCreateSheetView(iViewParam, 0)\n",
    "\n",
    "\n",
    "def add_text(text: str, x: float, y: float, angle: float = 0, font_size: float = 2.5, color = 0):\n",
    "    iParagraphParam = kompas6_api5_module.ksParagraphParam(\n",
    "        kompas_object.GetParamStruct(kompas6_constants.ko_ParagraphParam))\n",
    "    iParagraphParam.Init()\n",
    "    iParagraphParam.x = x\n",
    "    iParagraphParam.y = y\n",
    "    iParagraphParam.ang = angle\n",
    "    iParagraphParam.height = 3.55\n",
    "    iParagraphParam.width = 4\n",
    "    iParagraphParam.hFormat = 0\n",
    "    iParagraphParam.vFormat = 0\n",
    "    iParagraphParam.style = 1\n",
    "    iDocument2D.ksParagraph(iParagraphParam)\n",
    "\n",
    "    iTextLineParam = kompas6_api5_module.ksTextLineParam(\n",
    "        kompas_object.GetParamStruct(kompas6_constants.ko_TextLineParam))\n",
    "    iTextLineParam.Init()\n",
    "    iTextLineParam.style = 1\n",
    "    iTextItemArray = kompas_object.GetDynamicArray(LDefin2D.TEXT_ITEM_ARR)\n",
    "    iTextItemParam = kompas6_api5_module.ksTextItemParam(\n",
    "        kompas_object.GetParamStruct(kompas6_constants.ko_TextItemParam))\n",
    "    iTextItemParam.Init()\n",
    "    iTextItemParam.iSNumb = 0\n",
    "    iTextItemParam.s = text\n",
    "    iTextItemParam.type = 0\n",
    "    iTextItemFont = kompas6_api5_module.ksTextItemFont(iTextItemParam.GetItemFont())\n",
    "    iTextItemFont.Init()\n",
    "    iTextItemFont.bitVector = 4096\n",
    "    iTextItemFont.color = color\n",
    "    iTextItemFont.fontName = \"GOST type A\"\n",
    "    iTextItemFont.height = font_size\n",
    "    iTextItemFont.ksu = 1\n",
    "    iTextItemArray.ksAddArrayItem(-1, iTextItemParam)\n",
    "    iTextLineParam.SetTextItemArr(iTextItemArray)\n",
    "\n",
    "    iDocument2D.ksTextLine(iTextLineParam)\n",
    "    obj = iDocument2D.ksEndObj()\n",
    "\n"
   ],
   "metadata": {
    "collapsed": false
   }
  },
  {
   "cell_type": "code",
   "execution_count": null,
   "outputs": [],
   "source": [
    "ONE_TO_SCALE = 2000\n",
    "\n",
    "add_view(\"План\", 1/ONE_TO_SCALE)\n",
    "add_layer(1,True,\"Основные Точки\")\n",
    "\n",
    "for i, row in table_79.iterrows():\n",
    "    # X и Y перевёрнуты\n",
    "    obj = iDocument2D.ksCircle(row[\"Y\"] * 1000, row[\"X\"] * 1000, 1000, 1)\n",
    "    add_text(str(row[\"№№\"]) + \" (\" + str(\"{:1.2f}\".format(row[\"H\"])).replace(\".\", \",\") + \")\", row[\"Y\"] * 1000 - 15000, row[\"X\"] * 1000 - 7000)\n"
   ],
   "metadata": {
    "collapsed": false
   }
  },
  {
   "cell_type": "code",
   "execution_count": null,
   "outputs": [],
   "source": [
    "# https://stackoverflow.com/questions/7586063/how-to-calculate-the-angle-between-a-line-and-the-horizontal-axis\n",
    "def angle_trunc(a):\n",
    "    while a < 0.0:\n",
    "        a += pi * 2\n",
    "    return a\n",
    "\n",
    "def getAngleBetweenPoints(x_orig, y_orig, x_landmark, y_landmark):\n",
    "    deltaY = y_landmark - y_orig\n",
    "    deltaX = x_landmark - x_orig\n",
    "    return angle_trunc(atan2(deltaY, deltaX))"
   ],
   "metadata": {
    "collapsed": false
   }
  },
  {
   "cell_type": "code",
   "execution_count": null,
   "outputs": [],
   "source": [
    "table_10"
   ],
   "metadata": {
    "collapsed": false
   }
  },
  {
   "cell_type": "code",
   "execution_count": null,
   "outputs": [],
   "source": [
    "add_layer(2,True,\"Побочные Точки\")\n",
    "\n",
    "extra_points = {}\n",
    "\n",
    "for i, row in table_10.iterrows():\n",
    "    if \" - \" in str(row[\"№№\"]):\n",
    "        origin_label, dest_label = row[\"№№\"].split(\" - \")\n",
    "\n",
    "        if origin_label.isdigit():\n",
    "            origin_label = int(origin_label)\n",
    "\n",
    "        if dest_label.isdigit():\n",
    "            dest_label = int(dest_label)\n",
    "\n",
    "        origin = (table_79.loc[table_79['№№'] == origin_label][\"Y\"].values[0], table_79.loc[table_79['№№'] == origin_label][\"X\"].values[0])\n",
    "\n",
    "        _dest = (table_79.loc[table_79['№№'] == dest_label][\"Y\"].values[0], table_79.loc[table_79['№№'] == dest_label][\"X\"].values[0])\n",
    "\n",
    "        angle = np.rad2deg(getAngleBetweenPoints( origin[0], origin[1], _dest[0], _dest[1]))\n",
    "        _i_am_shit_at_coding = list(origin)\n",
    "        _i_am_shit_at_coding.append(table_79.loc[table_79['№№'] == origin_label][\"H\"].values[0])\n",
    "        extra_points.update({str(origin_label): _i_am_shit_at_coding})\n",
    "        continue\n",
    "    else:\n",
    "        if not origin:\n",
    "            continue\n",
    "    _d = row[\"Отсчет по дальномеру kl, м\"]\n",
    "    _alpha = row[\"Отсчет по гориз. Кругу\"]\n",
    "    xx = origin[0] + (_d * cos(np.radians(angle - _alpha)))\n",
    "    yy = origin[1] + (_d * sin(np.radians(angle - _alpha)))\n",
    "    obj = iDocument2D.ksLineSeg(origin[0] * 1000, origin[1] * 1000, xx * 1000,yy * 1000, 6)\n",
    "\n",
    "    add_text(str(row[\"№№\"]) + \" (\" + str(\"{:1.3f}\".format(row[\"Отметки реечн. точек Hр.т., м\"])).replace(\".\", \",\") + \")\", xx * 1000 - 10000, yy * 1000 - 8000)\n",
    "\n",
    "\n",
    "    extra_points.update({str(row[\"№№\"]): [xx, yy, row[\"Отметки реечн. точек Hр.т., м\"]]})\n",
    "\n"
   ],
   "metadata": {
    "collapsed": false
   }
  },
  {
   "cell_type": "code",
   "execution_count": null,
   "outputs": [],
   "source": [
    "interpolated_points = {}"
   ],
   "metadata": {
    "collapsed": false
   }
  },
  {
   "cell_type": "code",
   "execution_count": null,
   "outputs": [],
   "source": [
    "# CON_P41 = \"1,2,4,5,21\".split(\",\")\n",
    "# CON_1 = [\"21\"]\n",
    "# CON_5 =[\"4\"]\n",
    "\n",
    "add_layer(3,True,\"Точки интерполяции\")\n",
    "\n",
    "CON_111 = \"5,6,7,8,9,112,ПЗ41\".split(\",\")\n",
    "\n",
    "center_point = np.array(extra_points[\"111\"])\n",
    "for point in CON_111:\n",
    "    point = np.array(extra_points[point])\n",
    "\n",
    "    if center_point[2] > point[2]:\n",
    "        _coordinate_dif = center_point[:2] - point[:2]\n",
    "        xia = [center_point[2], point[2]]\n",
    "        hight_dif = range(int(ceil(point[2])), int(round(center_point[2])))\n",
    "    else:\n",
    "        _coordinate_dif = point[:2] - center_point[:2]\n",
    "        xia = [point[2], center_point[2]]\n",
    "        hight_dif = range(int(ceil(center_point[2])), int(round(point[2])))\n",
    "\n",
    "    length = round(np.sqrt(np.sum(np.power(_coordinate_dif,2))))\n",
    "    yia = [0, length]\n",
    "\n",
    "    _alpha = np.rad2deg(getAngleBetweenPoints( center_point[0], center_point[1], point[0], point[1]))\n",
    "\n",
    "    x = [0, length]\n",
    "    f = interpolate.interp1d(xia, yia)\n",
    "\n",
    "    for i in hight_dif:\n",
    "        _d = f(i)\n",
    "        xx = center_point[0] * 1000 + (_d * 1000 * cos(np.radians(_alpha)))\n",
    "        yy = center_point[1] * 1000 + (_d * 1000 * sin(np.radians(_alpha)))\n",
    "        obj = iDocument2D.ksPoint(xx  ,yy , 0)\n",
    "        add_text(i, xx - 10000, yy - 8000, color=9410565)\n",
    "\n",
    "        if i in interpolated_points:\n",
    "            interpolated_points[i].append((xx, yy))\n",
    "        else:\n",
    "            interpolated_points.update({i: [(xx, yy)]})\n"
   ],
   "metadata": {
    "collapsed": false
   }
  },
  {
   "cell_type": "code",
   "execution_count": null,
   "outputs": [],
   "source": [
    "x = [extra_points[p][0] for p in extra_points]\n",
    "y = [extra_points[p][1] for p in extra_points]\n",
    "centroid = (sum(x) / len(extra_points), sum(y) / len(extra_points))\n",
    "obj = iDocument2D.ksPoint(*(cord * 1000 for cord in centroid), 0)\n",
    "\n",
    "current_view = kompas_document_2d.ViewsAndLayersManager.Views.ActiveView\n",
    "current_view.X = 594/2 - centroid[0] / 2\n",
    "current_view.Y = 420/2 - centroid[1] / 2\n",
    "current_view.Update()\n"
   ],
   "metadata": {
    "collapsed": false
   }
  },
  {
   "cell_type": "code",
   "execution_count": null,
   "outputs": [],
   "source": [
    "def interpolate_line(first_point: str, second_point: str, interpolated_points: dict):\n",
    "\n",
    "    _first_point = np.array(extra_points[str(first_point)])\n",
    "    _second_point = np.array(extra_points[str(second_point)])\n",
    "\n",
    "    _coordinate_dif = _first_point[:2] - _second_point[:2]\n",
    "\n",
    "    _length = round(np.sqrt(np.sum(np.power(_coordinate_dif, 2))))\n",
    "\n",
    "    _yia = [0, _length]\n",
    "    _xia = [ _first_point[2], _second_point[2]]\n",
    "\n",
    "    _x = [0, _length]\n",
    "    _f = interpolate.interp1d(_xia, _yia)\n",
    "\n",
    "    _alpha = np.rad2deg(getAngleBetweenPoints(_first_point[0], _first_point[1], _second_point[0], _second_point[1]))\n",
    "\n",
    "    # if np.diff(sorted([int(round(_second_point[2])), int(ceil(_first_point[2]))])) <= 1:\n",
    "    #     return\n",
    "\n",
    "    _hight_dif_sorted = sorted([_second_point[2], _first_point[2]])\n",
    "\n",
    "    _height_dif = range(int(ceil(_hight_dif_sorted[0])), int(_hight_dif_sorted[1]) + 1)\n",
    "\n",
    "    print(f\"Points: {first_point, second_point}\\n Range: {_height_dif}\\n {_hight_dif_sorted}\\n\")\n",
    "\n",
    "    for i in _height_dif:\n",
    "        _d = _f(i)\n",
    "        xx = _first_point[0] * 1000 + (_d * 1000 * cos(np.radians(_alpha)))\n",
    "        yy = _first_point[1] * 1000 + (_d * 1000 * sin(np.radians(_alpha)))\n",
    "        obj = iDocument2D.ksPoint(xx, yy, 0)\n",
    "        add_text(f\"{i}\", xx - 10000, yy - 8000, color=14417715)\n",
    "\n",
    "        if i in interpolated_points:\n",
    "            interpolated_points[i].append((xx, yy))\n",
    "        else:\n",
    "            interpolated_points.update({i: [(xx, yy)]})\n",
    "        print(f\"{i}: {xx}, {yy}\")\n",
    "    print(\"\\n\")\n",
    "\n",
    "    return interpolated_points"
   ],
   "metadata": {
    "collapsed": false
   }
  },
  {
   "cell_type": "code",
   "execution_count": null,
   "outputs": [],
   "source": [
    "# Интерполяция между 7 и 8 точками\n",
    "\n",
    "# _seventh = np.array(extra_points[\"7\"])\n",
    "# _eighth = np.array(extra_points[\"8\"])\n",
    "#\n",
    "# _coordinate_dif = _seventh[:2] - _eighth[:2]\n",
    "#\n",
    "# _length = round(np.sqrt(np.sum(np.power(_coordinate_dif,2))))\n",
    "#\n",
    "# _yia = [0, _length]\n",
    "# _xia = [_seventh[2], _eighth[2]]\n",
    "#\n",
    "# _x = [0, _length]\n",
    "# _f = interpolate.interp1d(_xia, _yia)\n",
    "#\n",
    "# _alpha = np.rad2deg(getAngleBetweenPoints( _seventh[0], _seventh[1], _eighth[0], _eighth[1]))\n",
    "#\n",
    "# _height_dif = range(int(round(_eighth[2])), int(ceil(_seventh[2])))\n",
    "#\n",
    "# print(_height_dif)\n",
    "#\n",
    "# for i in _height_dif:\n",
    "#     print(i)\n",
    "#     _d = _f(i)\n",
    "#     xx = _seventh[0] * 1000 + (_d * 1000 * cos(np.radians(_alpha)))\n",
    "#     yy = _seventh[1] * 1000 + (_d * 1000 * sin(np.radians(_alpha)))\n",
    "#     obj = iDocument2D.ksPoint(xx  ,yy , 0)\n",
    "#     add_text(f\"{i}\", xx - 10000, yy - 8000, color=16711680)\n",
    "#\n",
    "#     if i in interpolated_points:\n",
    "#         interpolated_points[i].append((xx, yy))\n",
    "#     else:\n",
    "#         interpolated_points.update({i: [(xx, yy)]})\n",
    "\n",
    "interpolate_line(\"7\", \"8\", interpolated_points)\n"
   ],
   "metadata": {
    "collapsed": false
   }
  },
  {
   "cell_type": "code",
   "execution_count": null,
   "outputs": [],
   "source": [
    "add_layer(4,True,\"Кривые интерполяции пашни\")\n",
    "\n",
    "_max_num_of_points = max([len(interpolated_points[height_points]) for height_points in interpolated_points])\n",
    "\n",
    "for height in interpolated_points:\n",
    "\n",
    "    if len(interpolated_points[height]) <= 3:\n",
    "        continue\n",
    "\n",
    "    cent=(sum([p[0] for p in interpolated_points[height]])/len(interpolated_points[height]),sum([p[1] for p in interpolated_points[height]])/len(interpolated_points[height]))\n",
    "    interpolated_points[height].sort( key=lambda p: atan2(p[1]-cent[1],p[0]-cent[0]))\n",
    "\n",
    "    obj = iDocument2D.ksBezier(len(interpolated_points[height]) == _max_num_of_points, 1)\n",
    "    for point in interpolated_points[height]:\n",
    "        dot = iDocument2D.ksPoint(*point, 0)\n",
    "    iDocument2D.ksEndObj()"
   ],
   "metadata": {
    "collapsed": false
   }
  },
  {
   "cell_type": "code",
   "execution_count": null,
   "outputs": [],
   "source": [
    "add_layer(5,True,\"Точки интерполяции берега\")\n",
    "\n",
    "interpolated_points_shore = {}\n",
    "\n",
    "# ПЗ 41\n",
    "interpolate_line(\"4\", \"5\", interpolated_points_shore)\n",
    "interpolate_line(\"ПЗ41\", \"1\", interpolated_points_shore)\n",
    "interpolate_line(\"ПЗ41\", \"2\", interpolated_points_shore)\n",
    "interpolate_line(\"ПЗ41\", \"4\", interpolated_points_shore)\n",
    "interpolate_line(\"ПЗ41\", \"5\", interpolated_points_shore)\n",
    "interpolate_line(\"ПЗ41\", \"21\", interpolated_points_shore)\n",
    "\n",
    "# 112\n",
    "# interpolate_line(\"8\", \"10\", interpolated_points_shore)\n",
    "# interpolate_line(\"112\", \"10\", interpolated_points_shore)\n",
    "# interpolate_line(\"112\", \"13\", interpolated_points_shore)\n",
    "# interpolate_line(\"9\", \"12\", interpolated_points_shore)\n",
    "interpolate_line(\"12\", \"13\", interpolated_points_shore)\n",
    "# interpolate_line(\"13\", \"1\", interpolated_points_shore)\n",
    "interpolate_line(\"1\", \"112\", interpolated_points_shore)\n",
    "\n",
    "# 113\n",
    "interpolate_line(\"10\", \"14\", interpolated_points_shore)\n",
    "# interpolate_line(\"113\", \"15\", interpolated_points_shore)\n",
    "# interpolate_line(\"17\", \"113\", interpolated_points_shore)\n",
    "interpolate_line(\"16\", \"113\", interpolated_points_shore)\n",
    "# interpolate_line(\"17\", \"112\", interpolated_points_shore)\n",
    "# interpolate_line(\"17\", \"14\", interpolated_points_shore)\n",
    "\n",
    "# ПЗ 42\n",
    "interpolate_line(\"ПЗ42\", \"20\", interpolated_points_shore)\n",
    "interpolate_line(\"ПЗ42\", \"18\", interpolated_points_shore)\n",
    "interpolate_line(\"23\", \"22\", interpolated_points_shore)\n",
    "interpolate_line(\"22\", \"21\", interpolated_points_shore)\n",
    "interpolate_line(\"20\", \"21\", interpolated_points_shore)\n",
    "interpolate_line(\"1\", \"21\", interpolated_points_shore)\n",
    "interpolate_line(\"21\", \"21\", interpolated_points_shore)\n"
   ],
   "metadata": {
    "collapsed": false
   }
  },
  {
   "cell_type": "code",
   "execution_count": null,
   "outputs": [],
   "source": [
    "add_layer(6,True,\"Кривые интерполяции берега\")\n",
    "\n",
    "for height in interpolated_points_shore:\n",
    "\n",
    "    if len(interpolated_points_shore[height]) < 3:\n",
    "        continue\n",
    "\n",
    "    interpolated_points_shore[height].sort()\n",
    "\n",
    "    obj = iDocument2D.ksBezier(False, 1)\n",
    "    for point in interpolated_points_shore[height]:\n",
    "        dot = iDocument2D.ksPoint(*point, 0)\n",
    "    iDocument2D.ksEndObj()"
   ],
   "metadata": {
    "collapsed": false
   }
  },
  {
   "cell_type": "code",
   "execution_count": null,
   "outputs": [],
   "source": [
    "# Горизонталь вокруг ФС\n",
    "add_layer(7,True,\"Точки интерполяции ФС\")\n",
    "\n",
    "interpolated_points_fruit_garden = {}\n",
    "\n",
    "_interpolation_21_23 = interpolate_line(\"21\", \"23\", {})\n",
    "_last_point_between_21_23 = list(_interpolation_21_23.keys())[-1]\n",
    "\n",
    "interpolated_points_fruit_garden.update({_last_point_between_21_23: _interpolation_21_23[_last_point_between_21_23]})\n",
    "\n",
    "_interpolation_112_17 = interpolate_line(\"112\", \"17\", {})\n",
    "if _last_point_between_21_23 in _interpolation_112_17:\n",
    "    interpolated_points_fruit_garden[_last_point_between_21_23].append(*_interpolation_112_17[_last_point_between_21_23])\n",
    "\n",
    "_interpolation_14_17 = interpolate_line(\"14\", \"17\", {})\n",
    "interpolated_points_fruit_garden[_last_point_between_21_23].append(*_interpolation_14_17[_last_point_between_21_23])\n",
    "\n",
    "_interpolation_15_113 = interpolate_line(\"15\", \"113\", {})\n",
    "interpolated_points_fruit_garden[_last_point_between_21_23].append(*_interpolation_15_113[_last_point_between_21_23])\n",
    "\n",
    "_interpolation_p42_18 = interpolate_line(\"ПЗ42\", \"18\", {})\n",
    "interpolated_points_fruit_garden[_last_point_between_21_23].insert(0, *_interpolation_p42_18[_last_point_between_21_23])\n"
   ],
   "metadata": {
    "collapsed": false
   }
  },
  {
   "cell_type": "code",
   "execution_count": null,
   "outputs": [],
   "source": [
    "add_layer(8,True,\"Кривые интерполяции ФС\")\n",
    "\n",
    "obj = iDocument2D.ksBezier(False, 1)\n",
    "for point in interpolated_points_fruit_garden[_last_point_between_21_23]:\n",
    "    dot = iDocument2D.ksPoint(*point, 0)\n",
    "iDocument2D.ksEndObj()"
   ],
   "metadata": {
    "collapsed": false
   }
  },
  {
   "cell_type": "code",
   "execution_count": null,
   "outputs": [],
   "source": [
    "# Горизонталь за ФС\n",
    "add_layer(9,True,\"Точки интерполяции за ФС\")\n",
    "\n",
    "interpolated_points_behind_fruit_garden = {}\n",
    "\n",
    "_interpolation_112_10 = interpolate_line(\"112\", \"10\", {})\n",
    "_last_point_between_112_10 = list(_interpolation_112_10.keys())[-1]\n",
    "\n",
    "interpolated_points_behind_fruit_garden.update({_last_point_between_112_10: _interpolation_112_10[_last_point_between_112_10]})\n",
    "\n",
    "_interpolation_14_17 = interpolate_line(\"14\", \"17\", {})\n",
    "interpolated_points_behind_fruit_garden[_last_point_between_112_10].append(*_interpolation_14_17[_last_point_between_112_10])\n",
    "\n",
    "_interpolation_15_113 = interpolate_line(\"15\", \"113\", {})\n",
    "if _last_point_between_112_10 in _interpolation_15_113:\n",
    "    interpolated_points_behind_fruit_garden[_last_point_between_112_10].append(*_interpolation_15_113[_last_point_between_112_10])\n",
    "\n",
    "_interpolation_8_10 = interpolate_line(\"8\", \"10\", {})\n",
    "interpolated_points_behind_fruit_garden[_last_point_between_112_10].insert(0, *_interpolation_8_10[_last_point_between_112_10])\n"
   ],
   "metadata": {
    "collapsed": false
   }
  },
  {
   "cell_type": "code",
   "execution_count": null,
   "outputs": [],
   "source": [
    "add_layer(10,True,\"Кривые интерполяции за ФС\")\n",
    "\n",
    "obj = iDocument2D.ksBezier(False, 1)\n",
    "for point in interpolated_points_behind_fruit_garden[_last_point_between_112_10]:\n",
    "    dot = iDocument2D.ksPoint(*point, 0)\n",
    "iDocument2D.ksEndObj()"
   ],
   "metadata": {
    "collapsed": false
   }
  },
  {
   "cell_type": "code",
   "execution_count": null,
   "outputs": [],
   "source": [
    "# Соединить основные границы\n",
    "\n",
    "add_layer(10,True,\"Левая граница\")\n",
    "\n",
    "_left_border = \"4,5,6,7\".split(sep=\",\")\n",
    "\n",
    "for i in range(len(_left_border)-1):\n",
    "    # print(f\"{ _left_border[i]}: {extra_points[ _left_border[i]]}\\t{ _left_border[i+1]}: {extra_points[ _left_border[i+1]]}\")\n",
    "    obj = iDocument2D.ksLineSeg(*[i * 1000 for i in (*extra_points[ _left_border[i]][:2], *extra_points[ _left_border[i+1]][:2])], 4)"
   ],
   "metadata": {
    "collapsed": false
   }
  },
  {
   "cell_type": "code",
   "execution_count": 1116,
   "outputs": [],
   "source": [
    "add_layer(11,True,\"Верхняя граница\")\n",
    "\n",
    "_top_border = \"7,8,10,14,15\".split(sep=\",\")\n",
    "\n",
    "for i in range(len(_top_border)-1):\n",
    "    # print(f\"{ _top_border[i]}: {extra_points[ _top_border[i]]}\\t{ _top_border[i+1]}: {extra_points[ _top_border[i+1]]}\")\n",
    "    obj = iDocument2D.ksLineSeg(*[i * 1000 for i in (*extra_points[ _top_border[i]][:2], *extra_points[ _top_border[i+1]][:2])], 1)"
   ],
   "metadata": {
    "collapsed": false
   }
  },
  {
   "cell_type": "code",
   "execution_count": null,
   "outputs": [],
   "source": [
    "add_layer(12,True,\"Граница пашни\")\n",
    "\n",
    "_p_border = \"5,ПЗ41,9,112,8\".split(sep=\",\")\n",
    "\n",
    "for i in range(len(_p_border)-1):\n",
    "    # print(f\"{ _p_border[i]}: {extra_points[ _p_border[i]]}\\t{ _p_border[i+1]}: {extra_points[ _p_border[i+1]]}\")\n",
    "    obj = iDocument2D.ksLineSeg(*[i * 1000 for i in (*extra_points[ _p_border[i]][:2], *extra_points[ _p_border[i+1]][:2])], 4)"
   ],
   "metadata": {
    "collapsed": false
   }
  },
  {
   "cell_type": "code",
   "execution_count": null,
   "outputs": [],
   "source": [
    "add_layer(13,True,\"Река\")\n",
    "\n",
    "_river_border = \"4,2,21,20\".split(sep=\",\")\n",
    "\n",
    "for i in range(len(_river_border)-1):\n",
    "    # print(f\"{ _river_border[i]}: {extra_points[ _river_border[i]]}\\t{ _river_border[i+1]}: {extra_points[ _river_border[i+1]]}\")\n",
    "    obj = iDocument2D.ksLineSeg(*[i * 1000 for i in (*extra_points[ _river_border[i]][:2], *extra_points[ _river_border[i+1]][:2])], 1)\n",
    "\n",
    "# вторая сторона реки\n",
    "\n",
    "_alpha = np.rad2deg(getAngleBetweenPoints(*extra_points[\"4\"][:2], *extra_points[\"3\"][:2]))\n",
    "\n",
    "_second_shore = []\n",
    "_d = 32\n",
    "for i in range(len(_river_border)):\n",
    "    # obj = iDocument2D.ksLineSeg(*[i * 1000 for i in tuple(map(lambda i, j: i - j, (*extra_points[ _river_border[i]][:2], *extra_points[ _river_border[i+1]][:2]), (20,20,20,20)))], 1)\n",
    "\n",
    "    xx = extra_points[ _river_border[i]][0] * 1000 + (_d * 1000 * cos(np.radians(_alpha)))\n",
    "    yy = extra_points[ _river_border[i]][1] * 1000 + (_d * 1000 * sin(np.radians(_alpha)))\n",
    "    _second_shore.append((xx, yy))\n",
    "\n",
    "for i in range(len(_second_shore) - 1):\n",
    "    if i != len(_second_shore) - 2:\n",
    "        obj = iDocument2D.ksLineSeg(*_second_shore[i], *_second_shore[i+1], 1)\n",
    "    else:\n",
    "        obj = iDocument2D.ksLineSeg(*_second_shore[i], *(p * 1000 for p in extra_points[\"19\"][:2]), 1)\n"
   ],
   "metadata": {
    "collapsed": false
   }
  },
  {
   "cell_type": "code",
   "execution_count": 1122,
   "outputs": [],
   "source": [
    "# Автодорога\n",
    "# как же я заебався\n",
    "\n",
    "add_layer(14,True,\"Автодорога\")\n",
    "\n",
    "_alpha = np.rad2deg(getAngleBetweenPoints(*extra_points[\"6\"][:2], *extra_points[\"7\"][:2]))\n",
    "\n",
    "_autobahn = []\n",
    "_d = 10\n",
    "for i in range(len(_top_border)):\n",
    "\n",
    "    xx = extra_points[ _top_border[i]][0] * 1000 + (_d * 1000 * cos(np.radians(_alpha)))\n",
    "    yy = extra_points[ _top_border[i]][1] * 1000 + (_d * 1000 * sin(np.radians(_alpha)))\n",
    "    _autobahn.append((xx, yy))\n",
    "\n",
    "for i in range(len(_autobahn) - 1):\n",
    "    obj = iDocument2D.ksLineSeg(*_autobahn[i], *_autobahn[i+1], 4)\n"
   ],
   "metadata": {
    "collapsed": false
   }
  }
 ],
 "metadata": {
  "kernelspec": {
   "display_name": "Python 3",
   "language": "python",
   "name": "python3"
  },
  "language_info": {
   "codemirror_mode": {
    "name": "ipython",
    "version": 2
   },
   "file_extension": ".py",
   "mimetype": "text/x-python",
   "name": "python",
   "nbconvert_exporter": "python",
   "pygments_lexer": "ipython2",
   "version": "2.7.6"
  }
 },
 "nbformat": 4,
 "nbformat_minor": 0
}
