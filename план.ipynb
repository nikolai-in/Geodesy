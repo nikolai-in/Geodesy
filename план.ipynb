{
 "cells": [
  {
   "cell_type": "markdown",
   "source": [
    "![https://www.pngmart.com/files/5/Spaghetti-Transparent-Background.png](https://www.pngmart.com/files/5/Spaghetti-Transparent-Background.png)"
   ],
   "metadata": {
    "collapsed": false
   }
  },
  {
   "cell_type": "code",
   "execution_count": 654,
   "metadata": {
    "collapsed": true
   },
   "outputs": [],
   "source": [
    "import pandas as pd\n",
    "from math import *\n",
    "import numpy as np\n",
    "from scipy import interpolate\n",
    "\n",
    "# Импорт компосовской херни\n",
    "import pythoncom\n",
    "from win32com.client import Dispatch, gencache\n",
    "\n",
    "import LDefin2D\n",
    "import MiscellaneousHelpers as MH\n",
    "\n"
   ]
  },
  {
   "cell_type": "code",
   "execution_count": 655,
   "outputs": [],
   "source": [
    "#  Подключим константы API Компас\n",
    "kompas6_constants = gencache.EnsureModule(\"{75C9F5D0-B5B8-4526-8681-9903C567D2ED}\", 0, 1, 0).constants\n",
    "kompas6_constants_3d = gencache.EnsureModule(\"{2CAF168C-7961-4B90-9DA2-701419BEEFE3}\", 0, 1, 0).constants\n",
    "\n",
    "#  Подключим описание интерфейсов API5\n",
    "kompas6_api5_module = gencache.EnsureModule(\"{0422828C-F174-495E-AC5D-D31014DBBE87}\", 0, 1, 0)\n",
    "kompas_object = kompas6_api5_module.KompasObject(\n",
    "    Dispatch(\"Kompas.Application.5\")._oleobj_.QueryInterface(kompas6_api5_module.KompasObject.CLSID,\n",
    "                                                             pythoncom.IID_IDispatch))\n",
    "MH.iKompasObject = kompas_object\n",
    "\n",
    "#  Подключим описание интерфейсов API7\n",
    "kompas_api7_module = gencache.EnsureModule(\"{69AC2981-37C0-4379-84FD-5DD2F3C0A520}\", 0, 1, 0)\n",
    "application = kompas_api7_module.IApplication(\n",
    "    Dispatch(\"Kompas.Application.7\")._oleobj_.QueryInterface(kompas_api7_module.IApplication.CLSID,\n",
    "                                                             pythoncom.IID_IDispatch))\n",
    "MH.iApplication = application\n",
    "\n",
    "documents = application.Documents\n",
    "#  Получим активный документ\n",
    "kompas_document = application.ActiveDocument\n",
    "kompas_document_2d = kompas_api7_module.IKompasDocument2D(kompas_document)\n",
    "iDocument2D = kompas_object.ActiveDocument2D()"
   ],
   "metadata": {
    "collapsed": false
   }
  },
  {
   "cell_type": "code",
   "execution_count": 656,
   "outputs": [
    {
     "data": {
      "text/plain": "     №№            X            Y           H\n0  ПЗ41  1461.310000  2370.570000  132.240000\n1   111  1626.253069  2371.784960  136.588469\n2   112  1594.848907  2496.474264  132.671694\n3   113  1542.897439  2664.448824  133.288756\n4  ПЗ42  1336.480000  2587.050000  131.590000",
      "text/html": "<div>\n<style scoped>\n    .dataframe tbody tr th:only-of-type {\n        vertical-align: middle;\n    }\n\n    .dataframe tbody tr th {\n        vertical-align: top;\n    }\n\n    .dataframe thead th {\n        text-align: right;\n    }\n</style>\n<table border=\"1\" class=\"dataframe\">\n  <thead>\n    <tr style=\"text-align: right;\">\n      <th></th>\n      <th>№№</th>\n      <th>X</th>\n      <th>Y</th>\n      <th>H</th>\n    </tr>\n  </thead>\n  <tbody>\n    <tr>\n      <th>0</th>\n      <td>ПЗ41</td>\n      <td>1461.310000</td>\n      <td>2370.570000</td>\n      <td>132.240000</td>\n    </tr>\n    <tr>\n      <th>1</th>\n      <td>111</td>\n      <td>1626.253069</td>\n      <td>2371.784960</td>\n      <td>136.588469</td>\n    </tr>\n    <tr>\n      <th>2</th>\n      <td>112</td>\n      <td>1594.848907</td>\n      <td>2496.474264</td>\n      <td>132.671694</td>\n    </tr>\n    <tr>\n      <th>3</th>\n      <td>113</td>\n      <td>1542.897439</td>\n      <td>2664.448824</td>\n      <td>133.288756</td>\n    </tr>\n    <tr>\n      <th>4</th>\n      <td>ПЗ42</td>\n      <td>1336.480000</td>\n      <td>2587.050000</td>\n      <td>131.590000</td>\n    </tr>\n  </tbody>\n</table>\n</div>"
     },
     "execution_count": 656,
     "metadata": {},
     "output_type": "execute_result"
    }
   ],
   "source": [
    "table_79 = pd.read_excel('Геодезия.xlsm', sheet_name='pandasPlan79')\n",
    "\n",
    "table_79"
   ],
   "metadata": {
    "collapsed": false
   }
  },
  {
   "cell_type": "code",
   "execution_count": 657,
   "outputs": [
    {
     "data": {
      "text/plain": "             №№  Отсчет по дальномеру kl, м  Отсчет по гориз. Кругу  \\\n0   ПЗ41 - ПЗ42                         NaN                     NaN   \n1             1                        88.0               12.033333   \n2             2                       111.0               78.183333   \n3             3                       155.0              136.400000   \n4             4                       132.0              144.916667   \n5             5                       141.0              195.450000   \n6    111 - ПЗ41                         NaN                     NaN   \n7             6                        94.0              125.416667   \n8             7                       131.0              181.350000   \n9             8                       128.0              231.250000   \n10            9                       124.0              337.600000   \n11    112 - 111                         NaN                     NaN   \n12           10                        87.0              104.266667   \n13           11                       132.0              253.150000   \n14           12                       127.0              277.800000   \n15           13                        53.0              279.666667   \n16    113 - 112                         NaN                     NaN   \n17           14                       114.0               46.983333   \n18           15                        82.0              101.450000   \n19           16                        84.5              265.416667   \n20           17                        81.5              317.433333   \n21   ПЗ42 - 113                         NaN                     NaN   \n22           18                        54.0               12.950000   \n23           19                       123.0              178.016667   \n24           20                        90.0              178.550000   \n25           21                       148.0              234.933333   \n26           22                        76.5              275.850000   \n27           23                        96.0              334.766667   \n\n    Отметки реечн. точек Hр.т., м  \n0                             NaN  \n1                      129.550000  \n2                      128.540000  \n3                      128.950000  \n4                      128.910000  \n5                      132.320000  \n6                             NaN  \n7                      133.638469  \n8                      133.928469  \n9                      132.538469  \n10                     132.438469  \n11                            NaN  \n12                     131.861694  \n13                     131.671694  \n14                     130.681694  \n15                     132.181694  \n16                            NaN  \n17                     131.598756  \n18                     131.928756  \n19                     133.778756  \n20                     133.688756  \n21                            NaN  \n22                     133.290000  \n23                     127.870000  \n24                     127.900000  \n25                     128.190000  \n26                     131.190000  \n27                     133.290000  ",
      "text/html": "<div>\n<style scoped>\n    .dataframe tbody tr th:only-of-type {\n        vertical-align: middle;\n    }\n\n    .dataframe tbody tr th {\n        vertical-align: top;\n    }\n\n    .dataframe thead th {\n        text-align: right;\n    }\n</style>\n<table border=\"1\" class=\"dataframe\">\n  <thead>\n    <tr style=\"text-align: right;\">\n      <th></th>\n      <th>№№</th>\n      <th>Отсчет по дальномеру kl, м</th>\n      <th>Отсчет по гориз. Кругу</th>\n      <th>Отметки реечн. точек Hр.т., м</th>\n    </tr>\n  </thead>\n  <tbody>\n    <tr>\n      <th>0</th>\n      <td>ПЗ41 - ПЗ42</td>\n      <td>NaN</td>\n      <td>NaN</td>\n      <td>NaN</td>\n    </tr>\n    <tr>\n      <th>1</th>\n      <td>1</td>\n      <td>88.0</td>\n      <td>12.033333</td>\n      <td>129.550000</td>\n    </tr>\n    <tr>\n      <th>2</th>\n      <td>2</td>\n      <td>111.0</td>\n      <td>78.183333</td>\n      <td>128.540000</td>\n    </tr>\n    <tr>\n      <th>3</th>\n      <td>3</td>\n      <td>155.0</td>\n      <td>136.400000</td>\n      <td>128.950000</td>\n    </tr>\n    <tr>\n      <th>4</th>\n      <td>4</td>\n      <td>132.0</td>\n      <td>144.916667</td>\n      <td>128.910000</td>\n    </tr>\n    <tr>\n      <th>5</th>\n      <td>5</td>\n      <td>141.0</td>\n      <td>195.450000</td>\n      <td>132.320000</td>\n    </tr>\n    <tr>\n      <th>6</th>\n      <td>111 - ПЗ41</td>\n      <td>NaN</td>\n      <td>NaN</td>\n      <td>NaN</td>\n    </tr>\n    <tr>\n      <th>7</th>\n      <td>6</td>\n      <td>94.0</td>\n      <td>125.416667</td>\n      <td>133.638469</td>\n    </tr>\n    <tr>\n      <th>8</th>\n      <td>7</td>\n      <td>131.0</td>\n      <td>181.350000</td>\n      <td>133.928469</td>\n    </tr>\n    <tr>\n      <th>9</th>\n      <td>8</td>\n      <td>128.0</td>\n      <td>231.250000</td>\n      <td>132.538469</td>\n    </tr>\n    <tr>\n      <th>10</th>\n      <td>9</td>\n      <td>124.0</td>\n      <td>337.600000</td>\n      <td>132.438469</td>\n    </tr>\n    <tr>\n      <th>11</th>\n      <td>112 - 111</td>\n      <td>NaN</td>\n      <td>NaN</td>\n      <td>NaN</td>\n    </tr>\n    <tr>\n      <th>12</th>\n      <td>10</td>\n      <td>87.0</td>\n      <td>104.266667</td>\n      <td>131.861694</td>\n    </tr>\n    <tr>\n      <th>13</th>\n      <td>11</td>\n      <td>132.0</td>\n      <td>253.150000</td>\n      <td>131.671694</td>\n    </tr>\n    <tr>\n      <th>14</th>\n      <td>12</td>\n      <td>127.0</td>\n      <td>277.800000</td>\n      <td>130.681694</td>\n    </tr>\n    <tr>\n      <th>15</th>\n      <td>13</td>\n      <td>53.0</td>\n      <td>279.666667</td>\n      <td>132.181694</td>\n    </tr>\n    <tr>\n      <th>16</th>\n      <td>113 - 112</td>\n      <td>NaN</td>\n      <td>NaN</td>\n      <td>NaN</td>\n    </tr>\n    <tr>\n      <th>17</th>\n      <td>14</td>\n      <td>114.0</td>\n      <td>46.983333</td>\n      <td>131.598756</td>\n    </tr>\n    <tr>\n      <th>18</th>\n      <td>15</td>\n      <td>82.0</td>\n      <td>101.450000</td>\n      <td>131.928756</td>\n    </tr>\n    <tr>\n      <th>19</th>\n      <td>16</td>\n      <td>84.5</td>\n      <td>265.416667</td>\n      <td>133.778756</td>\n    </tr>\n    <tr>\n      <th>20</th>\n      <td>17</td>\n      <td>81.5</td>\n      <td>317.433333</td>\n      <td>133.688756</td>\n    </tr>\n    <tr>\n      <th>21</th>\n      <td>ПЗ42 - 113</td>\n      <td>NaN</td>\n      <td>NaN</td>\n      <td>NaN</td>\n    </tr>\n    <tr>\n      <th>22</th>\n      <td>18</td>\n      <td>54.0</td>\n      <td>12.950000</td>\n      <td>133.290000</td>\n    </tr>\n    <tr>\n      <th>23</th>\n      <td>19</td>\n      <td>123.0</td>\n      <td>178.016667</td>\n      <td>127.870000</td>\n    </tr>\n    <tr>\n      <th>24</th>\n      <td>20</td>\n      <td>90.0</td>\n      <td>178.550000</td>\n      <td>127.900000</td>\n    </tr>\n    <tr>\n      <th>25</th>\n      <td>21</td>\n      <td>148.0</td>\n      <td>234.933333</td>\n      <td>128.190000</td>\n    </tr>\n    <tr>\n      <th>26</th>\n      <td>22</td>\n      <td>76.5</td>\n      <td>275.850000</td>\n      <td>131.190000</td>\n    </tr>\n    <tr>\n      <th>27</th>\n      <td>23</td>\n      <td>96.0</td>\n      <td>334.766667</td>\n      <td>133.290000</td>\n    </tr>\n  </tbody>\n</table>\n</div>"
     },
     "execution_count": 657,
     "metadata": {},
     "output_type": "execute_result"
    }
   ],
   "source": [
    "table_10 = pd.read_excel('Геодезия.xlsm', sheet_name='pandasPlan10')\n",
    "\n",
    "table_10"
   ],
   "metadata": {
    "collapsed": false
   }
  },
  {
   "cell_type": "code",
   "execution_count": 658,
   "outputs": [],
   "source": [
    "def add_layer(id: int, active: bool = True, name: str = None):\n",
    "    obj = iDocument2D.ksLayer(id)\n",
    "    iLayerParam = kompas6_api5_module.ksLayerParam(kompas_object.GetParamStruct(kompas6_constants.ko_LayerParam))\n",
    "    iLayerParam.Init()\n",
    "    if name:\n",
    "        iLayerParam.name = name\n",
    "    iLayerParam.state = int(active)\n",
    "    iDocument2D.ksSetObjParam(obj, iLayerParam, LDefin2D.ALLPARAM)\n",
    "\n",
    "\n",
    "def add_view(name: str, scale: float = 1, x=0, y=0):\n",
    "    iViewParam = kompas6_api5_module.ksViewParam(kompas_object.GetParamStruct(kompas6_constants.ko_ViewParam))\n",
    "    iViewParam.Init()\n",
    "    iViewParam.angle = 0\n",
    "    iViewParam.color = 0\n",
    "    iViewParam.name = name\n",
    "    iViewParam.scale_ = scale\n",
    "    iViewParam.state = 3\n",
    "    iViewParam.x = x\n",
    "    iViewParam.y = y\n",
    "    iDocument2D.ksCreateSheetView(iViewParam, 0)\n",
    "\n",
    "\n",
    "def add_text(text: str, x: float, y: float, angle: float = 0, font_size: float = 2.5):\n",
    "    iParagraphParam = kompas6_api5_module.ksParagraphParam(\n",
    "        kompas_object.GetParamStruct(kompas6_constants.ko_ParagraphParam))\n",
    "    iParagraphParam.Init()\n",
    "    iParagraphParam.x = x\n",
    "    iParagraphParam.y = y\n",
    "    iParagraphParam.ang = angle\n",
    "    iParagraphParam.height = 3.55\n",
    "    iParagraphParam.width = 4\n",
    "    iParagraphParam.hFormat = 0\n",
    "    iParagraphParam.vFormat = 0\n",
    "    iParagraphParam.style = 1\n",
    "    iDocument2D.ksParagraph(iParagraphParam)\n",
    "\n",
    "    iTextLineParam = kompas6_api5_module.ksTextLineParam(\n",
    "        kompas_object.GetParamStruct(kompas6_constants.ko_TextLineParam))\n",
    "    iTextLineParam.Init()\n",
    "    iTextLineParam.style = 1\n",
    "    iTextItemArray = kompas_object.GetDynamicArray(LDefin2D.TEXT_ITEM_ARR)\n",
    "    iTextItemParam = kompas6_api5_module.ksTextItemParam(\n",
    "        kompas_object.GetParamStruct(kompas6_constants.ko_TextItemParam))\n",
    "    iTextItemParam.Init()\n",
    "    iTextItemParam.iSNumb = 0\n",
    "    iTextItemParam.s = text\n",
    "    iTextItemParam.type = 0\n",
    "    iTextItemFont = kompas6_api5_module.ksTextItemFont(iTextItemParam.GetItemFont())\n",
    "    iTextItemFont.Init()\n",
    "    iTextItemFont.bitVector = 4096\n",
    "    iTextItemFont.color = 0\n",
    "    iTextItemFont.fontName = \"GOST type A\"\n",
    "    iTextItemFont.height = font_size\n",
    "    iTextItemFont.ksu = 1\n",
    "    iTextItemArray.ksAddArrayItem(-1, iTextItemParam)\n",
    "    iTextLineParam.SetTextItemArr(iTextItemArray)\n",
    "\n",
    "    iDocument2D.ksTextLine(iTextLineParam)\n",
    "    obj = iDocument2D.ksEndObj()\n",
    "\n"
   ],
   "metadata": {
    "collapsed": false
   }
  },
  {
   "cell_type": "code",
   "execution_count": 659,
   "outputs": [],
   "source": [
    "ONE_TO_SCALE = 2000\n",
    "\n",
    "add_view(\"План\", 1/ONE_TO_SCALE)\n",
    "add_layer(1,True,\"Основные Точки\")\n",
    "\n",
    "for i, row in table_79.iterrows():\n",
    "    # X и Y перевёрнуты\n",
    "    obj = iDocument2D.ksCircle(row[\"Y\"] * 1000, row[\"X\"] * 1000, 1000, 1)\n",
    "    add_text(str(row[\"№№\"]) + \" (\" + str(\"{:1.2f}\".format(row[\"H\"])).replace(\".\", \",\") + \")\", row[\"Y\"] * 1000 - 15000, row[\"X\"] * 1000 - 7000)\n"
   ],
   "metadata": {
    "collapsed": false
   }
  },
  {
   "cell_type": "code",
   "execution_count": 660,
   "outputs": [],
   "source": [
    "# https://stackoverflow.com/questions/7586063/how-to-calculate-the-angle-between-a-line-and-the-horizontal-axis\n",
    "def angle_trunc(a):\n",
    "    while a < 0.0:\n",
    "        a += pi * 2\n",
    "    return a\n",
    "\n",
    "def getAngleBetweenPoints(x_orig, y_orig, x_landmark, y_landmark):\n",
    "    deltaY = y_landmark - y_orig\n",
    "    deltaX = x_landmark - x_orig\n",
    "    return angle_trunc(atan2(deltaY, deltaX))"
   ],
   "metadata": {
    "collapsed": false
   }
  },
  {
   "cell_type": "code",
   "execution_count": 661,
   "outputs": [
    {
     "data": {
      "text/plain": "             №№  Отсчет по дальномеру kl, м  Отсчет по гориз. Кругу  \\\n0   ПЗ41 - ПЗ42                         NaN                     NaN   \n1             1                        88.0               12.033333   \n2             2                       111.0               78.183333   \n3             3                       155.0              136.400000   \n4             4                       132.0              144.916667   \n5             5                       141.0              195.450000   \n6    111 - ПЗ41                         NaN                     NaN   \n7             6                        94.0              125.416667   \n8             7                       131.0              181.350000   \n9             8                       128.0              231.250000   \n10            9                       124.0              337.600000   \n11    112 - 111                         NaN                     NaN   \n12           10                        87.0              104.266667   \n13           11                       132.0              253.150000   \n14           12                       127.0              277.800000   \n15           13                        53.0              279.666667   \n16    113 - 112                         NaN                     NaN   \n17           14                       114.0               46.983333   \n18           15                        82.0              101.450000   \n19           16                        84.5              265.416667   \n20           17                        81.5              317.433333   \n21   ПЗ42 - 113                         NaN                     NaN   \n22           18                        54.0               12.950000   \n23           19                       123.0              178.016667   \n24           20                        90.0              178.550000   \n25           21                       148.0              234.933333   \n26           22                        76.5              275.850000   \n27           23                        96.0              334.766667   \n\n    Отметки реечн. точек Hр.т., м  \n0                             NaN  \n1                      129.550000  \n2                      128.540000  \n3                      128.950000  \n4                      128.910000  \n5                      132.320000  \n6                             NaN  \n7                      133.638469  \n8                      133.928469  \n9                      132.538469  \n10                     132.438469  \n11                            NaN  \n12                     131.861694  \n13                     131.671694  \n14                     130.681694  \n15                     132.181694  \n16                            NaN  \n17                     131.598756  \n18                     131.928756  \n19                     133.778756  \n20                     133.688756  \n21                            NaN  \n22                     133.290000  \n23                     127.870000  \n24                     127.900000  \n25                     128.190000  \n26                     131.190000  \n27                     133.290000  ",
      "text/html": "<div>\n<style scoped>\n    .dataframe tbody tr th:only-of-type {\n        vertical-align: middle;\n    }\n\n    .dataframe tbody tr th {\n        vertical-align: top;\n    }\n\n    .dataframe thead th {\n        text-align: right;\n    }\n</style>\n<table border=\"1\" class=\"dataframe\">\n  <thead>\n    <tr style=\"text-align: right;\">\n      <th></th>\n      <th>№№</th>\n      <th>Отсчет по дальномеру kl, м</th>\n      <th>Отсчет по гориз. Кругу</th>\n      <th>Отметки реечн. точек Hр.т., м</th>\n    </tr>\n  </thead>\n  <tbody>\n    <tr>\n      <th>0</th>\n      <td>ПЗ41 - ПЗ42</td>\n      <td>NaN</td>\n      <td>NaN</td>\n      <td>NaN</td>\n    </tr>\n    <tr>\n      <th>1</th>\n      <td>1</td>\n      <td>88.0</td>\n      <td>12.033333</td>\n      <td>129.550000</td>\n    </tr>\n    <tr>\n      <th>2</th>\n      <td>2</td>\n      <td>111.0</td>\n      <td>78.183333</td>\n      <td>128.540000</td>\n    </tr>\n    <tr>\n      <th>3</th>\n      <td>3</td>\n      <td>155.0</td>\n      <td>136.400000</td>\n      <td>128.950000</td>\n    </tr>\n    <tr>\n      <th>4</th>\n      <td>4</td>\n      <td>132.0</td>\n      <td>144.916667</td>\n      <td>128.910000</td>\n    </tr>\n    <tr>\n      <th>5</th>\n      <td>5</td>\n      <td>141.0</td>\n      <td>195.450000</td>\n      <td>132.320000</td>\n    </tr>\n    <tr>\n      <th>6</th>\n      <td>111 - ПЗ41</td>\n      <td>NaN</td>\n      <td>NaN</td>\n      <td>NaN</td>\n    </tr>\n    <tr>\n      <th>7</th>\n      <td>6</td>\n      <td>94.0</td>\n      <td>125.416667</td>\n      <td>133.638469</td>\n    </tr>\n    <tr>\n      <th>8</th>\n      <td>7</td>\n      <td>131.0</td>\n      <td>181.350000</td>\n      <td>133.928469</td>\n    </tr>\n    <tr>\n      <th>9</th>\n      <td>8</td>\n      <td>128.0</td>\n      <td>231.250000</td>\n      <td>132.538469</td>\n    </tr>\n    <tr>\n      <th>10</th>\n      <td>9</td>\n      <td>124.0</td>\n      <td>337.600000</td>\n      <td>132.438469</td>\n    </tr>\n    <tr>\n      <th>11</th>\n      <td>112 - 111</td>\n      <td>NaN</td>\n      <td>NaN</td>\n      <td>NaN</td>\n    </tr>\n    <tr>\n      <th>12</th>\n      <td>10</td>\n      <td>87.0</td>\n      <td>104.266667</td>\n      <td>131.861694</td>\n    </tr>\n    <tr>\n      <th>13</th>\n      <td>11</td>\n      <td>132.0</td>\n      <td>253.150000</td>\n      <td>131.671694</td>\n    </tr>\n    <tr>\n      <th>14</th>\n      <td>12</td>\n      <td>127.0</td>\n      <td>277.800000</td>\n      <td>130.681694</td>\n    </tr>\n    <tr>\n      <th>15</th>\n      <td>13</td>\n      <td>53.0</td>\n      <td>279.666667</td>\n      <td>132.181694</td>\n    </tr>\n    <tr>\n      <th>16</th>\n      <td>113 - 112</td>\n      <td>NaN</td>\n      <td>NaN</td>\n      <td>NaN</td>\n    </tr>\n    <tr>\n      <th>17</th>\n      <td>14</td>\n      <td>114.0</td>\n      <td>46.983333</td>\n      <td>131.598756</td>\n    </tr>\n    <tr>\n      <th>18</th>\n      <td>15</td>\n      <td>82.0</td>\n      <td>101.450000</td>\n      <td>131.928756</td>\n    </tr>\n    <tr>\n      <th>19</th>\n      <td>16</td>\n      <td>84.5</td>\n      <td>265.416667</td>\n      <td>133.778756</td>\n    </tr>\n    <tr>\n      <th>20</th>\n      <td>17</td>\n      <td>81.5</td>\n      <td>317.433333</td>\n      <td>133.688756</td>\n    </tr>\n    <tr>\n      <th>21</th>\n      <td>ПЗ42 - 113</td>\n      <td>NaN</td>\n      <td>NaN</td>\n      <td>NaN</td>\n    </tr>\n    <tr>\n      <th>22</th>\n      <td>18</td>\n      <td>54.0</td>\n      <td>12.950000</td>\n      <td>133.290000</td>\n    </tr>\n    <tr>\n      <th>23</th>\n      <td>19</td>\n      <td>123.0</td>\n      <td>178.016667</td>\n      <td>127.870000</td>\n    </tr>\n    <tr>\n      <th>24</th>\n      <td>20</td>\n      <td>90.0</td>\n      <td>178.550000</td>\n      <td>127.900000</td>\n    </tr>\n    <tr>\n      <th>25</th>\n      <td>21</td>\n      <td>148.0</td>\n      <td>234.933333</td>\n      <td>128.190000</td>\n    </tr>\n    <tr>\n      <th>26</th>\n      <td>22</td>\n      <td>76.5</td>\n      <td>275.850000</td>\n      <td>131.190000</td>\n    </tr>\n    <tr>\n      <th>27</th>\n      <td>23</td>\n      <td>96.0</td>\n      <td>334.766667</td>\n      <td>133.290000</td>\n    </tr>\n  </tbody>\n</table>\n</div>"
     },
     "execution_count": 661,
     "metadata": {},
     "output_type": "execute_result"
    }
   ],
   "source": [
    "table_10"
   ],
   "metadata": {
    "collapsed": false
   }
  },
  {
   "cell_type": "code",
   "execution_count": 662,
   "outputs": [],
   "source": [
    "add_layer(2,True,\"Побочные Точки\")\n",
    "\n",
    "extra_points = {}\n",
    "\n",
    "for i, row in table_10.iterrows():\n",
    "    if \" - \" in str(row[\"№№\"]):\n",
    "        origin_label, dest_label = row[\"№№\"].split(\" - \")\n",
    "\n",
    "        if origin_label.isdigit():\n",
    "            origin_label = int(origin_label)\n",
    "\n",
    "        if dest_label.isdigit():\n",
    "            dest_label = int(dest_label)\n",
    "\n",
    "        origin = (table_79.loc[table_79['№№'] == origin_label][\"Y\"].values[0], table_79.loc[table_79['№№'] == origin_label][\"X\"].values[0])\n",
    "\n",
    "        _dest = (table_79.loc[table_79['№№'] == dest_label][\"Y\"].values[0], table_79.loc[table_79['№№'] == dest_label][\"X\"].values[0])\n",
    "\n",
    "        angle = np.rad2deg(getAngleBetweenPoints( origin[0], origin[1], _dest[0], _dest[1]))\n",
    "        _i_am_shit_at_coding = list(origin)\n",
    "        _i_am_shit_at_coding.append(table_79.loc[table_79['№№'] == origin_label][\"H\"].values[0])\n",
    "        extra_points.update({str(origin_label): _i_am_shit_at_coding})\n",
    "        continue\n",
    "    else:\n",
    "        if not origin:\n",
    "            continue\n",
    "    _d = row[\"Отсчет по дальномеру kl, м\"]\n",
    "    _alpha = row[\"Отсчет по гориз. Кругу\"]\n",
    "    xx = origin[0] + (_d * cos(np.radians(angle - _alpha)))\n",
    "    yy = origin[1] + (_d * sin(np.radians(angle - _alpha)))\n",
    "    obj = iDocument2D.ksLineSeg(origin[0] * 1000, origin[1] * 1000, xx * 1000,yy * 1000, 6)\n",
    "\n",
    "    add_text(str(row[\"№№\"]) + \" (\" + str(\"{:1.3f}\".format(row[\"Отметки реечн. точек Hр.т., м\"])).replace(\".\", \",\") + \")\", xx * 1000 - 10000, yy * 1000 - 8000)\n",
    "\n",
    "\n",
    "    extra_points.update({str(row[\"№№\"]): [xx, yy, row[\"Отметки реечн. точек Hр.т., м\"]]})\n",
    "\n"
   ],
   "metadata": {
    "collapsed": false
   }
  },
  {
   "cell_type": "code",
   "execution_count": 663,
   "outputs": [],
   "source": [
    "interpolated_points = {}"
   ],
   "metadata": {
    "collapsed": false
   }
  },
  {
   "cell_type": "code",
   "execution_count": 664,
   "outputs": [],
   "source": [
    "# CON_P41 = \"1,2,4,5,21\".split(\",\")\n",
    "# CON_1 = [\"21\"]\n",
    "# CON_5 =[\"4\"]\n",
    "\n",
    "CON_111 = \"5,6,7,8,9,112,ПЗ41\".split(\",\")\n",
    "\n",
    "center_point = np.array(extra_points[\"111\"])\n",
    "for point in CON_111:\n",
    "    point = np.array(extra_points[point])\n",
    "\n",
    "    if center_point[2] > point[2]:\n",
    "        _coordinate_dif = center_point[:2] - point[:2]\n",
    "        xia = [center_point[2], point[2]]\n",
    "        hight_dif = range(int(ceil(point[2])), int(round(center_point[2])))\n",
    "    else:\n",
    "        _coordinate_dif = point[:2] - center_point[:2]\n",
    "        xia = [point[2], center_point[2]]\n",
    "        hight_dif = range(int(ceil(center_point[2])), int(round(point[2])))\n",
    "\n",
    "    length = round(np.sqrt(np.sum(np.power(_coordinate_dif,2))))\n",
    "    yia = [0, length]\n",
    "\n",
    "    _alpha = np.rad2deg(getAngleBetweenPoints( center_point[0], center_point[1], point[0], point[1]))\n",
    "\n",
    "    x = [0, length]\n",
    "    f = interpolate.interp1d(xia, yia)\n",
    "\n",
    "    for i in hight_dif:\n",
    "        _d = f(i)\n",
    "        xx = center_point[0] * 1000 + (_d * 1000 * cos(np.radians(_alpha)))\n",
    "        yy = center_point[1] * 1000 + (_d * 1000 * sin(np.radians(_alpha)))\n",
    "        obj = iDocument2D.ksPoint(xx  ,yy , 0)\n",
    "\n",
    "        if i in interpolated_points:\n",
    "            interpolated_points[i].append((xx, yy))\n",
    "        else:\n",
    "            interpolated_points.update({i: [(xx, yy)]})\n"
   ],
   "metadata": {
    "collapsed": false
   }
  },
  {
   "cell_type": "code",
   "execution_count": 665,
   "outputs": [
    {
     "data": {
      "text/plain": "True"
     },
     "execution_count": 665,
     "metadata": {},
     "output_type": "execute_result"
    }
   ],
   "source": [
    "x = [extra_points[p][0] for p in extra_points]\n",
    "y = [extra_points[p][1] for p in extra_points]\n",
    "centroid = (sum(x) / len(extra_points), sum(y) / len(extra_points))\n",
    "obj = iDocument2D.ksPoint(*(cord * 1000 for cord in centroid), 0)\n",
    "\n",
    "current_view = kompas_document_2d.ViewsAndLayersManager.Views.ActiveView\n",
    "current_view.X = 594/2 - centroid[0] / 2\n",
    "current_view.Y = 420/2 - centroid[1] / 2\n",
    "current_view.Update()\n"
   ],
   "metadata": {
    "collapsed": false
   }
  },
  {
   "cell_type": "code",
   "execution_count": 666,
   "outputs": [],
   "source": [
    "for height in interpolated_points:\n",
    "\n",
    "    cent=(sum([p[0] for p in interpolated_points[height]])/len(interpolated_points[height]),sum([p[1] for p in interpolated_points[height]])/len(interpolated_points[height]))\n",
    "    interpolated_points[height].sort( key=lambda p: atan2(p[1]-cent[1],p[0]-cent[0]))\n",
    "\n",
    "    obj = iDocument2D.ksBezier(True, 1)\n",
    "    for point in interpolated_points[height]:\n",
    "        dot = iDocument2D.ksPoint(*point, 0)\n",
    "    iDocument2D.ksEndObj()"
   ],
   "metadata": {
    "collapsed": false
   }
  },
  {
   "cell_type": "code",
   "execution_count": 666,
   "outputs": [],
   "source": [],
   "metadata": {
    "collapsed": false
   }
  }
 ],
 "metadata": {
  "kernelspec": {
   "display_name": "Python 3",
   "language": "python",
   "name": "python3"
  },
  "language_info": {
   "codemirror_mode": {
    "name": "ipython",
    "version": 2
   },
   "file_extension": ".py",
   "mimetype": "text/x-python",
   "name": "python",
   "nbconvert_exporter": "python",
   "pygments_lexer": "ipython2",
   "version": "2.7.6"
  }
 },
 "nbformat": 4,
 "nbformat_minor": 0
}
